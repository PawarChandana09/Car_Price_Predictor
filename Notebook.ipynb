{
 "cells": [
  {
   "cell_type": "code",
   "execution_count": 1,
   "id": "847d42ad",
   "metadata": {},
   "outputs": [],
   "source": [
    "import numpy as np\n",
    "import pandas as pd\n",
    "import matplotlib.pyplot as plt\n",
    "import seaborn as sns\n",
    "from warnings import filterwarnings\n",
    "filterwarnings('ignore')\n",
    "pd.set_option('display.max_columns',None)\n",
    "pd.set_option('display.max_rows',None)"
   ]
  },
  {
   "cell_type": "code",
   "execution_count": 2,
   "id": "834a3d0d",
   "metadata": {},
   "outputs": [],
   "source": [
    "df = pd.read_csv('train.csv')\n",
    "df.head()\n",
    "test = pd.read_csv('test.csv')"
   ]
  },
  {
   "cell_type": "code",
   "execution_count": 102,
   "id": "48412568",
   "metadata": {
    "scrolled": true
   },
   "outputs": [
    {
     "data": {
      "text/html": [
       "<div>\n",
       "<style scoped>\n",
       "    .dataframe tbody tr th:only-of-type {\n",
       "        vertical-align: middle;\n",
       "    }\n",
       "\n",
       "    .dataframe tbody tr th {\n",
       "        vertical-align: top;\n",
       "    }\n",
       "\n",
       "    .dataframe thead th {\n",
       "        text-align: right;\n",
       "    }\n",
       "</style>\n",
       "<table border=\"1\" class=\"dataframe\">\n",
       "  <thead>\n",
       "    <tr style=\"text-align: right;\">\n",
       "      <th></th>\n",
       "      <th>ID</th>\n",
       "      <th>Price</th>\n",
       "      <th>Levy</th>\n",
       "      <th>Manufacturer</th>\n",
       "      <th>Model</th>\n",
       "      <th>Prod. year</th>\n",
       "      <th>Category</th>\n",
       "      <th>Leather interior</th>\n",
       "      <th>Fuel type</th>\n",
       "      <th>Engine volume</th>\n",
       "      <th>Mileage</th>\n",
       "      <th>Cylinders</th>\n",
       "      <th>Gear box type</th>\n",
       "      <th>Drive wheels</th>\n",
       "      <th>Doors</th>\n",
       "      <th>Wheel</th>\n",
       "      <th>Color</th>\n",
       "      <th>Airbags</th>\n",
       "    </tr>\n",
       "  </thead>\n",
       "  <tbody>\n",
       "    <tr>\n",
       "      <th>0</th>\n",
       "      <td>45654403</td>\n",
       "      <td>13328</td>\n",
       "      <td>1399</td>\n",
       "      <td>LEXUS</td>\n",
       "      <td>RX 450</td>\n",
       "      <td>2010</td>\n",
       "      <td>Jeep</td>\n",
       "      <td>Yes</td>\n",
       "      <td>Hybrid</td>\n",
       "      <td>3.5</td>\n",
       "      <td>186005 km</td>\n",
       "      <td>6.0</td>\n",
       "      <td>Automatic</td>\n",
       "      <td>4x4</td>\n",
       "      <td>04-May</td>\n",
       "      <td>Left wheel</td>\n",
       "      <td>Silver</td>\n",
       "      <td>12</td>\n",
       "    </tr>\n",
       "    <tr>\n",
       "      <th>1</th>\n",
       "      <td>44731507</td>\n",
       "      <td>16621</td>\n",
       "      <td>1018</td>\n",
       "      <td>CHEVROLET</td>\n",
       "      <td>Equinox</td>\n",
       "      <td>2011</td>\n",
       "      <td>Jeep</td>\n",
       "      <td>No</td>\n",
       "      <td>Petrol</td>\n",
       "      <td>3</td>\n",
       "      <td>192000 km</td>\n",
       "      <td>6.0</td>\n",
       "      <td>Tiptronic</td>\n",
       "      <td>4x4</td>\n",
       "      <td>04-May</td>\n",
       "      <td>Left wheel</td>\n",
       "      <td>Black</td>\n",
       "      <td>8</td>\n",
       "    </tr>\n",
       "    <tr>\n",
       "      <th>2</th>\n",
       "      <td>45774419</td>\n",
       "      <td>8467</td>\n",
       "      <td>-</td>\n",
       "      <td>HONDA</td>\n",
       "      <td>FIT</td>\n",
       "      <td>2006</td>\n",
       "      <td>Hatchback</td>\n",
       "      <td>No</td>\n",
       "      <td>Petrol</td>\n",
       "      <td>1.3</td>\n",
       "      <td>200000 km</td>\n",
       "      <td>4.0</td>\n",
       "      <td>Variator</td>\n",
       "      <td>Front</td>\n",
       "      <td>04-May</td>\n",
       "      <td>Right-hand drive</td>\n",
       "      <td>Black</td>\n",
       "      <td>2</td>\n",
       "    </tr>\n",
       "    <tr>\n",
       "      <th>3</th>\n",
       "      <td>45769185</td>\n",
       "      <td>3607</td>\n",
       "      <td>862</td>\n",
       "      <td>FORD</td>\n",
       "      <td>Escape</td>\n",
       "      <td>2011</td>\n",
       "      <td>Jeep</td>\n",
       "      <td>Yes</td>\n",
       "      <td>Hybrid</td>\n",
       "      <td>2.5</td>\n",
       "      <td>168966 km</td>\n",
       "      <td>4.0</td>\n",
       "      <td>Automatic</td>\n",
       "      <td>4x4</td>\n",
       "      <td>04-May</td>\n",
       "      <td>Left wheel</td>\n",
       "      <td>White</td>\n",
       "      <td>0</td>\n",
       "    </tr>\n",
       "    <tr>\n",
       "      <th>4</th>\n",
       "      <td>45809263</td>\n",
       "      <td>11726</td>\n",
       "      <td>446</td>\n",
       "      <td>HONDA</td>\n",
       "      <td>FIT</td>\n",
       "      <td>2014</td>\n",
       "      <td>Hatchback</td>\n",
       "      <td>Yes</td>\n",
       "      <td>Petrol</td>\n",
       "      <td>1.3</td>\n",
       "      <td>91901 km</td>\n",
       "      <td>4.0</td>\n",
       "      <td>Automatic</td>\n",
       "      <td>Front</td>\n",
       "      <td>04-May</td>\n",
       "      <td>Left wheel</td>\n",
       "      <td>Silver</td>\n",
       "      <td>4</td>\n",
       "    </tr>\n",
       "  </tbody>\n",
       "</table>\n",
       "</div>"
      ],
      "text/plain": [
       "         ID  Price  Levy Manufacturer    Model  Prod. year   Category  \\\n",
       "0  45654403  13328  1399        LEXUS   RX 450        2010       Jeep   \n",
       "1  44731507  16621  1018    CHEVROLET  Equinox        2011       Jeep   \n",
       "2  45774419   8467     -        HONDA      FIT        2006  Hatchback   \n",
       "3  45769185   3607   862         FORD   Escape        2011       Jeep   \n",
       "4  45809263  11726   446        HONDA      FIT        2014  Hatchback   \n",
       "\n",
       "  Leather interior Fuel type Engine volume    Mileage  Cylinders  \\\n",
       "0              Yes    Hybrid           3.5  186005 km        6.0   \n",
       "1               No    Petrol             3  192000 km        6.0   \n",
       "2               No    Petrol           1.3  200000 km        4.0   \n",
       "3              Yes    Hybrid           2.5  168966 km        4.0   \n",
       "4              Yes    Petrol           1.3   91901 km        4.0   \n",
       "\n",
       "  Gear box type Drive wheels   Doors             Wheel   Color  Airbags  \n",
       "0     Automatic          4x4  04-May        Left wheel  Silver       12  \n",
       "1     Tiptronic          4x4  04-May        Left wheel   Black        8  \n",
       "2      Variator        Front  04-May  Right-hand drive   Black        2  \n",
       "3     Automatic          4x4  04-May        Left wheel   White        0  \n",
       "4     Automatic        Front  04-May        Left wheel  Silver        4  "
      ]
     },
     "execution_count": 102,
     "metadata": {},
     "output_type": "execute_result"
    }
   ],
   "source": [
    "df.head()"
   ]
  },
  {
   "cell_type": "code",
   "execution_count": 103,
   "id": "9c459ec3",
   "metadata": {},
   "outputs": [
    {
     "data": {
      "text/plain": [
       "(19237, 18)"
      ]
     },
     "execution_count": 103,
     "metadata": {},
     "output_type": "execute_result"
    }
   ],
   "source": [
    "df.shape"
   ]
  },
  {
   "cell_type": "code",
   "execution_count": 3,
   "id": "4864d9b4",
   "metadata": {
    "scrolled": true
   },
   "outputs": [
    {
     "data": {
      "text/plain": [
       "(19237, 17)"
      ]
     },
     "execution_count": 3,
     "metadata": {},
     "output_type": "execute_result"
    }
   ],
   "source": [
    "df.index=df['ID']\n",
    "df.drop(columns='ID',inplace=True)\n",
    "df.shape"
   ]
  },
  {
   "cell_type": "code",
   "execution_count": 4,
   "id": "ef775876",
   "metadata": {},
   "outputs": [
    {
     "data": {
      "text/plain": [
       "(15725, 17)"
      ]
     },
     "execution_count": 4,
     "metadata": {},
     "output_type": "execute_result"
    }
   ],
   "source": [
    "df.drop_duplicates(inplace=True)\n",
    "df.shape"
   ]
  },
  {
   "cell_type": "code",
   "execution_count": 106,
   "id": "9661bb73",
   "metadata": {},
   "outputs": [
    {
     "data": {
      "text/html": [
       "<div>\n",
       "<style scoped>\n",
       "    .dataframe tbody tr th:only-of-type {\n",
       "        vertical-align: middle;\n",
       "    }\n",
       "\n",
       "    .dataframe tbody tr th {\n",
       "        vertical-align: top;\n",
       "    }\n",
       "\n",
       "    .dataframe thead th {\n",
       "        text-align: right;\n",
       "    }\n",
       "</style>\n",
       "<table border=\"1\" class=\"dataframe\">\n",
       "  <thead>\n",
       "    <tr style=\"text-align: right;\">\n",
       "      <th></th>\n",
       "      <th>Price</th>\n",
       "      <th>Levy</th>\n",
       "      <th>Manufacturer</th>\n",
       "      <th>Model</th>\n",
       "      <th>Prod. year</th>\n",
       "      <th>Category</th>\n",
       "      <th>Leather interior</th>\n",
       "      <th>Fuel type</th>\n",
       "      <th>Engine volume</th>\n",
       "      <th>Mileage</th>\n",
       "      <th>Cylinders</th>\n",
       "      <th>Gear box type</th>\n",
       "      <th>Drive wheels</th>\n",
       "      <th>Doors</th>\n",
       "      <th>Wheel</th>\n",
       "      <th>Color</th>\n",
       "      <th>Airbags</th>\n",
       "    </tr>\n",
       "  </thead>\n",
       "  <tbody>\n",
       "    <tr>\n",
       "      <th>count</th>\n",
       "      <td>1.572500e+04</td>\n",
       "      <td>15725</td>\n",
       "      <td>15725</td>\n",
       "      <td>15725</td>\n",
       "      <td>15725.000000</td>\n",
       "      <td>15725</td>\n",
       "      <td>15725</td>\n",
       "      <td>15725</td>\n",
       "      <td>15725</td>\n",
       "      <td>15725</td>\n",
       "      <td>15725.000000</td>\n",
       "      <td>15725</td>\n",
       "      <td>15725</td>\n",
       "      <td>15725</td>\n",
       "      <td>15725</td>\n",
       "      <td>15725</td>\n",
       "      <td>15725.000000</td>\n",
       "    </tr>\n",
       "    <tr>\n",
       "      <th>unique</th>\n",
       "      <td>NaN</td>\n",
       "      <td>559</td>\n",
       "      <td>65</td>\n",
       "      <td>1590</td>\n",
       "      <td>NaN</td>\n",
       "      <td>11</td>\n",
       "      <td>2</td>\n",
       "      <td>7</td>\n",
       "      <td>107</td>\n",
       "      <td>7687</td>\n",
       "      <td>NaN</td>\n",
       "      <td>4</td>\n",
       "      <td>3</td>\n",
       "      <td>3</td>\n",
       "      <td>2</td>\n",
       "      <td>16</td>\n",
       "      <td>NaN</td>\n",
       "    </tr>\n",
       "    <tr>\n",
       "      <th>top</th>\n",
       "      <td>NaN</td>\n",
       "      <td>-</td>\n",
       "      <td>HYUNDAI</td>\n",
       "      <td>Prius</td>\n",
       "      <td>NaN</td>\n",
       "      <td>Sedan</td>\n",
       "      <td>Yes</td>\n",
       "      <td>Petrol</td>\n",
       "      <td>2</td>\n",
       "      <td>0 km</td>\n",
       "      <td>NaN</td>\n",
       "      <td>Automatic</td>\n",
       "      <td>Front</td>\n",
       "      <td>04-May</td>\n",
       "      <td>Left wheel</td>\n",
       "      <td>Black</td>\n",
       "      <td>NaN</td>\n",
       "    </tr>\n",
       "    <tr>\n",
       "      <th>freq</th>\n",
       "      <td>NaN</td>\n",
       "      <td>5684</td>\n",
       "      <td>3050</td>\n",
       "      <td>946</td>\n",
       "      <td>NaN</td>\n",
       "      <td>7010</td>\n",
       "      <td>10558</td>\n",
       "      <td>8824</td>\n",
       "      <td>3314</td>\n",
       "      <td>608</td>\n",
       "      <td>NaN</td>\n",
       "      <td>10088</td>\n",
       "      <td>10990</td>\n",
       "      <td>14855</td>\n",
       "      <td>14293</td>\n",
       "      <td>3835</td>\n",
       "      <td>NaN</td>\n",
       "    </tr>\n",
       "    <tr>\n",
       "      <th>mean</th>\n",
       "      <td>2.027944e+04</td>\n",
       "      <td>NaN</td>\n",
       "      <td>NaN</td>\n",
       "      <td>NaN</td>\n",
       "      <td>2010.518919</td>\n",
       "      <td>NaN</td>\n",
       "      <td>NaN</td>\n",
       "      <td>NaN</td>\n",
       "      <td>NaN</td>\n",
       "      <td>NaN</td>\n",
       "      <td>4.483561</td>\n",
       "      <td>NaN</td>\n",
       "      <td>NaN</td>\n",
       "      <td>NaN</td>\n",
       "      <td>NaN</td>\n",
       "      <td>NaN</td>\n",
       "      <td>6.543339</td>\n",
       "    </tr>\n",
       "    <tr>\n",
       "      <th>std</th>\n",
       "      <td>2.106390e+05</td>\n",
       "      <td>NaN</td>\n",
       "      <td>NaN</td>\n",
       "      <td>NaN</td>\n",
       "      <td>6.012122</td>\n",
       "      <td>NaN</td>\n",
       "      <td>NaN</td>\n",
       "      <td>NaN</td>\n",
       "      <td>NaN</td>\n",
       "      <td>NaN</td>\n",
       "      <td>1.134466</td>\n",
       "      <td>NaN</td>\n",
       "      <td>NaN</td>\n",
       "      <td>NaN</td>\n",
       "      <td>NaN</td>\n",
       "      <td>NaN</td>\n",
       "      <td>4.067728</td>\n",
       "    </tr>\n",
       "    <tr>\n",
       "      <th>min</th>\n",
       "      <td>1.000000e+00</td>\n",
       "      <td>NaN</td>\n",
       "      <td>NaN</td>\n",
       "      <td>NaN</td>\n",
       "      <td>1939.000000</td>\n",
       "      <td>NaN</td>\n",
       "      <td>NaN</td>\n",
       "      <td>NaN</td>\n",
       "      <td>NaN</td>\n",
       "      <td>NaN</td>\n",
       "      <td>1.000000</td>\n",
       "      <td>NaN</td>\n",
       "      <td>NaN</td>\n",
       "      <td>NaN</td>\n",
       "      <td>NaN</td>\n",
       "      <td>NaN</td>\n",
       "      <td>0.000000</td>\n",
       "    </tr>\n",
       "    <tr>\n",
       "      <th>25%</th>\n",
       "      <td>7.527000e+03</td>\n",
       "      <td>NaN</td>\n",
       "      <td>NaN</td>\n",
       "      <td>NaN</td>\n",
       "      <td>2008.000000</td>\n",
       "      <td>NaN</td>\n",
       "      <td>NaN</td>\n",
       "      <td>NaN</td>\n",
       "      <td>NaN</td>\n",
       "      <td>NaN</td>\n",
       "      <td>4.000000</td>\n",
       "      <td>NaN</td>\n",
       "      <td>NaN</td>\n",
       "      <td>NaN</td>\n",
       "      <td>NaN</td>\n",
       "      <td>NaN</td>\n",
       "      <td>4.000000</td>\n",
       "    </tr>\n",
       "    <tr>\n",
       "      <th>50%</th>\n",
       "      <td>1.416600e+04</td>\n",
       "      <td>NaN</td>\n",
       "      <td>NaN</td>\n",
       "      <td>NaN</td>\n",
       "      <td>2012.000000</td>\n",
       "      <td>NaN</td>\n",
       "      <td>NaN</td>\n",
       "      <td>NaN</td>\n",
       "      <td>NaN</td>\n",
       "      <td>NaN</td>\n",
       "      <td>4.000000</td>\n",
       "      <td>NaN</td>\n",
       "      <td>NaN</td>\n",
       "      <td>NaN</td>\n",
       "      <td>NaN</td>\n",
       "      <td>NaN</td>\n",
       "      <td>6.000000</td>\n",
       "    </tr>\n",
       "    <tr>\n",
       "      <th>75%</th>\n",
       "      <td>2.336400e+04</td>\n",
       "      <td>NaN</td>\n",
       "      <td>NaN</td>\n",
       "      <td>NaN</td>\n",
       "      <td>2014.000000</td>\n",
       "      <td>NaN</td>\n",
       "      <td>NaN</td>\n",
       "      <td>NaN</td>\n",
       "      <td>NaN</td>\n",
       "      <td>NaN</td>\n",
       "      <td>4.000000</td>\n",
       "      <td>NaN</td>\n",
       "      <td>NaN</td>\n",
       "      <td>NaN</td>\n",
       "      <td>NaN</td>\n",
       "      <td>NaN</td>\n",
       "      <td>12.000000</td>\n",
       "    </tr>\n",
       "    <tr>\n",
       "      <th>max</th>\n",
       "      <td>2.630750e+07</td>\n",
       "      <td>NaN</td>\n",
       "      <td>NaN</td>\n",
       "      <td>NaN</td>\n",
       "      <td>2020.000000</td>\n",
       "      <td>NaN</td>\n",
       "      <td>NaN</td>\n",
       "      <td>NaN</td>\n",
       "      <td>NaN</td>\n",
       "      <td>NaN</td>\n",
       "      <td>16.000000</td>\n",
       "      <td>NaN</td>\n",
       "      <td>NaN</td>\n",
       "      <td>NaN</td>\n",
       "      <td>NaN</td>\n",
       "      <td>NaN</td>\n",
       "      <td>16.000000</td>\n",
       "    </tr>\n",
       "  </tbody>\n",
       "</table>\n",
       "</div>"
      ],
      "text/plain": [
       "               Price   Levy Manufacturer  Model    Prod. year Category  \\\n",
       "count   1.572500e+04  15725        15725  15725  15725.000000    15725   \n",
       "unique           NaN    559           65   1590           NaN       11   \n",
       "top              NaN      -      HYUNDAI  Prius           NaN    Sedan   \n",
       "freq             NaN   5684         3050    946           NaN     7010   \n",
       "mean    2.027944e+04    NaN          NaN    NaN   2010.518919      NaN   \n",
       "std     2.106390e+05    NaN          NaN    NaN      6.012122      NaN   \n",
       "min     1.000000e+00    NaN          NaN    NaN   1939.000000      NaN   \n",
       "25%     7.527000e+03    NaN          NaN    NaN   2008.000000      NaN   \n",
       "50%     1.416600e+04    NaN          NaN    NaN   2012.000000      NaN   \n",
       "75%     2.336400e+04    NaN          NaN    NaN   2014.000000      NaN   \n",
       "max     2.630750e+07    NaN          NaN    NaN   2020.000000      NaN   \n",
       "\n",
       "       Leather interior Fuel type Engine volume Mileage     Cylinders  \\\n",
       "count             15725     15725         15725   15725  15725.000000   \n",
       "unique                2         7           107    7687           NaN   \n",
       "top                 Yes    Petrol             2    0 km           NaN   \n",
       "freq              10558      8824          3314     608           NaN   \n",
       "mean                NaN       NaN           NaN     NaN      4.483561   \n",
       "std                 NaN       NaN           NaN     NaN      1.134466   \n",
       "min                 NaN       NaN           NaN     NaN      1.000000   \n",
       "25%                 NaN       NaN           NaN     NaN      4.000000   \n",
       "50%                 NaN       NaN           NaN     NaN      4.000000   \n",
       "75%                 NaN       NaN           NaN     NaN      4.000000   \n",
       "max                 NaN       NaN           NaN     NaN     16.000000   \n",
       "\n",
       "       Gear box type Drive wheels   Doors       Wheel  Color       Airbags  \n",
       "count          15725        15725   15725       15725  15725  15725.000000  \n",
       "unique             4            3       3           2     16           NaN  \n",
       "top        Automatic        Front  04-May  Left wheel  Black           NaN  \n",
       "freq           10088        10990   14855       14293   3835           NaN  \n",
       "mean             NaN          NaN     NaN         NaN    NaN      6.543339  \n",
       "std              NaN          NaN     NaN         NaN    NaN      4.067728  \n",
       "min              NaN          NaN     NaN         NaN    NaN      0.000000  \n",
       "25%              NaN          NaN     NaN         NaN    NaN      4.000000  \n",
       "50%              NaN          NaN     NaN         NaN    NaN      6.000000  \n",
       "75%              NaN          NaN     NaN         NaN    NaN     12.000000  \n",
       "max              NaN          NaN     NaN         NaN    NaN     16.000000  "
      ]
     },
     "execution_count": 106,
     "metadata": {},
     "output_type": "execute_result"
    }
   ],
   "source": [
    "df.describe(include='all')"
   ]
  },
  {
   "cell_type": "code",
   "execution_count": 23,
   "id": "ae73cbd8",
   "metadata": {},
   "outputs": [
    {
     "data": {
      "text/plain": [
       "Price               0\n",
       "Levy                0\n",
       "Manufacturer        0\n",
       "Model               0\n",
       "Prod. year          0\n",
       "Category            0\n",
       "Leather interior    0\n",
       "Fuel type           0\n",
       "Engine volume       0\n",
       "Mileage             0\n",
       "Cylinders           0\n",
       "Gear box type       0\n",
       "Drive wheels        0\n",
       "Doors               0\n",
       "Wheel               0\n",
       "Color               0\n",
       "Airbags             0\n",
       "dtype: int64"
      ]
     },
     "execution_count": 23,
     "metadata": {},
     "output_type": "execute_result"
    }
   ],
   "source": [
    "df.isna().sum()"
   ]
  },
  {
   "cell_type": "code",
   "execution_count": 24,
   "id": "be6568ae",
   "metadata": {},
   "outputs": [
    {
     "data": {
      "text/plain": [
       "Price                 int64\n",
       "Levy                 object\n",
       "Manufacturer         object\n",
       "Model                object\n",
       "Prod. year            int64\n",
       "Category             object\n",
       "Leather interior     object\n",
       "Fuel type            object\n",
       "Engine volume        object\n",
       "Mileage              object\n",
       "Cylinders           float64\n",
       "Gear box type        object\n",
       "Drive wheels         object\n",
       "Doors                object\n",
       "Wheel                object\n",
       "Color                object\n",
       "Airbags               int64\n",
       "dtype: object"
      ]
     },
     "execution_count": 24,
     "metadata": {},
     "output_type": "execute_result"
    }
   ],
   "source": [
    "df.dtypes"
   ]
  },
  {
   "cell_type": "code",
   "execution_count": 5,
   "id": "a34ca8c7",
   "metadata": {},
   "outputs": [],
   "source": [
    "df['Levy'] = df['Levy'].replace('-',np.nan)\n",
    "df['Levy'] = df['Levy'].astype('float16')"
   ]
  },
  {
   "cell_type": "markdown",
   "id": "a0a53c07",
   "metadata": {},
   "source": [
    "##### Engine Volume and Turbo"
   ]
  },
  {
   "cell_type": "code",
   "execution_count": 6,
   "id": "bd520fa6",
   "metadata": {},
   "outputs": [],
   "source": [
    "def Engvol(df):                                                          # Cleaning EngVol and creating a new Variable \"Turbo\"\n",
    "    Turbo=[]\n",
    "    for i, index in enumerate(df['Engine volume'].index):\n",
    "        if len(df['Engine volume'][index])>4:\n",
    "            Turbo.append(1)\n",
    "            df['Engine volume'][index] = df['Engine volume'][index][:3]\n",
    "        else:\n",
    "            Turbo.append(0)\n",
    "            df['Engine volume'][index] = df['Engine volume'][index][:3]\n",
    "    df['Turbo']= Turbo\n",
    "    df['Engine volume'] = df['Engine volume'].astype('float16')"
   ]
  },
  {
   "cell_type": "code",
   "execution_count": 7,
   "id": "eef118da",
   "metadata": {
    "scrolled": true
   },
   "outputs": [
    {
     "data": {
      "text/html": [
       "<div>\n",
       "<style scoped>\n",
       "    .dataframe tbody tr th:only-of-type {\n",
       "        vertical-align: middle;\n",
       "    }\n",
       "\n",
       "    .dataframe tbody tr th {\n",
       "        vertical-align: top;\n",
       "    }\n",
       "\n",
       "    .dataframe thead th {\n",
       "        text-align: right;\n",
       "    }\n",
       "</style>\n",
       "<table border=\"1\" class=\"dataframe\">\n",
       "  <thead>\n",
       "    <tr style=\"text-align: right;\">\n",
       "      <th></th>\n",
       "      <th>Price</th>\n",
       "      <th>Levy</th>\n",
       "      <th>Manufacturer</th>\n",
       "      <th>Model</th>\n",
       "      <th>Prod. year</th>\n",
       "      <th>Category</th>\n",
       "      <th>Leather interior</th>\n",
       "      <th>Fuel type</th>\n",
       "      <th>Engine volume</th>\n",
       "      <th>Mileage</th>\n",
       "      <th>Cylinders</th>\n",
       "      <th>Gear box type</th>\n",
       "      <th>Drive wheels</th>\n",
       "      <th>Doors</th>\n",
       "      <th>Wheel</th>\n",
       "      <th>Color</th>\n",
       "      <th>Airbags</th>\n",
       "      <th>Turbo</th>\n",
       "    </tr>\n",
       "    <tr>\n",
       "      <th>ID</th>\n",
       "      <th></th>\n",
       "      <th></th>\n",
       "      <th></th>\n",
       "      <th></th>\n",
       "      <th></th>\n",
       "      <th></th>\n",
       "      <th></th>\n",
       "      <th></th>\n",
       "      <th></th>\n",
       "      <th></th>\n",
       "      <th></th>\n",
       "      <th></th>\n",
       "      <th></th>\n",
       "      <th></th>\n",
       "      <th></th>\n",
       "      <th></th>\n",
       "      <th></th>\n",
       "      <th></th>\n",
       "    </tr>\n",
       "  </thead>\n",
       "  <tbody>\n",
       "    <tr>\n",
       "      <th>45760891</th>\n",
       "      <td>470</td>\n",
       "      <td>645.0</td>\n",
       "      <td>TOYOTA</td>\n",
       "      <td>Prius</td>\n",
       "      <td>2011</td>\n",
       "      <td>Hatchback</td>\n",
       "      <td>Yes</td>\n",
       "      <td>Hybrid</td>\n",
       "      <td>1.799805</td>\n",
       "      <td>307325 km</td>\n",
       "      <td>4.0</td>\n",
       "      <td>Automatic</td>\n",
       "      <td>Front</td>\n",
       "      <td>04-May</td>\n",
       "      <td>Left wheel</td>\n",
       "      <td>Silver</td>\n",
       "      <td>12</td>\n",
       "      <td>0</td>\n",
       "    </tr>\n",
       "    <tr>\n",
       "      <th>45798355</th>\n",
       "      <td>8467</td>\n",
       "      <td>NaN</td>\n",
       "      <td>MERCEDES-BENZ</td>\n",
       "      <td>CLK 200</td>\n",
       "      <td>1999</td>\n",
       "      <td>Coupe</td>\n",
       "      <td>Yes</td>\n",
       "      <td>CNG</td>\n",
       "      <td>2.000000</td>\n",
       "      <td>300000 km</td>\n",
       "      <td>4.0</td>\n",
       "      <td>Manual</td>\n",
       "      <td>Rear</td>\n",
       "      <td>02-Mar</td>\n",
       "      <td>Left wheel</td>\n",
       "      <td>Silver</td>\n",
       "      <td>5</td>\n",
       "      <td>1</td>\n",
       "    </tr>\n",
       "    <tr>\n",
       "      <th>45778856</th>\n",
       "      <td>15681</td>\n",
       "      <td>831.0</td>\n",
       "      <td>HYUNDAI</td>\n",
       "      <td>Sonata</td>\n",
       "      <td>2011</td>\n",
       "      <td>Sedan</td>\n",
       "      <td>Yes</td>\n",
       "      <td>Petrol</td>\n",
       "      <td>2.400391</td>\n",
       "      <td>161600 km</td>\n",
       "      <td>4.0</td>\n",
       "      <td>Tiptronic</td>\n",
       "      <td>Front</td>\n",
       "      <td>04-May</td>\n",
       "      <td>Left wheel</td>\n",
       "      <td>Red</td>\n",
       "      <td>8</td>\n",
       "      <td>0</td>\n",
       "    </tr>\n",
       "    <tr>\n",
       "      <th>45804997</th>\n",
       "      <td>26108</td>\n",
       "      <td>836.0</td>\n",
       "      <td>HYUNDAI</td>\n",
       "      <td>Tucson</td>\n",
       "      <td>2010</td>\n",
       "      <td>Jeep</td>\n",
       "      <td>Yes</td>\n",
       "      <td>Diesel</td>\n",
       "      <td>2.000000</td>\n",
       "      <td>116365 km</td>\n",
       "      <td>4.0</td>\n",
       "      <td>Automatic</td>\n",
       "      <td>Front</td>\n",
       "      <td>04-May</td>\n",
       "      <td>Left wheel</td>\n",
       "      <td>Grey</td>\n",
       "      <td>4</td>\n",
       "      <td>0</td>\n",
       "    </tr>\n",
       "    <tr>\n",
       "      <th>45813273</th>\n",
       "      <td>470</td>\n",
       "      <td>753.0</td>\n",
       "      <td>HYUNDAI</td>\n",
       "      <td>Sonata</td>\n",
       "      <td>2012</td>\n",
       "      <td>Sedan</td>\n",
       "      <td>Yes</td>\n",
       "      <td>Hybrid</td>\n",
       "      <td>2.400391</td>\n",
       "      <td>186923 km</td>\n",
       "      <td>4.0</td>\n",
       "      <td>Automatic</td>\n",
       "      <td>Front</td>\n",
       "      <td>04-May</td>\n",
       "      <td>Left wheel</td>\n",
       "      <td>White</td>\n",
       "      <td>12</td>\n",
       "      <td>0</td>\n",
       "    </tr>\n",
       "  </tbody>\n",
       "</table>\n",
       "</div>"
      ],
      "text/plain": [
       "          Price   Levy   Manufacturer    Model  Prod. year   Category  \\\n",
       "ID                                                                      \n",
       "45760891    470  645.0         TOYOTA    Prius        2011  Hatchback   \n",
       "45798355   8467    NaN  MERCEDES-BENZ  CLK 200        1999      Coupe   \n",
       "45778856  15681  831.0        HYUNDAI   Sonata        2011      Sedan   \n",
       "45804997  26108  836.0        HYUNDAI   Tucson        2010       Jeep   \n",
       "45813273    470  753.0        HYUNDAI   Sonata        2012      Sedan   \n",
       "\n",
       "         Leather interior Fuel type  Engine volume    Mileage  Cylinders  \\\n",
       "ID                                                                         \n",
       "45760891              Yes    Hybrid       1.799805  307325 km        4.0   \n",
       "45798355              Yes       CNG       2.000000  300000 km        4.0   \n",
       "45778856              Yes    Petrol       2.400391  161600 km        4.0   \n",
       "45804997              Yes    Diesel       2.000000  116365 km        4.0   \n",
       "45813273              Yes    Hybrid       2.400391  186923 km        4.0   \n",
       "\n",
       "         Gear box type Drive wheels   Doors       Wheel   Color  Airbags  \\\n",
       "ID                                                                         \n",
       "45760891     Automatic        Front  04-May  Left wheel  Silver       12   \n",
       "45798355        Manual         Rear  02-Mar  Left wheel  Silver        5   \n",
       "45778856     Tiptronic        Front  04-May  Left wheel     Red        8   \n",
       "45804997     Automatic        Front  04-May  Left wheel    Grey        4   \n",
       "45813273     Automatic        Front  04-May  Left wheel   White       12   \n",
       "\n",
       "          Turbo  \n",
       "ID               \n",
       "45760891      0  \n",
       "45798355      1  \n",
       "45778856      0  \n",
       "45804997      0  \n",
       "45813273      0  "
      ]
     },
     "execution_count": 7,
     "metadata": {},
     "output_type": "execute_result"
    }
   ],
   "source": [
    "Engvol(df)\n",
    "df.tail()"
   ]
  },
  {
   "cell_type": "markdown",
   "id": "a8bf4de8",
   "metadata": {},
   "source": [
    "##### Mileage"
   ]
  },
  {
   "cell_type": "code",
   "execution_count": 8,
   "id": "d3a45a1b",
   "metadata": {},
   "outputs": [
    {
     "data": {
      "text/html": [
       "<div>\n",
       "<style scoped>\n",
       "    .dataframe tbody tr th:only-of-type {\n",
       "        vertical-align: middle;\n",
       "    }\n",
       "\n",
       "    .dataframe tbody tr th {\n",
       "        vertical-align: top;\n",
       "    }\n",
       "\n",
       "    .dataframe thead th {\n",
       "        text-align: right;\n",
       "    }\n",
       "</style>\n",
       "<table border=\"1\" class=\"dataframe\">\n",
       "  <thead>\n",
       "    <tr style=\"text-align: right;\">\n",
       "      <th></th>\n",
       "      <th>Price</th>\n",
       "      <th>Levy</th>\n",
       "      <th>Manufacturer</th>\n",
       "      <th>Model</th>\n",
       "      <th>Prod. year</th>\n",
       "      <th>Category</th>\n",
       "      <th>Leather interior</th>\n",
       "      <th>Fuel type</th>\n",
       "      <th>Engine volume</th>\n",
       "      <th>Mileage</th>\n",
       "      <th>Cylinders</th>\n",
       "      <th>Gear box type</th>\n",
       "      <th>Drive wheels</th>\n",
       "      <th>Doors</th>\n",
       "      <th>Wheel</th>\n",
       "      <th>Color</th>\n",
       "      <th>Airbags</th>\n",
       "      <th>Turbo</th>\n",
       "    </tr>\n",
       "    <tr>\n",
       "      <th>ID</th>\n",
       "      <th></th>\n",
       "      <th></th>\n",
       "      <th></th>\n",
       "      <th></th>\n",
       "      <th></th>\n",
       "      <th></th>\n",
       "      <th></th>\n",
       "      <th></th>\n",
       "      <th></th>\n",
       "      <th></th>\n",
       "      <th></th>\n",
       "      <th></th>\n",
       "      <th></th>\n",
       "      <th></th>\n",
       "      <th></th>\n",
       "      <th></th>\n",
       "      <th></th>\n",
       "      <th></th>\n",
       "    </tr>\n",
       "  </thead>\n",
       "  <tbody>\n",
       "    <tr>\n",
       "      <th>45760891</th>\n",
       "      <td>470</td>\n",
       "      <td>645.0</td>\n",
       "      <td>TOYOTA</td>\n",
       "      <td>Prius</td>\n",
       "      <td>2011</td>\n",
       "      <td>Hatchback</td>\n",
       "      <td>Yes</td>\n",
       "      <td>Hybrid</td>\n",
       "      <td>1.799805</td>\n",
       "      <td>307325</td>\n",
       "      <td>4.0</td>\n",
       "      <td>Automatic</td>\n",
       "      <td>Front</td>\n",
       "      <td>04-May</td>\n",
       "      <td>Left wheel</td>\n",
       "      <td>Silver</td>\n",
       "      <td>12</td>\n",
       "      <td>0</td>\n",
       "    </tr>\n",
       "    <tr>\n",
       "      <th>45798355</th>\n",
       "      <td>8467</td>\n",
       "      <td>NaN</td>\n",
       "      <td>MERCEDES-BENZ</td>\n",
       "      <td>CLK 200</td>\n",
       "      <td>1999</td>\n",
       "      <td>Coupe</td>\n",
       "      <td>Yes</td>\n",
       "      <td>CNG</td>\n",
       "      <td>2.000000</td>\n",
       "      <td>300000</td>\n",
       "      <td>4.0</td>\n",
       "      <td>Manual</td>\n",
       "      <td>Rear</td>\n",
       "      <td>02-Mar</td>\n",
       "      <td>Left wheel</td>\n",
       "      <td>Silver</td>\n",
       "      <td>5</td>\n",
       "      <td>1</td>\n",
       "    </tr>\n",
       "    <tr>\n",
       "      <th>45778856</th>\n",
       "      <td>15681</td>\n",
       "      <td>831.0</td>\n",
       "      <td>HYUNDAI</td>\n",
       "      <td>Sonata</td>\n",
       "      <td>2011</td>\n",
       "      <td>Sedan</td>\n",
       "      <td>Yes</td>\n",
       "      <td>Petrol</td>\n",
       "      <td>2.400391</td>\n",
       "      <td>161600</td>\n",
       "      <td>4.0</td>\n",
       "      <td>Tiptronic</td>\n",
       "      <td>Front</td>\n",
       "      <td>04-May</td>\n",
       "      <td>Left wheel</td>\n",
       "      <td>Red</td>\n",
       "      <td>8</td>\n",
       "      <td>0</td>\n",
       "    </tr>\n",
       "    <tr>\n",
       "      <th>45804997</th>\n",
       "      <td>26108</td>\n",
       "      <td>836.0</td>\n",
       "      <td>HYUNDAI</td>\n",
       "      <td>Tucson</td>\n",
       "      <td>2010</td>\n",
       "      <td>Jeep</td>\n",
       "      <td>Yes</td>\n",
       "      <td>Diesel</td>\n",
       "      <td>2.000000</td>\n",
       "      <td>116365</td>\n",
       "      <td>4.0</td>\n",
       "      <td>Automatic</td>\n",
       "      <td>Front</td>\n",
       "      <td>04-May</td>\n",
       "      <td>Left wheel</td>\n",
       "      <td>Grey</td>\n",
       "      <td>4</td>\n",
       "      <td>0</td>\n",
       "    </tr>\n",
       "    <tr>\n",
       "      <th>45813273</th>\n",
       "      <td>470</td>\n",
       "      <td>753.0</td>\n",
       "      <td>HYUNDAI</td>\n",
       "      <td>Sonata</td>\n",
       "      <td>2012</td>\n",
       "      <td>Sedan</td>\n",
       "      <td>Yes</td>\n",
       "      <td>Hybrid</td>\n",
       "      <td>2.400391</td>\n",
       "      <td>186923</td>\n",
       "      <td>4.0</td>\n",
       "      <td>Automatic</td>\n",
       "      <td>Front</td>\n",
       "      <td>04-May</td>\n",
       "      <td>Left wheel</td>\n",
       "      <td>White</td>\n",
       "      <td>12</td>\n",
       "      <td>0</td>\n",
       "    </tr>\n",
       "  </tbody>\n",
       "</table>\n",
       "</div>"
      ],
      "text/plain": [
       "          Price   Levy   Manufacturer    Model  Prod. year   Category  \\\n",
       "ID                                                                      \n",
       "45760891    470  645.0         TOYOTA    Prius        2011  Hatchback   \n",
       "45798355   8467    NaN  MERCEDES-BENZ  CLK 200        1999      Coupe   \n",
       "45778856  15681  831.0        HYUNDAI   Sonata        2011      Sedan   \n",
       "45804997  26108  836.0        HYUNDAI   Tucson        2010       Jeep   \n",
       "45813273    470  753.0        HYUNDAI   Sonata        2012      Sedan   \n",
       "\n",
       "         Leather interior Fuel type  Engine volume  Mileage  Cylinders  \\\n",
       "ID                                                                       \n",
       "45760891              Yes    Hybrid       1.799805   307325        4.0   \n",
       "45798355              Yes       CNG       2.000000   300000        4.0   \n",
       "45778856              Yes    Petrol       2.400391   161600        4.0   \n",
       "45804997              Yes    Diesel       2.000000   116365        4.0   \n",
       "45813273              Yes    Hybrid       2.400391   186923        4.0   \n",
       "\n",
       "         Gear box type Drive wheels   Doors       Wheel   Color  Airbags  \\\n",
       "ID                                                                         \n",
       "45760891     Automatic        Front  04-May  Left wheel  Silver       12   \n",
       "45798355        Manual         Rear  02-Mar  Left wheel  Silver        5   \n",
       "45778856     Tiptronic        Front  04-May  Left wheel     Red        8   \n",
       "45804997     Automatic        Front  04-May  Left wheel    Grey        4   \n",
       "45813273     Automatic        Front  04-May  Left wheel   White       12   \n",
       "\n",
       "          Turbo  \n",
       "ID               \n",
       "45760891      0  \n",
       "45798355      1  \n",
       "45778856      0  \n",
       "45804997      0  \n",
       "45813273      0  "
      ]
     },
     "execution_count": 8,
     "metadata": {},
     "output_type": "execute_result"
    }
   ],
   "source": [
    "df['Mileage'] = [i[0:-3] for i in df['Mileage']]\n",
    "df['Mileage'] = df['Mileage'].astype('int64')\n",
    "df.tail()"
   ]
  },
  {
   "cell_type": "code",
   "execution_count": 26,
   "id": "86dff9f7",
   "metadata": {},
   "outputs": [
    {
     "data": {
      "text/plain": [
       "<AxesSubplot:xlabel='Mileage', ylabel='Count'>"
      ]
     },
     "execution_count": 26,
     "metadata": {},
     "output_type": "execute_result"
    },
    {
     "data": {
      "image/png": "[encoded data removed]",
      "text/plain": [
       "<Figure size 432x288 with 1 Axes>"
      ]
     },
     "metadata": {
      "needs_background": "light"
     },
     "output_type": "display_data"
    }
   ],
   "source": [
    "sns.histplot(np.log1p(df['Mileage']),bins=500)"
   ]
  },
  {
   "cell_type": "code",
   "execution_count": 13,
   "id": "38259ea2",
   "metadata": {},
   "outputs": [
    {
     "data": {
      "text/plain": [
       "count    1.572500e+04\n",
       "mean     1.836421e+06\n",
       "std      5.353248e+07\n",
       "min      0.000000e+00\n",
       "25%      6.657500e+04\n",
       "50%      1.210000e+05\n",
       "75%      1.800000e+05\n",
       "max      2.147484e+09\n",
       "Name: Mileage, dtype: float64"
      ]
     },
     "execution_count": 13,
     "metadata": {},
     "output_type": "execute_result"
    }
   ],
   "source": [
    "df['Mileage'].describe()"
   ]
  },
  {
   "cell_type": "markdown",
   "id": "183eabd0",
   "metadata": {},
   "source": [
    "##### Levy"
   ]
  },
  {
   "cell_type": "code",
   "execution_count": 12,
   "id": "7888a857",
   "metadata": {},
   "outputs": [
    {
     "data": {
      "text/plain": [
       "<AxesSubplot:xlabel='Levy', ylabel='Count'>"
      ]
     },
     "execution_count": 12,
     "metadata": {},
     "output_type": "execute_result"
    },
    {
     "data": {
      "image/png": "[encoded data removed]",
      "text/plain": [
       "<Figure size 432x288 with 1 Axes>"
      ]
     },
     "metadata": {
      "needs_background": "light"
     },
     "output_type": "display_data"
    }
   ],
   "source": [
    "sns.histplot(df['Levy'])"
   ]
  },
  {
   "cell_type": "code",
   "execution_count": 9,
   "id": "9a92750f",
   "metadata": {},
   "outputs": [
    {
     "data": {
      "text/html": [
       "<div>\n",
       "<style scoped>\n",
       "    .dataframe tbody tr th:only-of-type {\n",
       "        vertical-align: middle;\n",
       "    }\n",
       "\n",
       "    .dataframe tbody tr th {\n",
       "        vertical-align: top;\n",
       "    }\n",
       "\n",
       "    .dataframe thead th {\n",
       "        text-align: right;\n",
       "    }\n",
       "</style>\n",
       "<table border=\"1\" class=\"dataframe\">\n",
       "  <thead>\n",
       "    <tr style=\"text-align: right;\">\n",
       "      <th></th>\n",
       "      <th>Price</th>\n",
       "      <th>Levy</th>\n",
       "      <th>Manufacturer</th>\n",
       "      <th>Model</th>\n",
       "      <th>Prod. year</th>\n",
       "      <th>Category</th>\n",
       "      <th>Leather interior</th>\n",
       "      <th>Fuel type</th>\n",
       "      <th>Engine volume</th>\n",
       "      <th>Mileage</th>\n",
       "      <th>Cylinders</th>\n",
       "      <th>Gear box type</th>\n",
       "      <th>Drive wheels</th>\n",
       "      <th>Doors</th>\n",
       "      <th>Wheel</th>\n",
       "      <th>Color</th>\n",
       "      <th>Airbags</th>\n",
       "      <th>Turbo</th>\n",
       "    </tr>\n",
       "    <tr>\n",
       "      <th>ID</th>\n",
       "      <th></th>\n",
       "      <th></th>\n",
       "      <th></th>\n",
       "      <th></th>\n",
       "      <th></th>\n",
       "      <th></th>\n",
       "      <th></th>\n",
       "      <th></th>\n",
       "      <th></th>\n",
       "      <th></th>\n",
       "      <th></th>\n",
       "      <th></th>\n",
       "      <th></th>\n",
       "      <th></th>\n",
       "      <th></th>\n",
       "      <th></th>\n",
       "      <th></th>\n",
       "      <th></th>\n",
       "    </tr>\n",
       "  </thead>\n",
       "  <tbody>\n",
       "    <tr>\n",
       "      <th>45654403</th>\n",
       "      <td>13328</td>\n",
       "      <td>1399.0</td>\n",
       "      <td>LEXUS</td>\n",
       "      <td>RX 450</td>\n",
       "      <td>2010</td>\n",
       "      <td>Jeep</td>\n",
       "      <td>Yes</td>\n",
       "      <td>Hybrid</td>\n",
       "      <td>3.500000</td>\n",
       "      <td>186005</td>\n",
       "      <td>6.0</td>\n",
       "      <td>Automatic</td>\n",
       "      <td>4x4</td>\n",
       "      <td>04-May</td>\n",
       "      <td>Left wheel</td>\n",
       "      <td>Silver</td>\n",
       "      <td>12</td>\n",
       "      <td>0</td>\n",
       "    </tr>\n",
       "    <tr>\n",
       "      <th>44731507</th>\n",
       "      <td>16621</td>\n",
       "      <td>1018.0</td>\n",
       "      <td>CHEVROLET</td>\n",
       "      <td>Equinox</td>\n",
       "      <td>2011</td>\n",
       "      <td>Jeep</td>\n",
       "      <td>No</td>\n",
       "      <td>Petrol</td>\n",
       "      <td>3.000000</td>\n",
       "      <td>192000</td>\n",
       "      <td>6.0</td>\n",
       "      <td>Tiptronic</td>\n",
       "      <td>4x4</td>\n",
       "      <td>04-May</td>\n",
       "      <td>Left wheel</td>\n",
       "      <td>Black</td>\n",
       "      <td>8</td>\n",
       "      <td>0</td>\n",
       "    </tr>\n",
       "    <tr>\n",
       "      <th>45774419</th>\n",
       "      <td>8467</td>\n",
       "      <td>779.0</td>\n",
       "      <td>HONDA</td>\n",
       "      <td>FIT</td>\n",
       "      <td>2006</td>\n",
       "      <td>Hatchback</td>\n",
       "      <td>No</td>\n",
       "      <td>Petrol</td>\n",
       "      <td>1.299805</td>\n",
       "      <td>200000</td>\n",
       "      <td>4.0</td>\n",
       "      <td>Variator</td>\n",
       "      <td>Front</td>\n",
       "      <td>04-May</td>\n",
       "      <td>Right-hand drive</td>\n",
       "      <td>Black</td>\n",
       "      <td>2</td>\n",
       "      <td>0</td>\n",
       "    </tr>\n",
       "    <tr>\n",
       "      <th>45769185</th>\n",
       "      <td>3607</td>\n",
       "      <td>862.0</td>\n",
       "      <td>FORD</td>\n",
       "      <td>Escape</td>\n",
       "      <td>2011</td>\n",
       "      <td>Jeep</td>\n",
       "      <td>Yes</td>\n",
       "      <td>Hybrid</td>\n",
       "      <td>2.500000</td>\n",
       "      <td>168966</td>\n",
       "      <td>4.0</td>\n",
       "      <td>Automatic</td>\n",
       "      <td>4x4</td>\n",
       "      <td>04-May</td>\n",
       "      <td>Left wheel</td>\n",
       "      <td>White</td>\n",
       "      <td>0</td>\n",
       "      <td>0</td>\n",
       "    </tr>\n",
       "    <tr>\n",
       "      <th>45809263</th>\n",
       "      <td>11726</td>\n",
       "      <td>446.0</td>\n",
       "      <td>HONDA</td>\n",
       "      <td>FIT</td>\n",
       "      <td>2014</td>\n",
       "      <td>Hatchback</td>\n",
       "      <td>Yes</td>\n",
       "      <td>Petrol</td>\n",
       "      <td>1.299805</td>\n",
       "      <td>91901</td>\n",
       "      <td>4.0</td>\n",
       "      <td>Automatic</td>\n",
       "      <td>Front</td>\n",
       "      <td>04-May</td>\n",
       "      <td>Left wheel</td>\n",
       "      <td>Silver</td>\n",
       "      <td>4</td>\n",
       "      <td>0</td>\n",
       "    </tr>\n",
       "  </tbody>\n",
       "</table>\n",
       "</div>"
      ],
      "text/plain": [
       "          Price    Levy Manufacturer    Model  Prod. year   Category  \\\n",
       "ID                                                                     \n",
       "45654403  13328  1399.0        LEXUS   RX 450        2010       Jeep   \n",
       "44731507  16621  1018.0    CHEVROLET  Equinox        2011       Jeep   \n",
       "45774419   8467   779.0        HONDA      FIT        2006  Hatchback   \n",
       "45769185   3607   862.0         FORD   Escape        2011       Jeep   \n",
       "45809263  11726   446.0        HONDA      FIT        2014  Hatchback   \n",
       "\n",
       "         Leather interior Fuel type  Engine volume  Mileage  Cylinders  \\\n",
       "ID                                                                       \n",
       "45654403              Yes    Hybrid       3.500000   186005        6.0   \n",
       "44731507               No    Petrol       3.000000   192000        6.0   \n",
       "45774419               No    Petrol       1.299805   200000        4.0   \n",
       "45769185              Yes    Hybrid       2.500000   168966        4.0   \n",
       "45809263              Yes    Petrol       1.299805    91901        4.0   \n",
       "\n",
       "         Gear box type Drive wheels   Doors             Wheel   Color  \\\n",
       "ID                                                                      \n",
       "45654403     Automatic          4x4  04-May        Left wheel  Silver   \n",
       "44731507     Tiptronic          4x4  04-May        Left wheel   Black   \n",
       "45774419      Variator        Front  04-May  Right-hand drive   Black   \n",
       "45769185     Automatic          4x4  04-May        Left wheel   White   \n",
       "45809263     Automatic        Front  04-May        Left wheel  Silver   \n",
       "\n",
       "          Airbags  Turbo  \n",
       "ID                        \n",
       "45654403       12      0  \n",
       "44731507        8      0  \n",
       "45774419        2      0  \n",
       "45769185        0      0  \n",
       "45809263        4      0  "
      ]
     },
     "execution_count": 9,
     "metadata": {},
     "output_type": "execute_result"
    }
   ],
   "source": [
    "#replacing NaN values in Levy by the median of the column since the distribution is skewed\n",
    "df['Levy'] = df['Levy'].replace(np.nan,df['Levy'].median())\n",
    "levy_median = df['Levy'].median()\n",
    "df.head()"
   ]
  },
  {
   "cell_type": "markdown",
   "id": "794e2953",
   "metadata": {},
   "source": [
    "###### Price"
   ]
  },
  {
   "cell_type": "code",
   "execution_count": 112,
   "id": "1c172ad3",
   "metadata": {},
   "outputs": [
    {
     "data": {
      "text/plain": [
       "26307500    1\n",
       "872946      1\n",
       "627220      1\n",
       "308906      1\n",
       "297930      2\n",
       "288521      1\n",
       "260296      1\n",
       "254024      1\n",
       "250574      1\n",
       "228935      1\n",
       "Name: Price, dtype: int64"
      ]
     },
     "execution_count": 112,
     "metadata": {},
     "output_type": "execute_result"
    }
   ],
   "source": [
    "df['Price'].value_counts().sort_index(ascending=False).head(10)"
   ]
  },
  {
   "cell_type": "code",
   "execution_count": 10,
   "id": "eeab70d4",
   "metadata": {},
   "outputs": [],
   "source": [
    "df = df[df['Price']<500000]"
   ]
  },
  {
   "cell_type": "code",
   "execution_count": 114,
   "id": "ade445d5",
   "metadata": {
    "scrolled": true
   },
   "outputs": [
    {
     "data": {
      "text/plain": [
       "<AxesSubplot:xlabel='Price', ylabel='Count'>"
      ]
     },
     "execution_count": 114,
     "metadata": {},
     "output_type": "execute_result"
    },
    {
     "data": {
      "image/png": "[encoded data removed]",
      "text/plain": [
       "<Figure size 432x288 with 1 Axes>"
      ]
     },
     "metadata": {
      "needs_background": "light"
     },
     "output_type": "display_data"
    }
   ],
   "source": [
    "sns.histplot(df['Price'])"
   ]
  },
  {
   "cell_type": "code",
   "execution_count": 11,
   "id": "6c20b1dc",
   "metadata": {},
   "outputs": [],
   "source": [
    "df = df[df['Price']<70000]"
   ]
  },
  {
   "cell_type": "code",
   "execution_count": 116,
   "id": "9cedcd31",
   "metadata": {
    "scrolled": true
   },
   "outputs": [
    {
     "data": {
      "text/plain": [
       "<AxesSubplot:xlabel='Price', ylabel='Count'>"
      ]
     },
     "execution_count": 116,
     "metadata": {},
     "output_type": "execute_result"
    },
    {
     "data": {
      "image/png": "[encoded data removed]",
      "text/plain": [
       "<Figure size 432x288 with 1 Axes>"
      ]
     },
     "metadata": {
      "needs_background": "light"
     },
     "output_type": "display_data"
    }
   ],
   "source": [
    "sns.histplot(df['Price'])"
   ]
  },
  {
   "cell_type": "code",
   "execution_count": 117,
   "id": "0b46538e",
   "metadata": {},
   "outputs": [
    {
     "data": {
      "text/plain": [
       "(15421, 18)"
      ]
     },
     "execution_count": 117,
     "metadata": {},
     "output_type": "execute_result"
    }
   ],
   "source": [
    "df.shape"
   ]
  },
  {
   "cell_type": "code",
   "execution_count": 141,
   "id": "3c7c81a4",
   "metadata": {},
   "outputs": [
    {
     "data": {
      "text/plain": [
       "<AxesSubplot:xlabel='count', ylabel='Manufacturer'>"
      ]
     },
     "execution_count": 141,
     "metadata": {},
     "output_type": "execute_result"
    },
    {
     "data": {
      "image/png": "[encoded data removed]",
      "text/plain": [
       "<Figure size 1152x1152 with 1 Axes>"
      ]
     },
     "metadata": {
      "needs_background": "light"
     },
     "output_type": "display_data"
    }
   ],
   "source": [
    "plt.figure(figsize=(16,16))\n",
    "sns.countplot(y = df['Manufacturer'],order=df['Manufacturer'].value_counts().sort_values(ascending=False).index)"
   ]
  },
  {
   "cell_type": "code",
   "execution_count": 144,
   "id": "5dca58ce",
   "metadata": {},
   "outputs": [
    {
     "data": {
      "text/plain": [
       "<AxesSubplot:xlabel='count', ylabel='Prod. year'>"
      ]
     },
     "execution_count": 144,
     "metadata": {},
     "output_type": "execute_result"
    },
    {
     "data": {
      "image/png": "[encoded data removed]",
      "text/plain": [
       "<Figure size 1152x1152 with 1 Axes>"
      ]
     },
     "metadata": {
      "needs_background": "light"
     },
     "output_type": "display_data"
    }
   ],
   "source": [
    "plt.figure(figsize=(16,16))\n",
    "sns.countplot(y = df['Prod. year'],order=df['Prod. year'].value_counts().sort_values(ascending=False).index)"
   ]
  },
  {
   "cell_type": "code",
   "execution_count": 146,
   "id": "e446b40c",
   "metadata": {},
   "outputs": [
    {
     "data": {
      "text/plain": [
       "<AxesSubplot:xlabel='count', ylabel='Category'>"
      ]
     },
     "execution_count": 146,
     "metadata": {},
     "output_type": "execute_result"
    },
    {
     "data": {
      "image/png": "[encoded data removed]",
      "text/plain": [
       "<Figure size 432x288 with 1 Axes>"
      ]
     },
     "metadata": {
      "needs_background": "light"
     },
     "output_type": "display_data"
    }
   ],
   "source": [
    "#plt.figure(figsize=(16,16))\n",
    "sns.countplot(y = df['Category'],order=df['Category'].value_counts().sort_values(ascending=False).index)"
   ]
  },
  {
   "cell_type": "code",
   "execution_count": 25,
   "id": "e04b7442",
   "metadata": {},
   "outputs": [
    {
     "data": {
      "text/plain": [
       "<AxesSubplot:xlabel='Doors', ylabel='count'>"
      ]
     },
     "execution_count": 25,
     "metadata": {},
     "output_type": "execute_result"
    },
    {
     "data": {
      "image/png": "[encoded data removed]",
      "text/plain": [
       "<Figure size 432x288 with 1 Axes>"
      ]
     },
     "metadata": {
      "needs_background": "light"
     },
     "output_type": "display_data"
    }
   ],
   "source": [
    "sns.countplot(df['Doors'])"
   ]
  },
  {
   "cell_type": "code",
   "execution_count": 24,
   "id": "93eb6490",
   "metadata": {},
   "outputs": [
    {
     "data": {
      "text/plain": [
       "<AxesSubplot:xlabel='Wheel', ylabel='count'>"
      ]
     },
     "execution_count": 24,
     "metadata": {},
     "output_type": "execute_result"
    },
    {
     "data": {
      "image/png": "[encoded data removed]",
      "text/plain": [
       "<Figure size 432x288 with 1 Axes>"
      ]
     },
     "metadata": {
      "needs_background": "light"
     },
     "output_type": "display_data"
    }
   ],
   "source": [
    "sns.countplot(df['Wheel'])"
   ]
  },
  {
   "cell_type": "code",
   "execution_count": 35,
   "id": "155239ec",
   "metadata": {
    "scrolled": true
   },
   "outputs": [
    {
     "data": {
      "text/plain": [
       "<AxesSubplot:xlabel='Airbags', ylabel='count'>"
      ]
     },
     "execution_count": 35,
     "metadata": {},
     "output_type": "execute_result"
    },
    {
     "data": {
      "image/png": "[encoded data removed]",
      "text/plain": [
       "<Figure size 432x288 with 1 Axes>"
      ]
     },
     "metadata": {
      "needs_background": "light"
     },
     "output_type": "display_data"
    }
   ],
   "source": [
    "sns.countplot(df['Airbags'])"
   ]
  },
  {
   "cell_type": "code",
   "execution_count": 34,
   "id": "c588a363",
   "metadata": {},
   "outputs": [
    {
     "data": {
      "text/plain": [
       "<AxesSubplot:xlabel='Fuel type', ylabel='count'>"
      ]
     },
     "execution_count": 34,
     "metadata": {},
     "output_type": "execute_result"
    },
    {
     "data": {
      "image/png": "[encoded data removed]",
      "text/plain": [
       "<Figure size 432x288 with 1 Axes>"
      ]
     },
     "metadata": {
      "needs_background": "light"
     },
     "output_type": "display_data"
    }
   ],
   "source": [
    "sns.countplot(df['Fuel type'])"
   ]
  },
  {
   "cell_type": "code",
   "execution_count": 105,
   "id": "8910ebb9",
   "metadata": {
    "scrolled": true
   },
   "outputs": [
    {
     "name": "stdout",
     "output_type": "stream",
     "text": [
      "Manufacturer 64\n",
      "Model 1588\n",
      "Category 11\n",
      "Leather interior 2\n",
      "Fuel type 7\n",
      "Gear box type 4\n",
      "Drive wheels 3\n",
      "Doors 3\n",
      "Wheel 2\n",
      "Color 16\n"
     ]
    }
   ],
   "source": [
    "for i in df.select_dtypes('object').columns:\n",
    "    print(i,df[i].nunique())"
   ]
  },
  {
   "cell_type": "markdown",
   "id": "69052bd2",
   "metadata": {},
   "source": [
    "### Multivariate "
   ]
  },
  {
   "cell_type": "code",
   "execution_count": 27,
   "id": "e797c298",
   "metadata": {},
   "outputs": [
    {
     "data": {
      "text/html": [
       "<div>\n",
       "<style scoped>\n",
       "    .dataframe tbody tr th:only-of-type {\n",
       "        vertical-align: middle;\n",
       "    }\n",
       "\n",
       "    .dataframe tbody tr th {\n",
       "        vertical-align: top;\n",
       "    }\n",
       "\n",
       "    .dataframe thead th {\n",
       "        text-align: right;\n",
       "    }\n",
       "</style>\n",
       "<table border=\"1\" class=\"dataframe\">\n",
       "  <thead>\n",
       "    <tr style=\"text-align: right;\">\n",
       "      <th></th>\n",
       "      <th>Price</th>\n",
       "      <th>Levy</th>\n",
       "      <th>Manufacturer</th>\n",
       "      <th>Model</th>\n",
       "      <th>Prod. year</th>\n",
       "      <th>Category</th>\n",
       "      <th>Leather interior</th>\n",
       "      <th>Fuel type</th>\n",
       "      <th>Engine volume</th>\n",
       "      <th>Mileage</th>\n",
       "      <th>Cylinders</th>\n",
       "      <th>Gear box type</th>\n",
       "      <th>Drive wheels</th>\n",
       "      <th>Doors</th>\n",
       "      <th>Wheel</th>\n",
       "      <th>Color</th>\n",
       "      <th>Airbags</th>\n",
       "      <th>Turbo</th>\n",
       "    </tr>\n",
       "    <tr>\n",
       "      <th>ID</th>\n",
       "      <th></th>\n",
       "      <th></th>\n",
       "      <th></th>\n",
       "      <th></th>\n",
       "      <th></th>\n",
       "      <th></th>\n",
       "      <th></th>\n",
       "      <th></th>\n",
       "      <th></th>\n",
       "      <th></th>\n",
       "      <th></th>\n",
       "      <th></th>\n",
       "      <th></th>\n",
       "      <th></th>\n",
       "      <th></th>\n",
       "      <th></th>\n",
       "      <th></th>\n",
       "      <th></th>\n",
       "    </tr>\n",
       "  </thead>\n",
       "  <tbody>\n",
       "    <tr>\n",
       "      <th>45654403</th>\n",
       "      <td>13328</td>\n",
       "      <td>1399.0</td>\n",
       "      <td>LEXUS</td>\n",
       "      <td>RX 450</td>\n",
       "      <td>2010</td>\n",
       "      <td>Jeep</td>\n",
       "      <td>Yes</td>\n",
       "      <td>Hybrid</td>\n",
       "      <td>3.500000</td>\n",
       "      <td>186005</td>\n",
       "      <td>6.0</td>\n",
       "      <td>Automatic</td>\n",
       "      <td>4x4</td>\n",
       "      <td>04-May</td>\n",
       "      <td>Left wheel</td>\n",
       "      <td>Silver</td>\n",
       "      <td>12</td>\n",
       "      <td>0</td>\n",
       "    </tr>\n",
       "    <tr>\n",
       "      <th>44731507</th>\n",
       "      <td>16621</td>\n",
       "      <td>1018.0</td>\n",
       "      <td>CHEVROLET</td>\n",
       "      <td>Equinox</td>\n",
       "      <td>2011</td>\n",
       "      <td>Jeep</td>\n",
       "      <td>No</td>\n",
       "      <td>Petrol</td>\n",
       "      <td>3.000000</td>\n",
       "      <td>192000</td>\n",
       "      <td>6.0</td>\n",
       "      <td>Tiptronic</td>\n",
       "      <td>4x4</td>\n",
       "      <td>04-May</td>\n",
       "      <td>Left wheel</td>\n",
       "      <td>Black</td>\n",
       "      <td>8</td>\n",
       "      <td>0</td>\n",
       "    </tr>\n",
       "    <tr>\n",
       "      <th>45774419</th>\n",
       "      <td>8467</td>\n",
       "      <td>NaN</td>\n",
       "      <td>HONDA</td>\n",
       "      <td>FIT</td>\n",
       "      <td>2006</td>\n",
       "      <td>Hatchback</td>\n",
       "      <td>No</td>\n",
       "      <td>Petrol</td>\n",
       "      <td>1.299805</td>\n",
       "      <td>200000</td>\n",
       "      <td>4.0</td>\n",
       "      <td>Variator</td>\n",
       "      <td>Front</td>\n",
       "      <td>04-May</td>\n",
       "      <td>Right-hand drive</td>\n",
       "      <td>Black</td>\n",
       "      <td>2</td>\n",
       "      <td>0</td>\n",
       "    </tr>\n",
       "    <tr>\n",
       "      <th>45769185</th>\n",
       "      <td>3607</td>\n",
       "      <td>862.0</td>\n",
       "      <td>FORD</td>\n",
       "      <td>Escape</td>\n",
       "      <td>2011</td>\n",
       "      <td>Jeep</td>\n",
       "      <td>Yes</td>\n",
       "      <td>Hybrid</td>\n",
       "      <td>2.500000</td>\n",
       "      <td>168966</td>\n",
       "      <td>4.0</td>\n",
       "      <td>Automatic</td>\n",
       "      <td>4x4</td>\n",
       "      <td>04-May</td>\n",
       "      <td>Left wheel</td>\n",
       "      <td>White</td>\n",
       "      <td>0</td>\n",
       "      <td>0</td>\n",
       "    </tr>\n",
       "    <tr>\n",
       "      <th>45809263</th>\n",
       "      <td>11726</td>\n",
       "      <td>446.0</td>\n",
       "      <td>HONDA</td>\n",
       "      <td>FIT</td>\n",
       "      <td>2014</td>\n",
       "      <td>Hatchback</td>\n",
       "      <td>Yes</td>\n",
       "      <td>Petrol</td>\n",
       "      <td>1.299805</td>\n",
       "      <td>91901</td>\n",
       "      <td>4.0</td>\n",
       "      <td>Automatic</td>\n",
       "      <td>Front</td>\n",
       "      <td>04-May</td>\n",
       "      <td>Left wheel</td>\n",
       "      <td>Silver</td>\n",
       "      <td>4</td>\n",
       "      <td>0</td>\n",
       "    </tr>\n",
       "  </tbody>\n",
       "</table>\n",
       "</div>"
      ],
      "text/plain": [
       "          Price    Levy Manufacturer    Model  Prod. year   Category  \\\n",
       "ID                                                                     \n",
       "45654403  13328  1399.0        LEXUS   RX 450        2010       Jeep   \n",
       "44731507  16621  1018.0    CHEVROLET  Equinox        2011       Jeep   \n",
       "45774419   8467     NaN        HONDA      FIT        2006  Hatchback   \n",
       "45769185   3607   862.0         FORD   Escape        2011       Jeep   \n",
       "45809263  11726   446.0        HONDA      FIT        2014  Hatchback   \n",
       "\n",
       "         Leather interior Fuel type  Engine volume  Mileage  Cylinders  \\\n",
       "ID                                                                       \n",
       "45654403              Yes    Hybrid       3.500000   186005        6.0   \n",
       "44731507               No    Petrol       3.000000   192000        6.0   \n",
       "45774419               No    Petrol       1.299805   200000        4.0   \n",
       "45769185              Yes    Hybrid       2.500000   168966        4.0   \n",
       "45809263              Yes    Petrol       1.299805    91901        4.0   \n",
       "\n",
       "         Gear box type Drive wheels   Doors             Wheel   Color  \\\n",
       "ID                                                                      \n",
       "45654403     Automatic          4x4  04-May        Left wheel  Silver   \n",
       "44731507     Tiptronic          4x4  04-May        Left wheel   Black   \n",
       "45774419      Variator        Front  04-May  Right-hand drive   Black   \n",
       "45769185     Automatic          4x4  04-May        Left wheel   White   \n",
       "45809263     Automatic        Front  04-May        Left wheel  Silver   \n",
       "\n",
       "          Airbags  Turbo  \n",
       "ID                        \n",
       "45654403       12      0  \n",
       "44731507        8      0  \n",
       "45774419        2      0  \n",
       "45769185        0      0  \n",
       "45809263        4      0  "
      ]
     },
     "execution_count": 27,
     "metadata": {},
     "output_type": "execute_result"
    }
   ],
   "source": [
    "df.head()"
   ]
  },
  {
   "cell_type": "markdown",
   "id": "d79947a3",
   "metadata": {},
   "source": [
    "#### Manufacturer"
   ]
  },
  {
   "cell_type": "code",
   "execution_count": 118,
   "id": "d8fef6dd",
   "metadata": {},
   "outputs": [
    {
     "data": {
      "text/plain": [
       "<AxesSubplot:xlabel='Price', ylabel='Manufacturer'>"
      ]
     },
     "execution_count": 118,
     "metadata": {},
     "output_type": "execute_result"
    },
    {
     "data": {
      "image/png": "[encoded data removed]",
      "text/plain": [
       "<Figure size 1152x864 with 1 Axes>"
      ]
     },
     "metadata": {
      "needs_background": "light"
     },
     "output_type": "display_data"
    }
   ],
   "source": [
    "plt.figure(figsize=(16,12))\n",
    "sns.boxplot(y = df['Manufacturer'],x=df['Price'])"
   ]
  },
  {
   "cell_type": "markdown",
   "id": "df4bc7f1",
   "metadata": {},
   "source": [
    "#### Production Year"
   ]
  },
  {
   "cell_type": "code",
   "execution_count": 12,
   "id": "55972f2d",
   "metadata": {},
   "outputs": [],
   "source": [
    "df = df[df['Prod. year']>1984]"
   ]
  },
  {
   "cell_type": "code",
   "execution_count": 120,
   "id": "c0f3d393",
   "metadata": {},
   "outputs": [
    {
     "data": {
      "text/plain": [
       "<AxesSubplot:xlabel='Prod. year', ylabel='Price'>"
      ]
     },
     "execution_count": 120,
     "metadata": {},
     "output_type": "execute_result"
    },
    {
     "data": {
      "image/png": "[encoded data removed]",
      "text/plain": [
       "<Figure size 1440x864 with 1 Axes>"
      ]
     },
     "metadata": {
      "needs_background": "light"
     },
     "output_type": "display_data"
    }
   ],
   "source": [
    "plt.figure(figsize=(20,12))\n",
    "sns.boxplot(x = df['Prod. year'],y=df['Price'])"
   ]
  },
  {
   "cell_type": "code",
   "execution_count": 13,
   "id": "64250e3d",
   "metadata": {},
   "outputs": [],
   "source": [
    "df.drop(index=df[(df['Prod. year']<1993)& (df['Price']>10500)].index,inplace=True)\n",
    "df.drop(index=df[(df['Prod. year']<1998)& (df['Price']>20000)].index,inplace=True)\n",
    "df.drop(index=df[(df['Prod. year']<2006)& (df['Price']>39000)].index,inplace=True)\n",
    "df.drop(index=df[(df['Prod. year']<2010)& (df['Price']>50000)].index,inplace=True)\n",
    "df.drop(index=df[(df['Prod. year']<2013)& (df['Price']>75000)].index,inplace=True)\n",
    "df.drop(index=df[(df['Prod. year']<2015)& (df['Price']>120000)].index,inplace=True)\n",
    "df.drop(index=df[df['Price']>150000].index,inplace=True)"
   ]
  },
  {
   "cell_type": "code",
   "execution_count": 122,
   "id": "7a8e97db",
   "metadata": {},
   "outputs": [
    {
     "data": {
      "text/plain": [
       "<AxesSubplot:xlabel='Prod. year', ylabel='Price'>"
      ]
     },
     "execution_count": 122,
     "metadata": {},
     "output_type": "execute_result"
    },
    {
     "data": {
      "image/png": "[encoded data removed]",
      "text/plain": [
       "<Figure size 1152x432 with 1 Axes>"
      ]
     },
     "metadata": {
      "needs_background": "light"
     },
     "output_type": "display_data"
    }
   ],
   "source": [
    "plt.figure(figsize=(16,6))\n",
    "sns.boxplot(x = df['Prod. year'],y=df['Price'])"
   ]
  },
  {
   "cell_type": "markdown",
   "id": "5a88a84e",
   "metadata": {},
   "source": [
    "#### Category"
   ]
  },
  {
   "cell_type": "code",
   "execution_count": 123,
   "id": "59f75e97",
   "metadata": {},
   "outputs": [
    {
     "data": {
      "text/plain": [
       "<AxesSubplot:xlabel='Category', ylabel='Price'>"
      ]
     },
     "execution_count": 123,
     "metadata": {},
     "output_type": "execute_result"
    },
    {
     "data": {
      "image/png": "[encoded data removed]",
      "text/plain": [
       "<Figure size 864x360 with 1 Axes>"
      ]
     },
     "metadata": {
      "needs_background": "light"
     },
     "output_type": "display_data"
    }
   ],
   "source": [
    "plt.figure(figsize=(12,5))\n",
    "sns.boxplot(x = df['Category'],y=df['Price'])"
   ]
  },
  {
   "cell_type": "code",
   "execution_count": 14,
   "id": "aaa9bc72",
   "metadata": {},
   "outputs": [],
   "source": [
    "df.drop(index=df[(df['Category']=='Hatchback')&(df['Price']>62000)].index,inplace=True)\n",
    "df.drop(index=df[(df['Category']=='Jeep')&(df['Price']>142000)].index,inplace=True)\n",
    "df.drop(index=df[(df['Category']=='Sedan')&(df['Price']>120000)].index,inplace=True)\n",
    "df.drop(index=df[(df['Category']=='Microbus')&(df['Price']>60000)].index,inplace=True)\n",
    "df.drop(index=df[(df['Category']=='Universal')&(df['Price']>72000)].index,inplace=True)\n",
    "df.drop(index=df[(df['Category']=='Coupe')&(df['Price']>90000)].index,inplace=True)\n",
    "df.drop(index=df[(df['Category']=='Pickup')&(df['Price']>70000)].index,inplace=True)\n",
    "df.drop(index=df[(df['Category']=='Cabriolet')&(df['Price']>65000)].index,inplace=True)"
   ]
  },
  {
   "cell_type": "code",
   "execution_count": 125,
   "id": "6b45002d",
   "metadata": {},
   "outputs": [
    {
     "data": {
      "text/plain": [
       "<AxesSubplot:xlabel='Category', ylabel='Price'>"
      ]
     },
     "execution_count": 125,
     "metadata": {},
     "output_type": "execute_result"
    },
    {
     "data": {
      "image/png": "[encoded data removed]",
      "text/plain": [
       "<Figure size 864x360 with 1 Axes>"
      ]
     },
     "metadata": {
      "needs_background": "light"
     },
     "output_type": "display_data"
    }
   ],
   "source": [
    "plt.figure(figsize=(12,5))\n",
    "sns.boxplot(x = df['Category'],y=df['Price'])"
   ]
  },
  {
   "cell_type": "code",
   "execution_count": 31,
   "id": "46988ff6",
   "metadata": {},
   "outputs": [
    {
     "data": {
      "text/plain": [
       "<AxesSubplot:xlabel='Leather interior', ylabel='Price'>"
      ]
     },
     "execution_count": 31,
     "metadata": {},
     "output_type": "execute_result"
    },
    {
     "data": {
      "image/png": "[encoded data removed]",
      "text/plain": [
       "<Figure size 432x288 with 1 Axes>"
      ]
     },
     "metadata": {
      "needs_background": "light"
     },
     "output_type": "display_data"
    }
   ],
   "source": [
    "sns.boxplot(x=df['Leather interior'],y=df['Price'])"
   ]
  },
  {
   "cell_type": "code",
   "execution_count": 32,
   "id": "ca5bf47d",
   "metadata": {
    "scrolled": true
   },
   "outputs": [
    {
     "data": {
      "text/plain": [
       "<AxesSubplot:xlabel='Fuel type', ylabel='Price'>"
      ]
     },
     "execution_count": 32,
     "metadata": {},
     "output_type": "execute_result"
    },
    {
     "data": {
      "image/png": "[encoded data removed]",
      "text/plain": [
       "<Figure size 432x288 with 1 Axes>"
      ]
     },
     "metadata": {
      "needs_background": "light"
     },
     "output_type": "display_data"
    }
   ],
   "source": [
    "sns.boxplot(x=df['Fuel type'],y=df['Price'])"
   ]
  },
  {
   "cell_type": "code",
   "execution_count": 15,
   "id": "b2316060",
   "metadata": {},
   "outputs": [],
   "source": [
    "df.drop(index=df[(df['Fuel type']=='Hybrid')& (df['Price']>80000)].index,inplace=True)\n",
    "df.drop(index=df[(df['Fuel type']=='Plug-in Hybrid')& (df['Price']>60000)].index,inplace=True)\n",
    "df.drop(index=df[(df['Fuel type']=='Hydrogen')].index,inplace=True)"
   ]
  },
  {
   "cell_type": "code",
   "execution_count": 33,
   "id": "72dc94f3",
   "metadata": {},
   "outputs": [
    {
     "data": {
      "text/plain": [
       "<AxesSubplot:xlabel='Gear box type', ylabel='Price'>"
      ]
     },
     "execution_count": 33,
     "metadata": {},
     "output_type": "execute_result"
    },
    {
     "data": {
      "image/png": "[encoded data removed]",
      "text/plain": [
       "<Figure size 432x288 with 1 Axes>"
      ]
     },
     "metadata": {
      "needs_background": "light"
     },
     "output_type": "display_data"
    }
   ],
   "source": [
    "sns.boxplot(x=df['Gear box type'],y=df['Price'])"
   ]
  },
  {
   "cell_type": "code",
   "execution_count": 16,
   "id": "0fe18fa5",
   "metadata": {},
   "outputs": [],
   "source": [
    "df.drop(index=df[(df['Gear box type']=='Variator')& (df['Price']>70000)].index,inplace=True)\n",
    "df.drop(index=df[(df['Gear box type']=='Manual')& (df['Price']>80000)].index,inplace=True)"
   ]
  },
  {
   "cell_type": "code",
   "execution_count": 34,
   "id": "c72ce670",
   "metadata": {},
   "outputs": [
    {
     "data": {
      "text/plain": [
       "<AxesSubplot:xlabel='Drive wheels', ylabel='Price'>"
      ]
     },
     "execution_count": 34,
     "metadata": {},
     "output_type": "execute_result"
    },
    {
     "data": {
      "image/png": "[encoded data removed]",
      "text/plain": [
       "<Figure size 432x288 with 1 Axes>"
      ]
     },
     "metadata": {
      "needs_background": "light"
     },
     "output_type": "display_data"
    }
   ],
   "source": [
    "sns.boxplot(x=df['Drive wheels'],y=df['Price'])"
   ]
  },
  {
   "cell_type": "code",
   "execution_count": 35,
   "id": "d2fccb25",
   "metadata": {},
   "outputs": [
    {
     "data": {
      "text/plain": [
       "<AxesSubplot:xlabel='Doors', ylabel='Price'>"
      ]
     },
     "execution_count": 35,
     "metadata": {},
     "output_type": "execute_result"
    },
    {
     "data": {
      "image/png": "[encoded data removed]",
      "text/plain": [
       "<Figure size 432x288 with 1 Axes>"
      ]
     },
     "metadata": {
      "needs_background": "light"
     },
     "output_type": "display_data"
    }
   ],
   "source": [
    "sns.boxplot(x=df['Doors'],y=df['Price'])"
   ]
  },
  {
   "cell_type": "code",
   "execution_count": 17,
   "id": "0e04de1c",
   "metadata": {},
   "outputs": [],
   "source": [
    "df.drop(index=df[(df['Doors']=='>5')& (df['Price']>85000)].index,inplace=True)"
   ]
  },
  {
   "cell_type": "code",
   "execution_count": 156,
   "id": "a837d41e",
   "metadata": {},
   "outputs": [
    {
     "data": {
      "text/plain": [
       "<AxesSubplot:xlabel='Wheel', ylabel='Price'>"
      ]
     },
     "execution_count": 156,
     "metadata": {},
     "output_type": "execute_result"
    },
    {
     "data": {
      "image/png": "[encoded data removed]",
      "text/plain": [
       "<Figure size 432x288 with 1 Axes>"
      ]
     },
     "metadata": {
      "needs_background": "light"
     },
     "output_type": "display_data"
    }
   ],
   "source": [
    "sns.boxplot(x=df['Wheel'],y=df['Price'])"
   ]
  },
  {
   "cell_type": "code",
   "execution_count": 18,
   "id": "20bb4407",
   "metadata": {},
   "outputs": [],
   "source": [
    "df.drop(index=df[(df['Wheel']=='Right-hand drive')& (df['Price']>40000)].index,inplace=True)"
   ]
  },
  {
   "cell_type": "code",
   "execution_count": 21,
   "id": "67e83b6d",
   "metadata": {},
   "outputs": [
    {
     "data": {
      "text/plain": [
       "<AxesSubplot:xlabel='Color', ylabel='Price'>"
      ]
     },
     "execution_count": 21,
     "metadata": {},
     "output_type": "execute_result"
    },
    {
     "data": {
      "image/png": "[encoded data removed]",
      "text/plain": [
       "<Figure size 1152x360 with 1 Axes>"
      ]
     },
     "metadata": {
      "needs_background": "light"
     },
     "output_type": "display_data"
    }
   ],
   "source": [
    "plt.figure(figsize=(16,5))\n",
    "sns.boxplot(x=df['Color'],y=df['Price'])"
   ]
  },
  {
   "cell_type": "markdown",
   "id": "1c960c24",
   "metadata": {},
   "source": [
    "##### Airbags"
   ]
  },
  {
   "cell_type": "code",
   "execution_count": 201,
   "id": "8ecb266a",
   "metadata": {
    "scrolled": true
   },
   "outputs": [
    {
     "data": {
      "text/plain": [
       "<AxesSubplot:xlabel='Airbags', ylabel='Price'>"
      ]
     },
     "execution_count": 201,
     "metadata": {},
     "output_type": "execute_result"
    },
    {
     "data": {
      "image/png": "[encoded data removed]",
      "text/plain": [
       "<Figure size 1152x360 with 1 Axes>"
      ]
     },
     "metadata": {
      "needs_background": "light"
     },
     "output_type": "display_data"
    }
   ],
   "source": [
    "plt.figure(figsize=(16,5))\n",
    "sns.boxplot(x=df['Airbags'],y=df['Price'])"
   ]
  },
  {
   "cell_type": "code",
   "execution_count": 19,
   "id": "86373b82",
   "metadata": {},
   "outputs": [],
   "source": [
    "#df.drop(index=df[(df['Wheel']=='Right-hand drive')& (df['Price']>40000)].index,inplace=True)\n",
    "df.drop(index=df[((df['Airbags']==0)|(df['Airbags']==2)|(df['Airbags']==6)|(df['Airbags']==8)|(df['Airbags']==10)) & (df['Price']>60000)].index,inplace=True)\n",
    "df.drop(index=df[(df['Airbags']==1)& (df['Price']>40000)].index,inplace=True)\n",
    "df.drop(index=df[(df['Airbags']==5)& (df['Price']>30000)].index,inplace=True)\n",
    "df.drop(index=df[(df['Airbags']==7)& (df['Price']>35000)].index,inplace=True)\n",
    "df.drop(index=df[(df['Airbags']==9)& (df['Price']>40000)].index,inplace=True)\n",
    "df.drop(index=df[(df['Airbags']==14)& (df['Price']>40000)].index,inplace=True)"
   ]
  },
  {
   "cell_type": "code",
   "execution_count": 221,
   "id": "b784a1e4",
   "metadata": {},
   "outputs": [
    {
     "data": {
      "text/plain": [
       "<AxesSubplot:xlabel='Airbags', ylabel='Price'>"
      ]
     },
     "execution_count": 221,
     "metadata": {},
     "output_type": "execute_result"
    },
    {
     "data": {
      "image/png": "[encoded data removed]",
      "text/plain": [
       "<Figure size 1152x360 with 1 Axes>"
      ]
     },
     "metadata": {
      "needs_background": "light"
     },
     "output_type": "display_data"
    }
   ],
   "source": [
    "plt.figure(figsize=(16,5))\n",
    "sns.boxplot(x=df['Airbags'],y=df['Price'])"
   ]
  },
  {
   "cell_type": "markdown",
   "id": "40f7eaf0",
   "metadata": {},
   "source": [
    "##### Engine volume"
   ]
  },
  {
   "cell_type": "code",
   "execution_count": 130,
   "id": "bf50c4ec",
   "metadata": {},
   "outputs": [
    {
     "data": {
      "text/plain": [
       "<AxesSubplot:xlabel='Engine volume', ylabel='Price'>"
      ]
     },
     "execution_count": 130,
     "metadata": {},
     "output_type": "execute_result"
    },
    {
     "data": {
      "image/png": "[encoded data removed]",
      "text/plain": [
       "<Figure size 432x288 with 1 Axes>"
      ]
     },
     "metadata": {
      "needs_background": "light"
     },
     "output_type": "display_data"
    }
   ],
   "source": [
    "sns.regplot(df['Engine volume'],df['Price'])"
   ]
  },
  {
   "cell_type": "code",
   "execution_count": 20,
   "id": "9652df26",
   "metadata": {},
   "outputs": [],
   "source": [
    "df = df[df['Engine volume']<7]"
   ]
  },
  {
   "cell_type": "code",
   "execution_count": 132,
   "id": "5204a172",
   "metadata": {
    "scrolled": true
   },
   "outputs": [
    {
     "data": {
      "text/plain": [
       "<AxesSubplot:xlabel='Engine volume', ylabel='Price'>"
      ]
     },
     "execution_count": 132,
     "metadata": {},
     "output_type": "execute_result"
    },
    {
     "data": {
      "image/png": "[encoded data removed]",
      "text/plain": [
       "<Figure size 432x288 with 1 Axes>"
      ]
     },
     "metadata": {
      "needs_background": "light"
     },
     "output_type": "display_data"
    }
   ],
   "source": [
    "sns.regplot(df['Engine volume'],df['Price'])"
   ]
  },
  {
   "cell_type": "markdown",
   "id": "084a9321",
   "metadata": {},
   "source": [
    "#### Adding New Feature"
   ]
  },
  {
   "cell_type": "code",
   "execution_count": 21,
   "id": "62f6abbe",
   "metadata": {},
   "outputs": [],
   "source": [
    "new= []\n",
    "for mil in df['Mileage']:\n",
    "    if mil==0:\n",
    "        new.append(1)\n",
    "    else:\n",
    "        new.append(0)\n",
    "df['New_Car'] = new"
   ]
  },
  {
   "cell_type": "markdown",
   "id": "ea53f0ff",
   "metadata": {},
   "source": [
    "##### Mileage"
   ]
  },
  {
   "cell_type": "code",
   "execution_count": 230,
   "id": "61b1a088",
   "metadata": {},
   "outputs": [
    {
     "data": {
      "text/plain": [
       "<AxesSubplot:xlabel='Mileage', ylabel='Price'>"
      ]
     },
     "execution_count": 230,
     "metadata": {},
     "output_type": "execute_result"
    },
    {
     "data": {
      "image/png": "[encoded data removed]",
      "text/plain": [
       "<Figure size 432x288 with 1 Axes>"
      ]
     },
     "metadata": {
      "needs_background": "light"
     },
     "output_type": "display_data"
    }
   ],
   "source": [
    "sns.regplot(df['Mileage'],df['Price'])"
   ]
  },
  {
   "cell_type": "code",
   "execution_count": 231,
   "id": "326c2a71",
   "metadata": {},
   "outputs": [
    {
     "data": {
      "text/plain": [
       "0         589\n",
       "200000    178\n",
       "150000    153\n",
       "160000    118\n",
       "180000    112\n",
       "Name: Mileage, dtype: int64"
      ]
     },
     "execution_count": 231,
     "metadata": {},
     "output_type": "execute_result"
    }
   ],
   "source": [
    "df['Mileage'].value_counts().sort_values(ascending=False).head()"
   ]
  },
  {
   "cell_type": "code",
   "execution_count": 22,
   "id": "287acca7",
   "metadata": {},
   "outputs": [],
   "source": [
    "df.drop(columns='Mileage',inplace=True)  #Droping Mileage"
   ]
  },
  {
   "cell_type": "markdown",
   "id": "fc2374a8",
   "metadata": {},
   "source": [
    "#### Cropping Price"
   ]
  },
  {
   "cell_type": "code",
   "execution_count": 144,
   "id": "fa8ebe4d",
   "metadata": {
    "scrolled": true
   },
   "outputs": [
    {
     "data": {
      "text/plain": [
       "<AxesSubplot:xlabel='Price', ylabel='Count'>"
      ]
     },
     "execution_count": 144,
     "metadata": {},
     "output_type": "execute_result"
    },
    {
     "data": {
      "image/png": "[encoded data removed]",
      "text/plain": [
       "<Figure size 432x288 with 1 Axes>"
      ]
     },
     "metadata": {
      "needs_background": "light"
     },
     "output_type": "display_data"
    }
   ],
   "source": [
    "sns.histplot(df[df['Price']<1000]['Price'],bins=50)"
   ]
  },
  {
   "cell_type": "code",
   "execution_count": 23,
   "id": "c034c2d5",
   "metadata": {},
   "outputs": [],
   "source": [
    "df = df[df['Price']>1000]"
   ]
  },
  {
   "cell_type": "markdown",
   "id": "8ad3b56c",
   "metadata": {},
   "source": [
    "#### Fixing Levy"
   ]
  },
  {
   "cell_type": "code",
   "execution_count": 149,
   "id": "6501d23f",
   "metadata": {},
   "outputs": [
    {
     "data": {
      "text/plain": [
       "<AxesSubplot:xlabel='Levy', ylabel='Density'>"
      ]
     },
     "execution_count": 149,
     "metadata": {},
     "output_type": "execute_result"
    },
    {
     "data": {
      "image/png": "[encoded data removed]",
      "text/plain": [
       "<Figure size 432x288 with 1 Axes>"
      ]
     },
     "metadata": {
      "needs_background": "light"
     },
     "output_type": "display_data"
    }
   ],
   "source": [
    "sns.distplot(df['Levy'])"
   ]
  },
  {
   "cell_type": "code",
   "execution_count": 24,
   "id": "485f864f",
   "metadata": {},
   "outputs": [],
   "source": [
    "de = df.copy()\n",
    "de['Levy'] = de['Levy']/1000\n",
    "levymax = (de['Levy'].median()+ 3*de['Levy'].std())*1000\n",
    "levy=[]\n",
    "for l in df['Levy']:\n",
    "    if l>levymax:\n",
    "        levy.append(levymax)\n",
    "    else:\n",
    "        levy.append(l)\n",
    "df.drop(columns='Levy',inplace=True)\n",
    "df['Levy'] = levy"
   ]
  },
  {
   "cell_type": "code",
   "execution_count": 180,
   "id": "6856de13",
   "metadata": {},
   "outputs": [
    {
     "data": {
      "text/plain": [
       "<AxesSubplot:xlabel='Levy', ylabel='Density'>"
      ]
     },
     "execution_count": 180,
     "metadata": {},
     "output_type": "execute_result"
    },
    {
     "data": {
      "image/png": "[encoded data removed]",
      "text/plain": [
       "<Figure size 432x288 with 1 Axes>"
      ]
     },
     "metadata": {
      "needs_background": "light"
     },
     "output_type": "display_data"
    }
   ],
   "source": [
    "sns.distplot(df['Levy'])"
   ]
  },
  {
   "cell_type": "code",
   "execution_count": 235,
   "id": "abd5994e",
   "metadata": {},
   "outputs": [
    {
     "data": {
      "text/html": [
       "<div>\n",
       "<style scoped>\n",
       "    .dataframe tbody tr th:only-of-type {\n",
       "        vertical-align: middle;\n",
       "    }\n",
       "\n",
       "    .dataframe tbody tr th {\n",
       "        vertical-align: top;\n",
       "    }\n",
       "\n",
       "    .dataframe thead th {\n",
       "        text-align: right;\n",
       "    }\n",
       "</style>\n",
       "<table border=\"1\" class=\"dataframe\">\n",
       "  <thead>\n",
       "    <tr style=\"text-align: right;\">\n",
       "      <th></th>\n",
       "      <th>Price</th>\n",
       "      <th>Manufacturer</th>\n",
       "      <th>Model</th>\n",
       "      <th>Prod. year</th>\n",
       "      <th>Category</th>\n",
       "      <th>Leather interior</th>\n",
       "      <th>Fuel type</th>\n",
       "      <th>Engine volume</th>\n",
       "      <th>Cylinders</th>\n",
       "      <th>Gear box type</th>\n",
       "      <th>Drive wheels</th>\n",
       "      <th>Doors</th>\n",
       "      <th>Wheel</th>\n",
       "      <th>Color</th>\n",
       "      <th>Airbags</th>\n",
       "      <th>Turbo</th>\n",
       "      <th>New_Car</th>\n",
       "      <th>Levy</th>\n",
       "    </tr>\n",
       "    <tr>\n",
       "      <th>ID</th>\n",
       "      <th></th>\n",
       "      <th></th>\n",
       "      <th></th>\n",
       "      <th></th>\n",
       "      <th></th>\n",
       "      <th></th>\n",
       "      <th></th>\n",
       "      <th></th>\n",
       "      <th></th>\n",
       "      <th></th>\n",
       "      <th></th>\n",
       "      <th></th>\n",
       "      <th></th>\n",
       "      <th></th>\n",
       "      <th></th>\n",
       "      <th></th>\n",
       "      <th></th>\n",
       "      <th></th>\n",
       "    </tr>\n",
       "  </thead>\n",
       "  <tbody>\n",
       "    <tr>\n",
       "      <th>45654403</th>\n",
       "      <td>13328</td>\n",
       "      <td>LEXUS</td>\n",
       "      <td>RX 450</td>\n",
       "      <td>2010</td>\n",
       "      <td>Jeep</td>\n",
       "      <td>Yes</td>\n",
       "      <td>Hybrid</td>\n",
       "      <td>3.500000</td>\n",
       "      <td>6.0</td>\n",
       "      <td>Automatic</td>\n",
       "      <td>4x4</td>\n",
       "      <td>04-May</td>\n",
       "      <td>Left wheel</td>\n",
       "      <td>Silver</td>\n",
       "      <td>12</td>\n",
       "      <td>0</td>\n",
       "      <td>0</td>\n",
       "      <td>1399.0</td>\n",
       "    </tr>\n",
       "    <tr>\n",
       "      <th>44731507</th>\n",
       "      <td>16621</td>\n",
       "      <td>CHEVROLET</td>\n",
       "      <td>Equinox</td>\n",
       "      <td>2011</td>\n",
       "      <td>Jeep</td>\n",
       "      <td>No</td>\n",
       "      <td>Petrol</td>\n",
       "      <td>3.000000</td>\n",
       "      <td>6.0</td>\n",
       "      <td>Tiptronic</td>\n",
       "      <td>4x4</td>\n",
       "      <td>04-May</td>\n",
       "      <td>Left wheel</td>\n",
       "      <td>Black</td>\n",
       "      <td>8</td>\n",
       "      <td>0</td>\n",
       "      <td>0</td>\n",
       "      <td>1018.0</td>\n",
       "    </tr>\n",
       "    <tr>\n",
       "      <th>45774419</th>\n",
       "      <td>8467</td>\n",
       "      <td>HONDA</td>\n",
       "      <td>FIT</td>\n",
       "      <td>2006</td>\n",
       "      <td>Hatchback</td>\n",
       "      <td>No</td>\n",
       "      <td>Petrol</td>\n",
       "      <td>1.299805</td>\n",
       "      <td>4.0</td>\n",
       "      <td>Variator</td>\n",
       "      <td>Front</td>\n",
       "      <td>04-May</td>\n",
       "      <td>Right-hand drive</td>\n",
       "      <td>Black</td>\n",
       "      <td>2</td>\n",
       "      <td>0</td>\n",
       "      <td>0</td>\n",
       "      <td>779.0</td>\n",
       "    </tr>\n",
       "    <tr>\n",
       "      <th>45769185</th>\n",
       "      <td>3607</td>\n",
       "      <td>FORD</td>\n",
       "      <td>Escape</td>\n",
       "      <td>2011</td>\n",
       "      <td>Jeep</td>\n",
       "      <td>Yes</td>\n",
       "      <td>Hybrid</td>\n",
       "      <td>2.500000</td>\n",
       "      <td>4.0</td>\n",
       "      <td>Automatic</td>\n",
       "      <td>4x4</td>\n",
       "      <td>04-May</td>\n",
       "      <td>Left wheel</td>\n",
       "      <td>White</td>\n",
       "      <td>0</td>\n",
       "      <td>0</td>\n",
       "      <td>0</td>\n",
       "      <td>862.0</td>\n",
       "    </tr>\n",
       "    <tr>\n",
       "      <th>45809263</th>\n",
       "      <td>11726</td>\n",
       "      <td>HONDA</td>\n",
       "      <td>FIT</td>\n",
       "      <td>2014</td>\n",
       "      <td>Hatchback</td>\n",
       "      <td>Yes</td>\n",
       "      <td>Petrol</td>\n",
       "      <td>1.299805</td>\n",
       "      <td>4.0</td>\n",
       "      <td>Automatic</td>\n",
       "      <td>Front</td>\n",
       "      <td>04-May</td>\n",
       "      <td>Left wheel</td>\n",
       "      <td>Silver</td>\n",
       "      <td>4</td>\n",
       "      <td>0</td>\n",
       "      <td>0</td>\n",
       "      <td>446.0</td>\n",
       "    </tr>\n",
       "  </tbody>\n",
       "</table>\n",
       "</div>"
      ],
      "text/plain": [
       "          Price Manufacturer    Model  Prod. year   Category Leather interior  \\\n",
       "ID                                                                              \n",
       "45654403  13328        LEXUS   RX 450        2010       Jeep              Yes   \n",
       "44731507  16621    CHEVROLET  Equinox        2011       Jeep               No   \n",
       "45774419   8467        HONDA      FIT        2006  Hatchback               No   \n",
       "45769185   3607         FORD   Escape        2011       Jeep              Yes   \n",
       "45809263  11726        HONDA      FIT        2014  Hatchback              Yes   \n",
       "\n",
       "         Fuel type  Engine volume  Cylinders Gear box type Drive wheels  \\\n",
       "ID                                                                        \n",
       "45654403    Hybrid       3.500000        6.0     Automatic          4x4   \n",
       "44731507    Petrol       3.000000        6.0     Tiptronic          4x4   \n",
       "45774419    Petrol       1.299805        4.0      Variator        Front   \n",
       "45769185    Hybrid       2.500000        4.0     Automatic          4x4   \n",
       "45809263    Petrol       1.299805        4.0     Automatic        Front   \n",
       "\n",
       "           Doors             Wheel   Color  Airbags  Turbo  New_Car    Levy  \n",
       "ID                                                                           \n",
       "45654403  04-May        Left wheel  Silver       12      0        0  1399.0  \n",
       "44731507  04-May        Left wheel   Black        8      0        0  1018.0  \n",
       "45774419  04-May  Right-hand drive   Black        2      0        0   779.0  \n",
       "45769185  04-May        Left wheel   White        0      0        0   862.0  \n",
       "45809263  04-May        Left wheel  Silver        4      0        0   446.0  "
      ]
     },
     "execution_count": 235,
     "metadata": {},
     "output_type": "execute_result"
    }
   ],
   "source": [
    "df.head()"
   ]
  },
  {
   "cell_type": "code",
   "execution_count": 28,
   "id": "0f9c93d7",
   "metadata": {},
   "outputs": [],
   "source": [
    "categ_variables = [\"Model\", \"Color\", \"Manufacturer\", \"Category\", \"Fuel type\", \"Gear box type\", \"Drive wheels\", \"Doors\", \"Wheel\"]\n",
    "one_hot_categ = [\"Category\", \"Fuel type\", \"Gear box type\", \"Drive wheels\", \"Doors\", \"Wheel\",\"Leather interior\"]\n",
    "target_categ = [\"Model\",\"Color\",\"Manufacturer\"]"
   ]
  },
  {
   "cell_type": "markdown",
   "id": "c9f9d010",
   "metadata": {},
   "source": [
    "\n",
    "## Target encoding"
   ]
  },
  {
   "cell_type": "code",
   "execution_count": 29,
   "id": "27f1f49b",
   "metadata": {},
   "outputs": [],
   "source": [
    "def Target_Encoding(df1,cols):\n",
    "    tar_dict={}\n",
    "    for col in cols:\n",
    "        a = df1.groupby(col)[\"Price\"].median().reset_index()\n",
    "        df1 = df1.merge(a,on=col,how='left')\n",
    "        df1.drop(columns=col,inplace=True)\n",
    "        df1.rename(columns={'Price_x':'Price','Price_y':'encoded_'+col},inplace=True)\n",
    "        tar_dict[col]=a\n",
    "    return df1, tar_dict"
   ]
  },
  {
   "cell_type": "code",
   "execution_count": 30,
   "id": "1ca29fd7",
   "metadata": {},
   "outputs": [],
   "source": [
    "df, tar_enc_dict = Target_Encoding(df,target_categ)"
   ]
  },
  {
   "cell_type": "markdown",
   "id": "0bb500b8",
   "metadata": {},
   "source": [
    "## One Hot Encoding"
   ]
  },
  {
   "cell_type": "code",
   "execution_count": 31,
   "id": "3f8edbc4",
   "metadata": {},
   "outputs": [
    {
     "data": {
      "text/html": [
       "<div>\n",
       "<style scoped>\n",
       "    .dataframe tbody tr th:only-of-type {\n",
       "        vertical-align: middle;\n",
       "    }\n",
       "\n",
       "    .dataframe tbody tr th {\n",
       "        vertical-align: top;\n",
       "    }\n",
       "\n",
       "    .dataframe thead th {\n",
       "        text-align: right;\n",
       "    }\n",
       "</style>\n",
       "<table border=\"1\" class=\"dataframe\">\n",
       "  <thead>\n",
       "    <tr style=\"text-align: right;\">\n",
       "      <th></th>\n",
       "      <th>Price</th>\n",
       "      <th>Prod. year</th>\n",
       "      <th>Engine volume</th>\n",
       "      <th>Cylinders</th>\n",
       "      <th>Airbags</th>\n",
       "      <th>Turbo</th>\n",
       "      <th>New_Car</th>\n",
       "      <th>Levy</th>\n",
       "      <th>encoded_Model</th>\n",
       "      <th>encoded_Color</th>\n",
       "      <th>encoded_Manufacturer</th>\n",
       "      <th>x0_Cabriolet</th>\n",
       "      <th>x0_Coupe</th>\n",
       "      <th>x0_Goods wagon</th>\n",
       "      <th>x0_Hatchback</th>\n",
       "      <th>x0_Jeep</th>\n",
       "      <th>x0_Limousine</th>\n",
       "      <th>x0_Microbus</th>\n",
       "      <th>x0_Minivan</th>\n",
       "      <th>x0_Pickup</th>\n",
       "      <th>x0_Sedan</th>\n",
       "      <th>x0_Universal</th>\n",
       "      <th>x1_CNG</th>\n",
       "      <th>x1_Diesel</th>\n",
       "      <th>x1_Hybrid</th>\n",
       "      <th>x1_LPG</th>\n",
       "      <th>x1_Petrol</th>\n",
       "      <th>x1_Plug-in Hybrid</th>\n",
       "      <th>x2_Automatic</th>\n",
       "      <th>x2_Manual</th>\n",
       "      <th>x2_Tiptronic</th>\n",
       "      <th>x2_Variator</th>\n",
       "      <th>x3_4x4</th>\n",
       "      <th>x3_Front</th>\n",
       "      <th>x3_Rear</th>\n",
       "      <th>x4_02-Mar</th>\n",
       "      <th>x4_04-May</th>\n",
       "      <th>x4_&gt;5</th>\n",
       "      <th>x5_Right-hand drive</th>\n",
       "      <th>x6_Yes</th>\n",
       "    </tr>\n",
       "  </thead>\n",
       "  <tbody>\n",
       "    <tr>\n",
       "      <th>0</th>\n",
       "      <td>13328</td>\n",
       "      <td>2010</td>\n",
       "      <td>3.500000</td>\n",
       "      <td>6.0</td>\n",
       "      <td>12</td>\n",
       "      <td>0</td>\n",
       "      <td>0</td>\n",
       "      <td>1399.0</td>\n",
       "      <td>14504.5</td>\n",
       "      <td>13799.0</td>\n",
       "      <td>23521.0</td>\n",
       "      <td>0</td>\n",
       "      <td>0</td>\n",
       "      <td>0</td>\n",
       "      <td>0</td>\n",
       "      <td>1</td>\n",
       "      <td>0</td>\n",
       "      <td>0</td>\n",
       "      <td>0</td>\n",
       "      <td>0</td>\n",
       "      <td>0</td>\n",
       "      <td>0</td>\n",
       "      <td>0</td>\n",
       "      <td>0</td>\n",
       "      <td>1</td>\n",
       "      <td>0</td>\n",
       "      <td>0</td>\n",
       "      <td>0</td>\n",
       "      <td>1</td>\n",
       "      <td>0</td>\n",
       "      <td>0</td>\n",
       "      <td>0</td>\n",
       "      <td>1</td>\n",
       "      <td>0</td>\n",
       "      <td>0</td>\n",
       "      <td>0</td>\n",
       "      <td>1</td>\n",
       "      <td>0</td>\n",
       "      <td>0</td>\n",
       "      <td>1</td>\n",
       "    </tr>\n",
       "    <tr>\n",
       "      <th>1</th>\n",
       "      <td>16621</td>\n",
       "      <td>2011</td>\n",
       "      <td>3.000000</td>\n",
       "      <td>6.0</td>\n",
       "      <td>8</td>\n",
       "      <td>0</td>\n",
       "      <td>0</td>\n",
       "      <td>1018.0</td>\n",
       "      <td>3293.0</td>\n",
       "      <td>16935.0</td>\n",
       "      <td>14740.0</td>\n",
       "      <td>0</td>\n",
       "      <td>0</td>\n",
       "      <td>0</td>\n",
       "      <td>0</td>\n",
       "      <td>1</td>\n",
       "      <td>0</td>\n",
       "      <td>0</td>\n",
       "      <td>0</td>\n",
       "      <td>0</td>\n",
       "      <td>0</td>\n",
       "      <td>0</td>\n",
       "      <td>0</td>\n",
       "      <td>0</td>\n",
       "      <td>0</td>\n",
       "      <td>0</td>\n",
       "      <td>1</td>\n",
       "      <td>0</td>\n",
       "      <td>0</td>\n",
       "      <td>0</td>\n",
       "      <td>1</td>\n",
       "      <td>0</td>\n",
       "      <td>1</td>\n",
       "      <td>0</td>\n",
       "      <td>0</td>\n",
       "      <td>0</td>\n",
       "      <td>1</td>\n",
       "      <td>0</td>\n",
       "      <td>0</td>\n",
       "      <td>0</td>\n",
       "    </tr>\n",
       "    <tr>\n",
       "      <th>2</th>\n",
       "      <td>8467</td>\n",
       "      <td>2006</td>\n",
       "      <td>1.299805</td>\n",
       "      <td>4.0</td>\n",
       "      <td>2</td>\n",
       "      <td>0</td>\n",
       "      <td>0</td>\n",
       "      <td>779.0</td>\n",
       "      <td>11290.0</td>\n",
       "      <td>16935.0</td>\n",
       "      <td>11917.0</td>\n",
       "      <td>0</td>\n",
       "      <td>0</td>\n",
       "      <td>0</td>\n",
       "      <td>1</td>\n",
       "      <td>0</td>\n",
       "      <td>0</td>\n",
       "      <td>0</td>\n",
       "      <td>0</td>\n",
       "      <td>0</td>\n",
       "      <td>0</td>\n",
       "      <td>0</td>\n",
       "      <td>0</td>\n",
       "      <td>0</td>\n",
       "      <td>0</td>\n",
       "      <td>0</td>\n",
       "      <td>1</td>\n",
       "      <td>0</td>\n",
       "      <td>0</td>\n",
       "      <td>0</td>\n",
       "      <td>0</td>\n",
       "      <td>1</td>\n",
       "      <td>0</td>\n",
       "      <td>1</td>\n",
       "      <td>0</td>\n",
       "      <td>0</td>\n",
       "      <td>1</td>\n",
       "      <td>0</td>\n",
       "      <td>1</td>\n",
       "      <td>0</td>\n",
       "    </tr>\n",
       "    <tr>\n",
       "      <th>3</th>\n",
       "      <td>3607</td>\n",
       "      <td>2011</td>\n",
       "      <td>2.500000</td>\n",
       "      <td>4.0</td>\n",
       "      <td>0</td>\n",
       "      <td>0</td>\n",
       "      <td>0</td>\n",
       "      <td>862.0</td>\n",
       "      <td>16072.5</td>\n",
       "      <td>17249.0</td>\n",
       "      <td>14426.0</td>\n",
       "      <td>0</td>\n",
       "      <td>0</td>\n",
       "      <td>0</td>\n",
       "      <td>0</td>\n",
       "      <td>1</td>\n",
       "      <td>0</td>\n",
       "      <td>0</td>\n",
       "      <td>0</td>\n",
       "      <td>0</td>\n",
       "      <td>0</td>\n",
       "      <td>0</td>\n",
       "      <td>0</td>\n",
       "      <td>0</td>\n",
       "      <td>1</td>\n",
       "      <td>0</td>\n",
       "      <td>0</td>\n",
       "      <td>0</td>\n",
       "      <td>1</td>\n",
       "      <td>0</td>\n",
       "      <td>0</td>\n",
       "      <td>0</td>\n",
       "      <td>1</td>\n",
       "      <td>0</td>\n",
       "      <td>0</td>\n",
       "      <td>0</td>\n",
       "      <td>1</td>\n",
       "      <td>0</td>\n",
       "      <td>0</td>\n",
       "      <td>1</td>\n",
       "    </tr>\n",
       "    <tr>\n",
       "      <th>4</th>\n",
       "      <td>11726</td>\n",
       "      <td>2014</td>\n",
       "      <td>1.299805</td>\n",
       "      <td>4.0</td>\n",
       "      <td>4</td>\n",
       "      <td>0</td>\n",
       "      <td>0</td>\n",
       "      <td>446.0</td>\n",
       "      <td>11290.0</td>\n",
       "      <td>13799.0</td>\n",
       "      <td>11917.0</td>\n",
       "      <td>0</td>\n",
       "      <td>0</td>\n",
       "      <td>0</td>\n",
       "      <td>1</td>\n",
       "      <td>0</td>\n",
       "      <td>0</td>\n",
       "      <td>0</td>\n",
       "      <td>0</td>\n",
       "      <td>0</td>\n",
       "      <td>0</td>\n",
       "      <td>0</td>\n",
       "      <td>0</td>\n",
       "      <td>0</td>\n",
       "      <td>0</td>\n",
       "      <td>0</td>\n",
       "      <td>1</td>\n",
       "      <td>0</td>\n",
       "      <td>1</td>\n",
       "      <td>0</td>\n",
       "      <td>0</td>\n",
       "      <td>0</td>\n",
       "      <td>0</td>\n",
       "      <td>1</td>\n",
       "      <td>0</td>\n",
       "      <td>0</td>\n",
       "      <td>1</td>\n",
       "      <td>0</td>\n",
       "      <td>0</td>\n",
       "      <td>1</td>\n",
       "    </tr>\n",
       "  </tbody>\n",
       "</table>\n",
       "</div>"
      ],
      "text/plain": [
       "   Price  Prod. year  Engine volume  Cylinders  Airbags  Turbo  New_Car  \\\n",
       "0  13328        2010       3.500000        6.0       12      0        0   \n",
       "1  16621        2011       3.000000        6.0        8      0        0   \n",
       "2   8467        2006       1.299805        4.0        2      0        0   \n",
       "3   3607        2011       2.500000        4.0        0      0        0   \n",
       "4  11726        2014       1.299805        4.0        4      0        0   \n",
       "\n",
       "     Levy  encoded_Model  encoded_Color  encoded_Manufacturer  x0_Cabriolet  \\\n",
       "0  1399.0        14504.5        13799.0               23521.0             0   \n",
       "1  1018.0         3293.0        16935.0               14740.0             0   \n",
       "2   779.0        11290.0        16935.0               11917.0             0   \n",
       "3   862.0        16072.5        17249.0               14426.0             0   \n",
       "4   446.0        11290.0        13799.0               11917.0             0   \n",
       "\n",
       "   x0_Coupe  x0_Goods wagon  x0_Hatchback  x0_Jeep  x0_Limousine  x0_Microbus  \\\n",
       "0         0               0             0        1             0            0   \n",
       "1         0               0             0        1             0            0   \n",
       "2         0               0             1        0             0            0   \n",
       "3         0               0             0        1             0            0   \n",
       "4         0               0             1        0             0            0   \n",
       "\n",
       "   x0_Minivan  x0_Pickup  x0_Sedan  x0_Universal  x1_CNG  x1_Diesel  \\\n",
       "0           0          0         0             0       0          0   \n",
       "1           0          0         0             0       0          0   \n",
       "2           0          0         0             0       0          0   \n",
       "3           0          0         0             0       0          0   \n",
       "4           0          0         0             0       0          0   \n",
       "\n",
       "   x1_Hybrid  x1_LPG  x1_Petrol  x1_Plug-in Hybrid  x2_Automatic  x2_Manual  \\\n",
       "0          1       0          0                  0             1          0   \n",
       "1          0       0          1                  0             0          0   \n",
       "2          0       0          1                  0             0          0   \n",
       "3          1       0          0                  0             1          0   \n",
       "4          0       0          1                  0             1          0   \n",
       "\n",
       "   x2_Tiptronic  x2_Variator  x3_4x4  x3_Front  x3_Rear  x4_02-Mar  x4_04-May  \\\n",
       "0             0            0       1         0        0          0          1   \n",
       "1             1            0       1         0        0          0          1   \n",
       "2             0            1       0         1        0          0          1   \n",
       "3             0            0       1         0        0          0          1   \n",
       "4             0            0       0         1        0          0          1   \n",
       "\n",
       "   x4_>5  x5_Right-hand drive  x6_Yes  \n",
       "0      0                    0       1  \n",
       "1      0                    0       0  \n",
       "2      0                    1       0  \n",
       "3      0                    0       1  \n",
       "4      0                    0       1  "
      ]
     },
     "execution_count": 31,
     "metadata": {},
     "output_type": "execute_result"
    }
   ],
   "source": [
    "from sklearn.preprocessing import OneHotEncoder\n",
    "ohe = OneHotEncoder(sparse=False,drop='if_binary',handle_unknown='ignore',dtype='int32')\n",
    "o = pd.DataFrame(data = ohe.fit_transform(df[one_hot_categ]),index=df.index,columns=ohe.get_feature_names())\n",
    "df = pd.concat((df,o),axis=1)\n",
    "df.drop(columns=one_hot_categ,inplace=True)\n",
    "df.head()"
   ]
  },
  {
   "cell_type": "markdown",
   "id": "c2cbf0cd",
   "metadata": {},
   "source": [
    "### Feature Importance"
   ]
  },
  {
   "cell_type": "code",
   "execution_count": 32,
   "id": "2d92f611",
   "metadata": {},
   "outputs": [
    {
     "data": {
      "text/plain": [
       "ExtraTreesRegressor()"
      ]
     },
     "execution_count": 32,
     "metadata": {},
     "output_type": "execute_result"
    }
   ],
   "source": [
    "from sklearn.ensemble import ExtraTreesRegressor\n",
    "etr = ExtraTreesRegressor()\n",
    "X = df.drop(columns='Price')\n",
    "y = df['Price']\n",
    "etr.fit(X,y)"
   ]
  },
  {
   "cell_type": "code",
   "execution_count": 249,
   "id": "898095f7",
   "metadata": {},
   "outputs": [
    {
     "data": {
      "text/plain": [
       "<AxesSubplot:>"
      ]
     },
     "execution_count": 249,
     "metadata": {},
     "output_type": "execute_result"
    },
    {
     "data": {
      "image/png": "[encoded data removed]",
      "text/plain": [
       "<Figure size 1152x432 with 1 Axes>"
      ]
     },
     "metadata": {
      "needs_background": "light"
     },
     "output_type": "display_data"
    }
   ],
   "source": [
    "plt.figure(figsize=(16,6))\n",
    "plt.xticks(rotation=90)\n",
    "plt.\n",
    "sns.barplot(x=X.columns,y=etr.feature_importances_)"
   ]
  },
  {
   "cell_type": "code",
   "execution_count": 33,
   "id": "7fae28ba",
   "metadata": {},
   "outputs": [],
   "source": [
    "from sklearn.preprocessing import MinMaxScaler, RobustScaler, StandardScaler\n",
    "from sklearn.model_selection import train_test_split, GridSearchCV, RandomizedSearchCV\n",
    "from sklearn.ensemble import RandomForestRegressor\n",
    "from sklearn.linear_model import Lasso, BayesianRidge\n",
    "from sklearn.metrics import mean_squared_log_error, r2_score\n",
    "from xgboost import XGBRegressor, XGBRFRegressor"
   ]
  },
  {
   "cell_type": "code",
   "execution_count": 34,
   "id": "79c24841",
   "metadata": {},
   "outputs": [],
   "source": [
    "lasso = Lasso()\n",
    "rf = RandomForestRegressor()\n",
    "xgb = XGBRegressor()\n",
    "xgbrf = XGBRFRegressor()"
   ]
  },
  {
   "cell_type": "code",
   "execution_count": 35,
   "id": "c09ba945",
   "metadata": {},
   "outputs": [],
   "source": [
    "X = df.drop(columns='Price')\n",
    "Y = np.array(df['Price'])\n",
    "Y = Y.reshape((-1,1))"
   ]
  },
  {
   "cell_type": "code",
   "execution_count": 36,
   "id": "1b1e1e5d",
   "metadata": {},
   "outputs": [
    {
     "name": "stdout",
     "output_type": "stream",
     "text": [
      "Train set error:  0.26196445807481944\n",
      "Test set error:  0.4330709485562565\n",
      "Train R2:  0.9433027861280207\n",
      "Test R2:  0.8042665693348842\n"
     ]
    }
   ],
   "source": [
    "# StandardScaler +RF\n",
    "\n",
    "ss1 = StandardScaler()\n",
    "ss2 = StandardScaler()\n",
    "x = ss1.fit_transform(X)\n",
    "y = ss2.fit_transform(Y)\n",
    "\n",
    "xtrain, xtest, ytrain, ytest = train_test_split(x,y,test_size=0.25,random_state=42)\n",
    "\n",
    "rf.fit(xtrain,ytrain)\n",
    "train_pred = np.array(rf.predict(xtrain))\n",
    "train_pred = train_pred.reshape((-1,1))\n",
    "ypred = np.array(rf.predict(xtest))\n",
    "ypred = ypred.reshape((-1,1))\n",
    "\n",
    "ytrain = ss2.inverse_transform(ytrain)\n",
    "ytest = ss2.inverse_transform(ytest)\n",
    "ypred = ss2.inverse_transform(ypred)\n",
    "train_pred = ss2.inverse_transform(train_pred)\n",
    "\n",
    "print(\"Train set error: \", np.sqrt(mean_squared_log_error(ytrain,train_pred)))\n",
    "print(\"Test set error: \", np.sqrt(mean_squared_log_error(ytest,ypred)))\n",
    "print(\"Train R2: \", r2_score(ytrain,train_pred))\n",
    "print(\"Test R2: \", r2_score(ytest,ypred))\n"
   ]
  },
  {
   "cell_type": "markdown",
   "id": "a422ec78",
   "metadata": {},
   "source": [
    "### Trying MinMax Scaler"
   ]
  },
  {
   "cell_type": "code",
   "execution_count": 37,
   "id": "57ba4e0f",
   "metadata": {},
   "outputs": [
    {
     "name": "stdout",
     "output_type": "stream",
     "text": [
      "Train set error:  0.2627029809390798\n",
      "Test set error:  0.43645093655252615\n",
      "Train R2:  0.9429309003038713\n",
      "Test R2:  0.8015490782236381\n"
     ]
    }
   ],
   "source": [
    "# MinMaxScaler + RF\n",
    "\n",
    "mms1 = MinMaxScaler()\n",
    "mms2 = MinMaxScaler()\n",
    "x = mms1.fit_transform(X)\n",
    "y = mms2.fit_transform(Y)\n",
    "\n",
    "xtrain, xtest, ytrain, ytest = train_test_split(x,y,test_size=0.25,random_state=42)\n",
    "\n",
    "rf.fit(xtrain,ytrain)\n",
    "train_pred = np.array(rf.predict(xtrain))\n",
    "train_pred = train_pred.reshape((-1,1))\n",
    "ypred = np.array(rf.predict(xtest))\n",
    "ypred = ypred.reshape((-1,1))\n",
    "\n",
    "ytrain = mms2.inverse_transform(ytrain)\n",
    "ytest = mms2.inverse_transform(ytest)\n",
    "ypred = mms2.inverse_transform(ypred)\n",
    "train_pred = mms2.inverse_transform(train_pred)\n",
    "\n",
    "print(\"Train set error: \", np.sqrt(mean_squared_log_error(ytrain,train_pred)))\n",
    "print(\"Test set error: \", np.sqrt(mean_squared_log_error(ytest,ypred)))\n",
    "print(\"Train R2: \", r2_score(ytrain,train_pred))\n",
    "print(\"Test R2: \", r2_score(ytest,ypred))\n"
   ]
  },
  {
   "cell_type": "markdown",
   "id": "b2578cd8",
   "metadata": {},
   "source": [
    "### Trying Robust Scaler"
   ]
  },
  {
   "cell_type": "code",
   "execution_count": 38,
   "id": "6332b9a3",
   "metadata": {},
   "outputs": [
    {
     "name": "stdout",
     "output_type": "stream",
     "text": [
      "Train set error:  0.26139807505338725\n",
      "Test set error:  0.4331745316850504\n",
      "Train R2:  0.9433550726430926\n",
      "Test R2:  0.8042865729174197\n"
     ]
    }
   ],
   "source": [
    "#Robust Scaler + RF\n",
    "\n",
    "rs1 = RobustScaler()\n",
    "rs2 = RobustScaler()\n",
    "x = rs1.fit_transform(X)\n",
    "y = rs2.fit_transform(Y)\n",
    "\n",
    "xtrain, xtest, ytrain, ytest = train_test_split(x,y,test_size=0.25,random_state=42)\n",
    "\n",
    "rf.fit(xtrain,ytrain)\n",
    "train_pred = np.array(rf.predict(xtrain))\n",
    "train_pred = train_pred.reshape((-1,1))\n",
    "ypred = np.array(rf.predict(xtest))\n",
    "ypred = ypred.reshape((-1,1))\n",
    "\n",
    "ytrain = rs2.inverse_transform(ytrain)\n",
    "ytest = rs2.inverse_transform(ytest)\n",
    "ypred = rs2.inverse_transform(ypred)\n",
    "train_pred = rs2.inverse_transform(train_pred)\n",
    "\n",
    "print(\"Train set error: \", np.sqrt(mean_squared_log_error(ytrain,train_pred)))\n",
    "print(\"Test set error: \", np.sqrt(mean_squared_log_error(ytest,ypred)))\n",
    "print(\"Train R2: \", r2_score(ytrain,train_pred))\n",
    "print(\"Test R2: \", r2_score(ytest,ypred))\n"
   ]
  },
  {
   "cell_type": "code",
   "execution_count": 39,
   "id": "e3e401e0",
   "metadata": {},
   "outputs": [
    {
     "name": "stdout",
     "output_type": "stream",
     "text": [
      "Train set error:  0.5626624238531103\n",
      "Test set error:  0.5722012724867618\n",
      "Train R2:  0.6761558067943498\n",
      "Test R2:  0.6749427116353028\n"
     ]
    }
   ],
   "source": [
    "#StandardScaler + XGBRF\n",
    "ss1 = StandardScaler()\n",
    "ss2 = StandardScaler()\n",
    "x = ss1.fit_transform(X)\n",
    "y = ss2.fit_transform(Y)\n",
    "\n",
    "xtrain, xtest, ytrain, ytest = train_test_split(x,y,test_size=0.25,random_state=42)\n",
    "\n",
    "xgbrf.fit(xtrain,ytrain)\n",
    "train_pred = np.array(xgbrf.predict(xtrain))\n",
    "train_pred = train_pred.reshape((-1,1))\n",
    "ypred = np.array(xgbrf.predict(xtest))\n",
    "ypred = ypred.reshape((-1,1))\n",
    "\n",
    "ytrain = ss2.inverse_transform(ytrain)\n",
    "ytest = ss2.inverse_transform(ytest)\n",
    "ypred = ss2.inverse_transform(ypred)\n",
    "train_pred = ss2.inverse_transform(train_pred)\n",
    "\n",
    "print(\"Train set error: \", np.sqrt(mean_squared_log_error(ytrain,train_pred)))\n",
    "print(\"Test set error: \", np.sqrt(mean_squared_log_error(ytest,ypred)))\n",
    "print(\"Train R2: \", r2_score(ytrain,train_pred))\n",
    "print(\"Test R2: \", r2_score(ytest,ypred))\n"
   ]
  },
  {
   "cell_type": "markdown",
   "id": "290b4e36",
   "metadata": {},
   "source": [
    "###### Random Forest with Standard Scaler is giving the best results"
   ]
  },
  {
   "cell_type": "markdown",
   "id": "25d07050",
   "metadata": {},
   "source": [
    "### Hyperparameter Tuning"
   ]
  },
  {
   "cell_type": "code",
   "execution_count": 40,
   "id": "d387fedf",
   "metadata": {},
   "outputs": [],
   "source": [
    "n_est = [x for x in range(100,1200,100)]\n",
    "max_feat = ['sqrt']\n",
    "min_sample_split=[2,5,10,20,50]\n",
    "min_sample_leaf=[1,2,5,10,20]\n",
    "max_depth = [x for x in range(5,20,2)]"
   ]
  },
  {
   "cell_type": "code",
   "execution_count": 41,
   "id": "f8cdc4e9",
   "metadata": {},
   "outputs": [],
   "source": [
    "random_grid = {'n_estimators': n_est,\n",
    "                'max_depth': max_depth,\n",
    "                'max_features': max_feat,\n",
    "                'min_samples_split': min_sample_split,\n",
    "                'min_samples_leaf': min_sample_leaf}"
   ]
  },
  {
   "cell_type": "code",
   "execution_count": 47,
   "id": "a442d552",
   "metadata": {},
   "outputs": [],
   "source": [
    "model = RandomizedSearchCV(rf,param_distributions=random_grid,n_iter=150,scoring='neg_mean_squared_log_error',verbose=2,cv=5)"
   ]
  },
  {
   "cell_type": "code",
   "execution_count": 48,
   "id": "4c9e8743",
   "metadata": {},
   "outputs": [
    {
     "name": "stdout",
     "output_type": "stream",
     "text": [
      "Fitting 5 folds for each of 150 candidates, totalling 750 fits\n",
      "[CV] END max_depth=7, max_features=sqrt, min_samples_leaf=2, min_samples_split=50, n_estimators=900; total time=   7.9s\n",
      "[CV] END max_depth=7, max_features=sqrt, min_samples_leaf=2, min_samples_split=50, n_estimators=900; total time=   8.4s\n",
      "[CV] END max_depth=7, max_features=sqrt, min_samples_leaf=2, min_samples_split=50, n_estimators=900; total time=   7.9s\n",
      "[CV] END max_depth=7, max_features=sqrt, min_samples_leaf=2, min_samples_split=50, n_estimators=900; total time=   8.2s\n",
      "[CV] END max_depth=7, max_features=sqrt, min_samples_leaf=2, min_samples_split=50, n_estimators=900; total time=   7.5s\n",
      "[CV] END max_depth=15, max_features=sqrt, min_samples_leaf=5, min_samples_split=50, n_estimators=1100; total time=  14.4s\n",
      "[CV] END max_depth=15, max_features=sqrt, min_samples_leaf=5, min_samples_split=50, n_estimators=1100; total time=  12.0s\n",
      "[CV] END max_depth=15, max_features=sqrt, min_samples_leaf=5, min_samples_split=50, n_estimators=1100; total time=  11.6s\n",
      "[CV] END max_depth=15, max_features=sqrt, min_samples_leaf=5, min_samples_split=50, n_estimators=1100; total time=  11.2s\n",
      "[CV] END max_depth=15, max_features=sqrt, min_samples_leaf=5, min_samples_split=50, n_estimators=1100; total time=  11.2s\n",
      "[CV] END max_depth=15, max_features=sqrt, min_samples_leaf=10, min_samples_split=20, n_estimators=100; total time=   1.0s\n",
      "[CV] END max_depth=15, max_features=sqrt, min_samples_leaf=10, min_samples_split=20, n_estimators=100; total time=   1.0s\n",
      "[CV] END max_depth=15, max_features=sqrt, min_samples_leaf=10, min_samples_split=20, n_estimators=100; total time=   1.0s\n",
      "[CV] END max_depth=15, max_features=sqrt, min_samples_leaf=10, min_samples_split=20, n_estimators=100; total time=   1.0s\n",
      "[CV] END max_depth=15, max_features=sqrt, min_samples_leaf=10, min_samples_split=20, n_estimators=100; total time=   1.0s\n",
      "[CV] END max_depth=19, max_features=sqrt, min_samples_leaf=20, min_samples_split=2, n_estimators=1100; total time=  10.5s\n",
      "[CV] END max_depth=19, max_features=sqrt, min_samples_leaf=20, min_samples_split=2, n_estimators=1100; total time=  10.5s\n",
      "[CV] END max_depth=19, max_features=sqrt, min_samples_leaf=20, min_samples_split=2, n_estimators=1100; total time=  11.2s\n",
      "[CV] END max_depth=19, max_features=sqrt, min_samples_leaf=20, min_samples_split=2, n_estimators=1100; total time=  11.3s\n",
      "[CV] END max_depth=19, max_features=sqrt, min_samples_leaf=20, min_samples_split=2, n_estimators=1100; total time=  10.5s\n",
      "[CV] END max_depth=19, max_features=sqrt, min_samples_leaf=5, min_samples_split=5, n_estimators=600; total time=   7.1s\n",
      "[CV] END max_depth=19, max_features=sqrt, min_samples_leaf=5, min_samples_split=5, n_estimators=600; total time=   7.1s\n",
      "[CV] END max_depth=19, max_features=sqrt, min_samples_leaf=5, min_samples_split=5, n_estimators=600; total time=   7.1s\n",
      "[CV] END max_depth=19, max_features=sqrt, min_samples_leaf=5, min_samples_split=5, n_estimators=600; total time=   7.1s\n",
      "[CV] END max_depth=19, max_features=sqrt, min_samples_leaf=5, min_samples_split=5, n_estimators=600; total time=   7.1s\n",
      "[CV] END max_depth=11, max_features=sqrt, min_samples_leaf=20, min_samples_split=20, n_estimators=600; total time=   5.5s\n",
      "[CV] END max_depth=11, max_features=sqrt, min_samples_leaf=20, min_samples_split=20, n_estimators=600; total time=   5.5s\n",
      "[CV] END max_depth=11, max_features=sqrt, min_samples_leaf=20, min_samples_split=20, n_estimators=600; total time=   5.5s\n",
      "[CV] END max_depth=11, max_features=sqrt, min_samples_leaf=20, min_samples_split=20, n_estimators=600; total time=   5.5s\n",
      "[CV] END max_depth=11, max_features=sqrt, min_samples_leaf=20, min_samples_split=20, n_estimators=600; total time=   5.5s\n",
      "[CV] END max_depth=17, max_features=sqrt, min_samples_leaf=5, min_samples_split=50, n_estimators=300; total time=   3.0s\n",
      "[CV] END max_depth=17, max_features=sqrt, min_samples_leaf=5, min_samples_split=50, n_estimators=300; total time=   3.0s\n",
      "[CV] END max_depth=17, max_features=sqrt, min_samples_leaf=5, min_samples_split=50, n_estimators=300; total time=   3.0s\n",
      "[CV] END max_depth=17, max_features=sqrt, min_samples_leaf=5, min_samples_split=50, n_estimators=300; total time=   3.0s\n",
      "[CV] END max_depth=17, max_features=sqrt, min_samples_leaf=5, min_samples_split=50, n_estimators=300; total time=   3.0s\n",
      "[CV] END max_depth=9, max_features=sqrt, min_samples_leaf=5, min_samples_split=20, n_estimators=600; total time=   5.5s\n",
      "[CV] END max_depth=9, max_features=sqrt, min_samples_leaf=5, min_samples_split=20, n_estimators=600; total time=   5.5s\n",
      "[CV] END max_depth=9, max_features=sqrt, min_samples_leaf=5, min_samples_split=20, n_estimators=600; total time=   5.5s\n",
      "[CV] END max_depth=9, max_features=sqrt, min_samples_leaf=5, min_samples_split=20, n_estimators=600; total time=   5.5s\n",
      "[CV] END max_depth=9, max_features=sqrt, min_samples_leaf=5, min_samples_split=20, n_estimators=600; total time=   5.4s\n",
      "[CV] END max_depth=9, max_features=sqrt, min_samples_leaf=1, min_samples_split=20, n_estimators=700; total time=   6.5s\n",
      "[CV] END max_depth=9, max_features=sqrt, min_samples_leaf=1, min_samples_split=20, n_estimators=700; total time=   6.6s\n",
      "[CV] END max_depth=9, max_features=sqrt, min_samples_leaf=1, min_samples_split=20, n_estimators=700; total time=   6.6s\n",
      "[CV] END max_depth=9, max_features=sqrt, min_samples_leaf=1, min_samples_split=20, n_estimators=700; total time=   6.7s\n",
      "[CV] END max_depth=9, max_features=sqrt, min_samples_leaf=1, min_samples_split=20, n_estimators=700; total time=   6.6s\n",
      "[CV] END max_depth=13, max_features=sqrt, min_samples_leaf=20, min_samples_split=20, n_estimators=800; total time=   7.5s\n",
      "[CV] END max_depth=13, max_features=sqrt, min_samples_leaf=20, min_samples_split=20, n_estimators=800; total time=   7.6s\n",
      "[CV] END max_depth=13, max_features=sqrt, min_samples_leaf=20, min_samples_split=20, n_estimators=800; total time=   7.5s\n",
      "[CV] END max_depth=13, max_features=sqrt, min_samples_leaf=20, min_samples_split=20, n_estimators=800; total time=   7.6s\n",
      "[CV] END max_depth=13, max_features=sqrt, min_samples_leaf=20, min_samples_split=20, n_estimators=800; total time=   7.5s\n",
      "[CV] END max_depth=19, max_features=sqrt, min_samples_leaf=1, min_samples_split=2, n_estimators=600; total time=  11.9s\n",
      "[CV] END max_depth=19, max_features=sqrt, min_samples_leaf=1, min_samples_split=2, n_estimators=600; total time=  11.7s\n",
      "[CV] END max_depth=19, max_features=sqrt, min_samples_leaf=1, min_samples_split=2, n_estimators=600; total time=  11.7s\n",
      "[CV] END max_depth=19, max_features=sqrt, min_samples_leaf=1, min_samples_split=2, n_estimators=600; total time=  11.6s\n",
      "[CV] END max_depth=19, max_features=sqrt, min_samples_leaf=1, min_samples_split=2, n_estimators=600; total time=  11.6s\n",
      "[CV] END max_depth=5, max_features=sqrt, min_samples_leaf=10, min_samples_split=5, n_estimators=700; total time=   4.7s\n",
      "[CV] END max_depth=5, max_features=sqrt, min_samples_leaf=10, min_samples_split=5, n_estimators=700; total time=   4.7s\n",
      "[CV] END max_depth=5, max_features=sqrt, min_samples_leaf=10, min_samples_split=5, n_estimators=700; total time=   4.8s\n",
      "[CV] END max_depth=5, max_features=sqrt, min_samples_leaf=10, min_samples_split=5, n_estimators=700; total time=   4.7s\n",
      "[CV] END max_depth=5, max_features=sqrt, min_samples_leaf=10, min_samples_split=5, n_estimators=700; total time=   4.6s\n",
      "[CV] END max_depth=19, max_features=sqrt, min_samples_leaf=20, min_samples_split=5, n_estimators=600; total time=   5.7s\n",
      "[CV] END max_depth=19, max_features=sqrt, min_samples_leaf=20, min_samples_split=5, n_estimators=600; total time=   5.7s\n",
      "[CV] END max_depth=19, max_features=sqrt, min_samples_leaf=20, min_samples_split=5, n_estimators=600; total time=   5.7s\n",
      "[CV] END max_depth=19, max_features=sqrt, min_samples_leaf=20, min_samples_split=5, n_estimators=600; total time=   5.7s\n",
      "[CV] END max_depth=19, max_features=sqrt, min_samples_leaf=20, min_samples_split=5, n_estimators=600; total time=   5.7s\n",
      "[CV] END max_depth=15, max_features=sqrt, min_samples_leaf=1, min_samples_split=50, n_estimators=600; total time=   6.4s\n",
      "[CV] END max_depth=15, max_features=sqrt, min_samples_leaf=1, min_samples_split=50, n_estimators=600; total time=   6.3s\n",
      "[CV] END max_depth=15, max_features=sqrt, min_samples_leaf=1, min_samples_split=50, n_estimators=600; total time=   6.3s\n"
     ]
    },
    {
     "name": "stdout",
     "output_type": "stream",
     "text": [
      "[CV] END max_depth=15, max_features=sqrt, min_samples_leaf=1, min_samples_split=50, n_estimators=600; total time=   6.3s\n",
      "[CV] END max_depth=15, max_features=sqrt, min_samples_leaf=1, min_samples_split=50, n_estimators=600; total time=   6.3s\n",
      "[CV] END max_depth=7, max_features=sqrt, min_samples_leaf=5, min_samples_split=10, n_estimators=900; total time=   7.3s\n",
      "[CV] END max_depth=7, max_features=sqrt, min_samples_leaf=5, min_samples_split=10, n_estimators=900; total time=   7.2s\n",
      "[CV] END max_depth=7, max_features=sqrt, min_samples_leaf=5, min_samples_split=10, n_estimators=900; total time=   7.2s\n",
      "[CV] END max_depth=7, max_features=sqrt, min_samples_leaf=5, min_samples_split=10, n_estimators=900; total time=   7.2s\n",
      "[CV] END max_depth=7, max_features=sqrt, min_samples_leaf=5, min_samples_split=10, n_estimators=900; total time=   7.2s\n",
      "[CV] END max_depth=17, max_features=sqrt, min_samples_leaf=20, min_samples_split=20, n_estimators=400; total time=   3.7s\n",
      "[CV] END max_depth=17, max_features=sqrt, min_samples_leaf=20, min_samples_split=20, n_estimators=400; total time=   3.7s\n",
      "[CV] END max_depth=17, max_features=sqrt, min_samples_leaf=20, min_samples_split=20, n_estimators=400; total time=   3.8s\n",
      "[CV] END max_depth=17, max_features=sqrt, min_samples_leaf=20, min_samples_split=20, n_estimators=400; total time=   3.7s\n",
      "[CV] END max_depth=17, max_features=sqrt, min_samples_leaf=20, min_samples_split=20, n_estimators=400; total time=   3.7s\n",
      "[CV] END max_depth=11, max_features=sqrt, min_samples_leaf=2, min_samples_split=2, n_estimators=500; total time=   5.5s\n",
      "[CV] END max_depth=11, max_features=sqrt, min_samples_leaf=2, min_samples_split=2, n_estimators=500; total time=   5.5s\n",
      "[CV] END max_depth=11, max_features=sqrt, min_samples_leaf=2, min_samples_split=2, n_estimators=500; total time=   5.5s\n",
      "[CV] END max_depth=11, max_features=sqrt, min_samples_leaf=2, min_samples_split=2, n_estimators=500; total time=   5.5s\n",
      "[CV] END max_depth=11, max_features=sqrt, min_samples_leaf=2, min_samples_split=2, n_estimators=500; total time=   5.5s\n",
      "[CV] END max_depth=13, max_features=sqrt, min_samples_leaf=2, min_samples_split=10, n_estimators=800; total time=   9.5s\n",
      "[CV] END max_depth=13, max_features=sqrt, min_samples_leaf=2, min_samples_split=10, n_estimators=800; total time=   9.4s\n",
      "[CV] END max_depth=13, max_features=sqrt, min_samples_leaf=2, min_samples_split=10, n_estimators=800; total time=   9.4s\n",
      "[CV] END max_depth=13, max_features=sqrt, min_samples_leaf=2, min_samples_split=10, n_estimators=800; total time=   9.5s\n",
      "[CV] END max_depth=13, max_features=sqrt, min_samples_leaf=2, min_samples_split=10, n_estimators=800; total time=   9.8s\n",
      "[CV] END max_depth=7, max_features=sqrt, min_samples_leaf=2, min_samples_split=10, n_estimators=500; total time=   4.1s\n",
      "[CV] END max_depth=7, max_features=sqrt, min_samples_leaf=2, min_samples_split=10, n_estimators=500; total time=   4.2s\n",
      "[CV] END max_depth=7, max_features=sqrt, min_samples_leaf=2, min_samples_split=10, n_estimators=500; total time=   4.2s\n",
      "[CV] END max_depth=7, max_features=sqrt, min_samples_leaf=2, min_samples_split=10, n_estimators=500; total time=   4.1s\n",
      "[CV] END max_depth=7, max_features=sqrt, min_samples_leaf=2, min_samples_split=10, n_estimators=500; total time=   4.1s\n",
      "[CV] END max_depth=17, max_features=sqrt, min_samples_leaf=10, min_samples_split=10, n_estimators=300; total time=   3.1s\n",
      "[CV] END max_depth=17, max_features=sqrt, min_samples_leaf=10, min_samples_split=10, n_estimators=300; total time=   3.1s\n",
      "[CV] END max_depth=17, max_features=sqrt, min_samples_leaf=10, min_samples_split=10, n_estimators=300; total time=   3.1s\n",
      "[CV] END max_depth=17, max_features=sqrt, min_samples_leaf=10, min_samples_split=10, n_estimators=300; total time=   3.1s\n",
      "[CV] END max_depth=17, max_features=sqrt, min_samples_leaf=10, min_samples_split=10, n_estimators=300; total time=   3.1s\n",
      "[CV] END max_depth=7, max_features=sqrt, min_samples_leaf=2, min_samples_split=2, n_estimators=600; total time=   4.8s\n",
      "[CV] END max_depth=7, max_features=sqrt, min_samples_leaf=2, min_samples_split=2, n_estimators=600; total time=   4.9s\n",
      "[CV] END max_depth=7, max_features=sqrt, min_samples_leaf=2, min_samples_split=2, n_estimators=600; total time=   4.8s\n",
      "[CV] END max_depth=7, max_features=sqrt, min_samples_leaf=2, min_samples_split=2, n_estimators=600; total time=   4.9s\n",
      "[CV] END max_depth=7, max_features=sqrt, min_samples_leaf=2, min_samples_split=2, n_estimators=600; total time=   4.8s\n",
      "[CV] END max_depth=17, max_features=sqrt, min_samples_leaf=1, min_samples_split=10, n_estimators=900; total time=  12.2s\n",
      "[CV] END max_depth=17, max_features=sqrt, min_samples_leaf=1, min_samples_split=10, n_estimators=900; total time=  12.2s\n",
      "[CV] END max_depth=17, max_features=sqrt, min_samples_leaf=1, min_samples_split=10, n_estimators=900; total time=  12.3s\n",
      "[CV] END max_depth=17, max_features=sqrt, min_samples_leaf=1, min_samples_split=10, n_estimators=900; total time=  12.2s\n",
      "[CV] END max_depth=17, max_features=sqrt, min_samples_leaf=1, min_samples_split=10, n_estimators=900; total time=  12.4s\n",
      "[CV] END max_depth=7, max_features=sqrt, min_samples_leaf=20, min_samples_split=50, n_estimators=600; total time=   4.7s\n",
      "[CV] END max_depth=7, max_features=sqrt, min_samples_leaf=20, min_samples_split=50, n_estimators=600; total time=   4.7s\n",
      "[CV] END max_depth=7, max_features=sqrt, min_samples_leaf=20, min_samples_split=50, n_estimators=600; total time=   4.8s\n",
      "[CV] END max_depth=7, max_features=sqrt, min_samples_leaf=20, min_samples_split=50, n_estimators=600; total time=   4.7s\n",
      "[CV] END max_depth=7, max_features=sqrt, min_samples_leaf=20, min_samples_split=50, n_estimators=600; total time=   4.8s\n",
      "[CV] END max_depth=7, max_features=sqrt, min_samples_leaf=5, min_samples_split=2, n_estimators=100; total time=   0.7s\n",
      "[CV] END max_depth=7, max_features=sqrt, min_samples_leaf=5, min_samples_split=2, n_estimators=100; total time=   0.7s\n",
      "[CV] END max_depth=7, max_features=sqrt, min_samples_leaf=5, min_samples_split=2, n_estimators=100; total time=   0.7s\n",
      "[CV] END max_depth=7, max_features=sqrt, min_samples_leaf=5, min_samples_split=2, n_estimators=100; total time=   0.7s\n",
      "[CV] END max_depth=7, max_features=sqrt, min_samples_leaf=5, min_samples_split=2, n_estimators=100; total time=   0.7s\n",
      "[CV] END max_depth=19, max_features=sqrt, min_samples_leaf=20, min_samples_split=2, n_estimators=1000; total time=   9.6s\n",
      "[CV] END max_depth=19, max_features=sqrt, min_samples_leaf=20, min_samples_split=2, n_estimators=1000; total time=   9.6s\n",
      "[CV] END max_depth=19, max_features=sqrt, min_samples_leaf=20, min_samples_split=2, n_estimators=1000; total time=   9.6s\n",
      "[CV] END max_depth=19, max_features=sqrt, min_samples_leaf=20, min_samples_split=2, n_estimators=1000; total time=   9.5s\n",
      "[CV] END max_depth=19, max_features=sqrt, min_samples_leaf=20, min_samples_split=2, n_estimators=1000; total time=   9.5s\n",
      "[CV] END max_depth=17, max_features=sqrt, min_samples_leaf=1, min_samples_split=50, n_estimators=800; total time=   8.6s\n",
      "[CV] END max_depth=17, max_features=sqrt, min_samples_leaf=1, min_samples_split=50, n_estimators=800; total time=   8.7s\n",
      "[CV] END max_depth=17, max_features=sqrt, min_samples_leaf=1, min_samples_split=50, n_estimators=800; total time=   8.5s\n",
      "[CV] END max_depth=17, max_features=sqrt, min_samples_leaf=1, min_samples_split=50, n_estimators=800; total time=   8.6s\n",
      "[CV] END max_depth=17, max_features=sqrt, min_samples_leaf=1, min_samples_split=50, n_estimators=800; total time=   8.6s\n",
      "[CV] END max_depth=7, max_features=sqrt, min_samples_leaf=1, min_samples_split=50, n_estimators=100; total time=   0.7s\n",
      "[CV] END max_depth=7, max_features=sqrt, min_samples_leaf=1, min_samples_split=50, n_estimators=100; total time=   0.7s\n",
      "[CV] END max_depth=7, max_features=sqrt, min_samples_leaf=1, min_samples_split=50, n_estimators=100; total time=   0.7s\n",
      "[CV] END max_depth=7, max_features=sqrt, min_samples_leaf=1, min_samples_split=50, n_estimators=100; total time=   0.7s\n",
      "[CV] END max_depth=7, max_features=sqrt, min_samples_leaf=1, min_samples_split=50, n_estimators=100; total time=   0.7s\n",
      "[CV] END max_depth=15, max_features=sqrt, min_samples_leaf=10, min_samples_split=5, n_estimators=600; total time=   6.2s\n"
     ]
    },
    {
     "name": "stdout",
     "output_type": "stream",
     "text": [
      "[CV] END max_depth=15, max_features=sqrt, min_samples_leaf=10, min_samples_split=5, n_estimators=600; total time=   6.3s\n",
      "[CV] END max_depth=15, max_features=sqrt, min_samples_leaf=10, min_samples_split=5, n_estimators=600; total time=   6.2s\n",
      "[CV] END max_depth=15, max_features=sqrt, min_samples_leaf=10, min_samples_split=5, n_estimators=600; total time=   6.2s\n",
      "[CV] END max_depth=15, max_features=sqrt, min_samples_leaf=10, min_samples_split=5, n_estimators=600; total time=   6.2s\n",
      "[CV] END max_depth=7, max_features=sqrt, min_samples_leaf=10, min_samples_split=20, n_estimators=900; total time=   7.3s\n",
      "[CV] END max_depth=7, max_features=sqrt, min_samples_leaf=10, min_samples_split=20, n_estimators=900; total time=   7.2s\n",
      "[CV] END max_depth=7, max_features=sqrt, min_samples_leaf=10, min_samples_split=20, n_estimators=900; total time=   7.4s\n",
      "[CV] END max_depth=7, max_features=sqrt, min_samples_leaf=10, min_samples_split=20, n_estimators=900; total time=   7.2s\n",
      "[CV] END max_depth=7, max_features=sqrt, min_samples_leaf=10, min_samples_split=20, n_estimators=900; total time=   7.3s\n",
      "[CV] END max_depth=11, max_features=sqrt, min_samples_leaf=2, min_samples_split=50, n_estimators=800; total time=   7.9s\n",
      "[CV] END max_depth=11, max_features=sqrt, min_samples_leaf=2, min_samples_split=50, n_estimators=800; total time=   7.9s\n",
      "[CV] END max_depth=11, max_features=sqrt, min_samples_leaf=2, min_samples_split=50, n_estimators=800; total time=   7.9s\n",
      "[CV] END max_depth=11, max_features=sqrt, min_samples_leaf=2, min_samples_split=50, n_estimators=800; total time=   7.9s\n",
      "[CV] END max_depth=11, max_features=sqrt, min_samples_leaf=2, min_samples_split=50, n_estimators=800; total time=   7.9s\n",
      "[CV] END max_depth=19, max_features=sqrt, min_samples_leaf=2, min_samples_split=2, n_estimators=200; total time=   2.9s\n",
      "[CV] END max_depth=19, max_features=sqrt, min_samples_leaf=2, min_samples_split=2, n_estimators=200; total time=   2.9s\n",
      "[CV] END max_depth=19, max_features=sqrt, min_samples_leaf=2, min_samples_split=2, n_estimators=200; total time=   2.9s\n",
      "[CV] END max_depth=19, max_features=sqrt, min_samples_leaf=2, min_samples_split=2, n_estimators=200; total time=   2.9s\n",
      "[CV] END max_depth=19, max_features=sqrt, min_samples_leaf=2, min_samples_split=2, n_estimators=200; total time=   2.8s\n",
      "[CV] END max_depth=17, max_features=sqrt, min_samples_leaf=20, min_samples_split=10, n_estimators=700; total time=   6.8s\n",
      "[CV] END max_depth=17, max_features=sqrt, min_samples_leaf=20, min_samples_split=10, n_estimators=700; total time=   6.7s\n",
      "[CV] END max_depth=17, max_features=sqrt, min_samples_leaf=20, min_samples_split=10, n_estimators=700; total time=   6.6s\n",
      "[CV] END max_depth=17, max_features=sqrt, min_samples_leaf=20, min_samples_split=10, n_estimators=700; total time=   6.8s\n",
      "[CV] END max_depth=17, max_features=sqrt, min_samples_leaf=20, min_samples_split=10, n_estimators=700; total time=   6.7s\n",
      "[CV] END max_depth=19, max_features=sqrt, min_samples_leaf=5, min_samples_split=50, n_estimators=1100; total time=  11.3s\n",
      "[CV] END max_depth=19, max_features=sqrt, min_samples_leaf=5, min_samples_split=50, n_estimators=1100; total time=  11.3s\n",
      "[CV] END max_depth=19, max_features=sqrt, min_samples_leaf=5, min_samples_split=50, n_estimators=1100; total time=  12.1s\n",
      "[CV] END max_depth=19, max_features=sqrt, min_samples_leaf=5, min_samples_split=50, n_estimators=1100; total time=  11.4s\n",
      "[CV] END max_depth=19, max_features=sqrt, min_samples_leaf=5, min_samples_split=50, n_estimators=1100; total time=  11.4s\n",
      "[CV] END max_depth=17, max_features=sqrt, min_samples_leaf=5, min_samples_split=50, n_estimators=1000; total time=  10.3s\n",
      "[CV] END max_depth=17, max_features=sqrt, min_samples_leaf=5, min_samples_split=50, n_estimators=1000; total time=  10.3s\n",
      "[CV] END max_depth=17, max_features=sqrt, min_samples_leaf=5, min_samples_split=50, n_estimators=1000; total time=  10.2s\n",
      "[CV] END max_depth=17, max_features=sqrt, min_samples_leaf=5, min_samples_split=50, n_estimators=1000; total time=  10.3s\n",
      "[CV] END max_depth=17, max_features=sqrt, min_samples_leaf=5, min_samples_split=50, n_estimators=1000; total time=  10.4s\n",
      "[CV] END max_depth=19, max_features=sqrt, min_samples_leaf=20, min_samples_split=50, n_estimators=500; total time=   4.8s\n",
      "[CV] END max_depth=19, max_features=sqrt, min_samples_leaf=20, min_samples_split=50, n_estimators=500; total time=   4.7s\n",
      "[CV] END max_depth=19, max_features=sqrt, min_samples_leaf=20, min_samples_split=50, n_estimators=500; total time=   4.7s\n",
      "[CV] END max_depth=19, max_features=sqrt, min_samples_leaf=20, min_samples_split=50, n_estimators=500; total time=   4.7s\n",
      "[CV] END max_depth=19, max_features=sqrt, min_samples_leaf=20, min_samples_split=50, n_estimators=500; total time=   4.7s\n",
      "[CV] END max_depth=15, max_features=sqrt, min_samples_leaf=5, min_samples_split=50, n_estimators=800; total time=   8.1s\n",
      "[CV] END max_depth=15, max_features=sqrt, min_samples_leaf=5, min_samples_split=50, n_estimators=800; total time=   8.1s\n",
      "[CV] END max_depth=15, max_features=sqrt, min_samples_leaf=5, min_samples_split=50, n_estimators=800; total time=   8.1s\n",
      "[CV] END max_depth=15, max_features=sqrt, min_samples_leaf=5, min_samples_split=50, n_estimators=800; total time=   8.1s\n",
      "[CV] END max_depth=15, max_features=sqrt, min_samples_leaf=5, min_samples_split=50, n_estimators=800; total time=   8.0s\n",
      "[CV] END max_depth=7, max_features=sqrt, min_samples_leaf=10, min_samples_split=5, n_estimators=300; total time=   2.3s\n",
      "[CV] END max_depth=7, max_features=sqrt, min_samples_leaf=10, min_samples_split=5, n_estimators=300; total time=   2.3s\n",
      "[CV] END max_depth=7, max_features=sqrt, min_samples_leaf=10, min_samples_split=5, n_estimators=300; total time=   2.4s\n",
      "[CV] END max_depth=7, max_features=sqrt, min_samples_leaf=10, min_samples_split=5, n_estimators=300; total time=   2.4s\n",
      "[CV] END max_depth=7, max_features=sqrt, min_samples_leaf=10, min_samples_split=5, n_estimators=300; total time=   2.4s\n",
      "[CV] END max_depth=5, max_features=sqrt, min_samples_leaf=5, min_samples_split=5, n_estimators=1100; total time=   7.7s\n",
      "[CV] END max_depth=5, max_features=sqrt, min_samples_leaf=5, min_samples_split=5, n_estimators=1100; total time=   7.4s\n",
      "[CV] END max_depth=5, max_features=sqrt, min_samples_leaf=5, min_samples_split=5, n_estimators=1100; total time=   7.5s\n",
      "[CV] END max_depth=5, max_features=sqrt, min_samples_leaf=5, min_samples_split=5, n_estimators=1100; total time=   7.5s\n",
      "[CV] END max_depth=5, max_features=sqrt, min_samples_leaf=5, min_samples_split=5, n_estimators=1100; total time=   7.4s\n",
      "[CV] END max_depth=9, max_features=sqrt, min_samples_leaf=2, min_samples_split=50, n_estimators=1100; total time=  10.0s\n",
      "[CV] END max_depth=9, max_features=sqrt, min_samples_leaf=2, min_samples_split=50, n_estimators=1100; total time=   9.8s\n",
      "[CV] END max_depth=9, max_features=sqrt, min_samples_leaf=2, min_samples_split=50, n_estimators=1100; total time=   9.8s\n",
      "[CV] END max_depth=9, max_features=sqrt, min_samples_leaf=2, min_samples_split=50, n_estimators=1100; total time=   9.9s\n",
      "[CV] END max_depth=9, max_features=sqrt, min_samples_leaf=2, min_samples_split=50, n_estimators=1100; total time=   9.9s\n",
      "[CV] END max_depth=11, max_features=sqrt, min_samples_leaf=5, min_samples_split=2, n_estimators=100; total time=   1.0s\n",
      "[CV] END max_depth=11, max_features=sqrt, min_samples_leaf=5, min_samples_split=2, n_estimators=100; total time=   1.0s\n",
      "[CV] END max_depth=11, max_features=sqrt, min_samples_leaf=5, min_samples_split=2, n_estimators=100; total time=   0.9s\n",
      "[CV] END max_depth=11, max_features=sqrt, min_samples_leaf=5, min_samples_split=2, n_estimators=100; total time=   0.9s\n",
      "[CV] END max_depth=11, max_features=sqrt, min_samples_leaf=5, min_samples_split=2, n_estimators=100; total time=   1.0s\n",
      "[CV] END max_depth=9, max_features=sqrt, min_samples_leaf=20, min_samples_split=2, n_estimators=800; total time=   6.9s\n",
      "[CV] END max_depth=9, max_features=sqrt, min_samples_leaf=20, min_samples_split=2, n_estimators=800; total time=   7.0s\n",
      "[CV] END max_depth=9, max_features=sqrt, min_samples_leaf=20, min_samples_split=2, n_estimators=800; total time=   7.0s\n",
      "[CV] END max_depth=9, max_features=sqrt, min_samples_leaf=20, min_samples_split=2, n_estimators=800; total time=   7.0s\n"
     ]
    },
    {
     "name": "stdout",
     "output_type": "stream",
     "text": [
      "[CV] END max_depth=9, max_features=sqrt, min_samples_leaf=20, min_samples_split=2, n_estimators=800; total time=   7.0s\n",
      "[CV] END max_depth=13, max_features=sqrt, min_samples_leaf=1, min_samples_split=2, n_estimators=300; total time=   4.1s\n",
      "[CV] END max_depth=13, max_features=sqrt, min_samples_leaf=1, min_samples_split=2, n_estimators=300; total time=   4.1s\n",
      "[CV] END max_depth=13, max_features=sqrt, min_samples_leaf=1, min_samples_split=2, n_estimators=300; total time=   4.1s\n",
      "[CV] END max_depth=13, max_features=sqrt, min_samples_leaf=1, min_samples_split=2, n_estimators=300; total time=   4.1s\n",
      "[CV] END max_depth=13, max_features=sqrt, min_samples_leaf=1, min_samples_split=2, n_estimators=300; total time=   4.1s\n",
      "[CV] END max_depth=9, max_features=sqrt, min_samples_leaf=5, min_samples_split=50, n_estimators=200; total time=   1.7s\n",
      "[CV] END max_depth=9, max_features=sqrt, min_samples_leaf=5, min_samples_split=50, n_estimators=200; total time=   1.7s\n",
      "[CV] END max_depth=9, max_features=sqrt, min_samples_leaf=5, min_samples_split=50, n_estimators=200; total time=   1.7s\n",
      "[CV] END max_depth=9, max_features=sqrt, min_samples_leaf=5, min_samples_split=50, n_estimators=200; total time=   1.7s\n",
      "[CV] END max_depth=9, max_features=sqrt, min_samples_leaf=5, min_samples_split=50, n_estimators=200; total time=   1.7s\n",
      "[CV] END max_depth=9, max_features=sqrt, min_samples_leaf=20, min_samples_split=20, n_estimators=1100; total time=  10.1s\n",
      "[CV] END max_depth=9, max_features=sqrt, min_samples_leaf=20, min_samples_split=20, n_estimators=1100; total time=  10.3s\n",
      "[CV] END max_depth=9, max_features=sqrt, min_samples_leaf=20, min_samples_split=20, n_estimators=1100; total time=  10.2s\n",
      "[CV] END max_depth=9, max_features=sqrt, min_samples_leaf=20, min_samples_split=20, n_estimators=1100; total time=   9.8s\n",
      "[CV] END max_depth=9, max_features=sqrt, min_samples_leaf=20, min_samples_split=20, n_estimators=1100; total time=   9.7s\n",
      "[CV] END max_depth=15, max_features=sqrt, min_samples_leaf=20, min_samples_split=5, n_estimators=1000; total time=  10.4s\n",
      "[CV] END max_depth=15, max_features=sqrt, min_samples_leaf=20, min_samples_split=5, n_estimators=1000; total time=  10.0s\n",
      "[CV] END max_depth=15, max_features=sqrt, min_samples_leaf=20, min_samples_split=5, n_estimators=1000; total time=  10.2s\n",
      "[CV] END max_depth=15, max_features=sqrt, min_samples_leaf=20, min_samples_split=5, n_estimators=1000; total time=   9.9s\n",
      "[CV] END max_depth=15, max_features=sqrt, min_samples_leaf=20, min_samples_split=5, n_estimators=1000; total time=   9.9s\n",
      "[CV] END max_depth=7, max_features=sqrt, min_samples_leaf=2, min_samples_split=20, n_estimators=300; total time=   2.4s\n",
      "[CV] END max_depth=7, max_features=sqrt, min_samples_leaf=2, min_samples_split=20, n_estimators=300; total time=   2.5s\n",
      "[CV] END max_depth=7, max_features=sqrt, min_samples_leaf=2, min_samples_split=20, n_estimators=300; total time=   2.5s\n",
      "[CV] END max_depth=7, max_features=sqrt, min_samples_leaf=2, min_samples_split=20, n_estimators=300; total time=   2.8s\n",
      "[CV] END max_depth=7, max_features=sqrt, min_samples_leaf=2, min_samples_split=20, n_estimators=300; total time=   2.5s\n",
      "[CV] END max_depth=17, max_features=sqrt, min_samples_leaf=1, min_samples_split=50, n_estimators=200; total time=   2.1s\n",
      "[CV] END max_depth=17, max_features=sqrt, min_samples_leaf=1, min_samples_split=50, n_estimators=200; total time=   2.2s\n",
      "[CV] END max_depth=17, max_features=sqrt, min_samples_leaf=1, min_samples_split=50, n_estimators=200; total time=   2.1s\n",
      "[CV] END max_depth=17, max_features=sqrt, min_samples_leaf=1, min_samples_split=50, n_estimators=200; total time=   2.2s\n",
      "[CV] END max_depth=17, max_features=sqrt, min_samples_leaf=1, min_samples_split=50, n_estimators=200; total time=   2.1s\n",
      "[CV] END max_depth=15, max_features=sqrt, min_samples_leaf=1, min_samples_split=20, n_estimators=700; total time=   8.4s\n",
      "[CV] END max_depth=15, max_features=sqrt, min_samples_leaf=1, min_samples_split=20, n_estimators=700; total time=   8.6s\n",
      "[CV] END max_depth=15, max_features=sqrt, min_samples_leaf=1, min_samples_split=20, n_estimators=700; total time=   8.9s\n",
      "[CV] END max_depth=15, max_features=sqrt, min_samples_leaf=1, min_samples_split=20, n_estimators=700; total time=   8.5s\n",
      "[CV] END max_depth=15, max_features=sqrt, min_samples_leaf=1, min_samples_split=20, n_estimators=700; total time=   8.4s\n",
      "[CV] END max_depth=5, max_features=sqrt, min_samples_leaf=5, min_samples_split=10, n_estimators=1000; total time=   4.6s\n",
      "[CV] END max_depth=5, max_features=sqrt, min_samples_leaf=5, min_samples_split=10, n_estimators=1000; total time=   3.4s\n",
      "[CV] END max_depth=5, max_features=sqrt, min_samples_leaf=5, min_samples_split=10, n_estimators=1000; total time=   3.4s\n",
      "[CV] END max_depth=5, max_features=sqrt, min_samples_leaf=5, min_samples_split=10, n_estimators=1000; total time=   3.4s\n",
      "[CV] END max_depth=5, max_features=sqrt, min_samples_leaf=5, min_samples_split=10, n_estimators=1000; total time=   3.2s\n",
      "[CV] END max_depth=15, max_features=sqrt, min_samples_leaf=10, min_samples_split=10, n_estimators=200; total time=   0.9s\n",
      "[CV] END max_depth=15, max_features=sqrt, min_samples_leaf=10, min_samples_split=10, n_estimators=200; total time=   0.9s\n",
      "[CV] END max_depth=15, max_features=sqrt, min_samples_leaf=10, min_samples_split=10, n_estimators=200; total time=   0.9s\n",
      "[CV] END max_depth=15, max_features=sqrt, min_samples_leaf=10, min_samples_split=10, n_estimators=200; total time=   0.9s\n",
      "[CV] END max_depth=15, max_features=sqrt, min_samples_leaf=10, min_samples_split=10, n_estimators=200; total time=   0.9s\n",
      "[CV] END max_depth=9, max_features=sqrt, min_samples_leaf=2, min_samples_split=50, n_estimators=1000; total time=   4.4s\n",
      "[CV] END max_depth=9, max_features=sqrt, min_samples_leaf=2, min_samples_split=50, n_estimators=1000; total time=   4.4s\n",
      "[CV] END max_depth=9, max_features=sqrt, min_samples_leaf=2, min_samples_split=50, n_estimators=1000; total time=   4.4s\n",
      "[CV] END max_depth=9, max_features=sqrt, min_samples_leaf=2, min_samples_split=50, n_estimators=1000; total time=   4.3s\n",
      "[CV] END max_depth=9, max_features=sqrt, min_samples_leaf=2, min_samples_split=50, n_estimators=1000; total time=   4.3s\n",
      "[CV] END max_depth=13, max_features=sqrt, min_samples_leaf=1, min_samples_split=2, n_estimators=600; total time=   4.1s\n",
      "[CV] END max_depth=13, max_features=sqrt, min_samples_leaf=1, min_samples_split=2, n_estimators=600; total time=   4.0s\n",
      "[CV] END max_depth=13, max_features=sqrt, min_samples_leaf=1, min_samples_split=2, n_estimators=600; total time=   4.0s\n",
      "[CV] END max_depth=13, max_features=sqrt, min_samples_leaf=1, min_samples_split=2, n_estimators=600; total time=   4.1s\n",
      "[CV] END max_depth=13, max_features=sqrt, min_samples_leaf=1, min_samples_split=2, n_estimators=600; total time=   4.1s\n",
      "[CV] END max_depth=7, max_features=sqrt, min_samples_leaf=10, min_samples_split=50, n_estimators=700; total time=   2.7s\n",
      "[CV] END max_depth=7, max_features=sqrt, min_samples_leaf=10, min_samples_split=50, n_estimators=700; total time=   2.6s\n",
      "[CV] END max_depth=7, max_features=sqrt, min_samples_leaf=10, min_samples_split=50, n_estimators=700; total time=   2.7s\n",
      "[CV] END max_depth=7, max_features=sqrt, min_samples_leaf=10, min_samples_split=50, n_estimators=700; total time=   2.7s\n",
      "[CV] END max_depth=7, max_features=sqrt, min_samples_leaf=10, min_samples_split=50, n_estimators=700; total time=   2.6s\n",
      "[CV] END max_depth=15, max_features=sqrt, min_samples_leaf=1, min_samples_split=5, n_estimators=400; total time=   2.7s\n",
      "[CV] END max_depth=15, max_features=sqrt, min_samples_leaf=1, min_samples_split=5, n_estimators=400; total time=   2.7s\n",
      "[CV] END max_depth=15, max_features=sqrt, min_samples_leaf=1, min_samples_split=5, n_estimators=400; total time=   2.7s\n",
      "[CV] END max_depth=15, max_features=sqrt, min_samples_leaf=1, min_samples_split=5, n_estimators=400; total time=   2.7s\n",
      "[CV] END max_depth=15, max_features=sqrt, min_samples_leaf=1, min_samples_split=5, n_estimators=400; total time=   2.7s\n",
      "[CV] END max_depth=5, max_features=sqrt, min_samples_leaf=10, min_samples_split=2, n_estimators=500; total time=   1.6s\n",
      "[CV] END max_depth=5, max_features=sqrt, min_samples_leaf=10, min_samples_split=2, n_estimators=500; total time=   1.6s\n"
     ]
    },
    {
     "name": "stdout",
     "output_type": "stream",
     "text": [
      "[CV] END max_depth=5, max_features=sqrt, min_samples_leaf=10, min_samples_split=2, n_estimators=500; total time=   1.6s\n",
      "[CV] END max_depth=5, max_features=sqrt, min_samples_leaf=10, min_samples_split=2, n_estimators=500; total time=   1.6s\n",
      "[CV] END max_depth=5, max_features=sqrt, min_samples_leaf=10, min_samples_split=2, n_estimators=500; total time=   1.6s\n",
      "[CV] END max_depth=13, max_features=sqrt, min_samples_leaf=20, min_samples_split=5, n_estimators=200; total time=   0.9s\n",
      "[CV] END max_depth=13, max_features=sqrt, min_samples_leaf=20, min_samples_split=5, n_estimators=200; total time=   0.9s\n",
      "[CV] END max_depth=13, max_features=sqrt, min_samples_leaf=20, min_samples_split=5, n_estimators=200; total time=   0.9s\n",
      "[CV] END max_depth=13, max_features=sqrt, min_samples_leaf=20, min_samples_split=5, n_estimators=200; total time=   0.8s\n",
      "[CV] END max_depth=13, max_features=sqrt, min_samples_leaf=20, min_samples_split=5, n_estimators=200; total time=   0.9s\n",
      "[CV] END max_depth=19, max_features=sqrt, min_samples_leaf=1, min_samples_split=10, n_estimators=700; total time=   4.7s\n",
      "[CV] END max_depth=19, max_features=sqrt, min_samples_leaf=1, min_samples_split=10, n_estimators=700; total time=   4.8s\n",
      "[CV] END max_depth=19, max_features=sqrt, min_samples_leaf=1, min_samples_split=10, n_estimators=700; total time=   4.8s\n",
      "[CV] END max_depth=19, max_features=sqrt, min_samples_leaf=1, min_samples_split=10, n_estimators=700; total time=   4.9s\n",
      "[CV] END max_depth=19, max_features=sqrt, min_samples_leaf=1, min_samples_split=10, n_estimators=700; total time=   4.9s\n",
      "[CV] END max_depth=9, max_features=sqrt, min_samples_leaf=20, min_samples_split=50, n_estimators=1000; total time=   4.3s\n",
      "[CV] END max_depth=9, max_features=sqrt, min_samples_leaf=20, min_samples_split=50, n_estimators=1000; total time=   4.2s\n",
      "[CV] END max_depth=9, max_features=sqrt, min_samples_leaf=20, min_samples_split=50, n_estimators=1000; total time=   4.6s\n",
      "[CV] END max_depth=9, max_features=sqrt, min_samples_leaf=20, min_samples_split=50, n_estimators=1000; total time=   4.3s\n",
      "[CV] END max_depth=9, max_features=sqrt, min_samples_leaf=20, min_samples_split=50, n_estimators=1000; total time=   4.2s\n",
      "[CV] END max_depth=11, max_features=sqrt, min_samples_leaf=20, min_samples_split=5, n_estimators=200; total time=   0.8s\n",
      "[CV] END max_depth=11, max_features=sqrt, min_samples_leaf=20, min_samples_split=5, n_estimators=200; total time=   0.8s\n",
      "[CV] END max_depth=11, max_features=sqrt, min_samples_leaf=20, min_samples_split=5, n_estimators=200; total time=   0.8s\n",
      "[CV] END max_depth=11, max_features=sqrt, min_samples_leaf=20, min_samples_split=5, n_estimators=200; total time=   0.8s\n",
      "[CV] END max_depth=11, max_features=sqrt, min_samples_leaf=20, min_samples_split=5, n_estimators=200; total time=   0.8s\n",
      "[CV] END max_depth=19, max_features=sqrt, min_samples_leaf=2, min_samples_split=20, n_estimators=300; total time=   1.6s\n",
      "[CV] END max_depth=19, max_features=sqrt, min_samples_leaf=2, min_samples_split=20, n_estimators=300; total time=   1.7s\n",
      "[CV] END max_depth=19, max_features=sqrt, min_samples_leaf=2, min_samples_split=20, n_estimators=300; total time=   1.6s\n",
      "[CV] END max_depth=19, max_features=sqrt, min_samples_leaf=2, min_samples_split=20, n_estimators=300; total time=   1.6s\n",
      "[CV] END max_depth=19, max_features=sqrt, min_samples_leaf=2, min_samples_split=20, n_estimators=300; total time=   1.6s\n",
      "[CV] END max_depth=19, max_features=sqrt, min_samples_leaf=20, min_samples_split=20, n_estimators=500; total time=   2.2s\n",
      "[CV] END max_depth=19, max_features=sqrt, min_samples_leaf=20, min_samples_split=20, n_estimators=500; total time=   2.2s\n",
      "[CV] END max_depth=19, max_features=sqrt, min_samples_leaf=20, min_samples_split=20, n_estimators=500; total time=   2.3s\n",
      "[CV] END max_depth=19, max_features=sqrt, min_samples_leaf=20, min_samples_split=20, n_estimators=500; total time=   2.2s\n",
      "[CV] END max_depth=19, max_features=sqrt, min_samples_leaf=20, min_samples_split=20, n_estimators=500; total time=   2.3s\n",
      "[CV] END max_depth=7, max_features=sqrt, min_samples_leaf=5, min_samples_split=10, n_estimators=1100; total time=   4.3s\n",
      "[CV] END max_depth=7, max_features=sqrt, min_samples_leaf=5, min_samples_split=10, n_estimators=1100; total time=   4.4s\n",
      "[CV] END max_depth=7, max_features=sqrt, min_samples_leaf=5, min_samples_split=10, n_estimators=1100; total time=   4.3s\n",
      "[CV] END max_depth=7, max_features=sqrt, min_samples_leaf=5, min_samples_split=10, n_estimators=1100; total time=   4.3s\n",
      "[CV] END max_depth=7, max_features=sqrt, min_samples_leaf=5, min_samples_split=10, n_estimators=1100; total time=   4.3s\n",
      "[CV] END max_depth=7, max_features=sqrt, min_samples_leaf=1, min_samples_split=5, n_estimators=1000; total time=   4.0s\n",
      "[CV] END max_depth=7, max_features=sqrt, min_samples_leaf=1, min_samples_split=5, n_estimators=1000; total time=   4.0s\n",
      "[CV] END max_depth=7, max_features=sqrt, min_samples_leaf=1, min_samples_split=5, n_estimators=1000; total time=   4.0s\n",
      "[CV] END max_depth=7, max_features=sqrt, min_samples_leaf=1, min_samples_split=5, n_estimators=1000; total time=   4.0s\n",
      "[CV] END max_depth=7, max_features=sqrt, min_samples_leaf=1, min_samples_split=5, n_estimators=1000; total time=   4.0s\n",
      "[CV] END max_depth=5, max_features=sqrt, min_samples_leaf=2, min_samples_split=5, n_estimators=400; total time=   1.2s\n",
      "[CV] END max_depth=5, max_features=sqrt, min_samples_leaf=2, min_samples_split=5, n_estimators=400; total time=   1.3s\n",
      "[CV] END max_depth=5, max_features=sqrt, min_samples_leaf=2, min_samples_split=5, n_estimators=400; total time=   1.4s\n",
      "[CV] END max_depth=5, max_features=sqrt, min_samples_leaf=2, min_samples_split=5, n_estimators=400; total time=   1.2s\n",
      "[CV] END max_depth=5, max_features=sqrt, min_samples_leaf=2, min_samples_split=5, n_estimators=400; total time=   1.3s\n",
      "[CV] END max_depth=13, max_features=sqrt, min_samples_leaf=1, min_samples_split=2, n_estimators=100; total time=   0.6s\n",
      "[CV] END max_depth=13, max_features=sqrt, min_samples_leaf=1, min_samples_split=2, n_estimators=100; total time=   0.6s\n",
      "[CV] END max_depth=13, max_features=sqrt, min_samples_leaf=1, min_samples_split=2, n_estimators=100; total time=   0.6s\n",
      "[CV] END max_depth=13, max_features=sqrt, min_samples_leaf=1, min_samples_split=2, n_estimators=100; total time=   0.6s\n",
      "[CV] END max_depth=13, max_features=sqrt, min_samples_leaf=1, min_samples_split=2, n_estimators=100; total time=   0.6s\n",
      "[CV] END max_depth=7, max_features=sqrt, min_samples_leaf=2, min_samples_split=50, n_estimators=500; total time=   1.9s\n",
      "[CV] END max_depth=7, max_features=sqrt, min_samples_leaf=2, min_samples_split=50, n_estimators=500; total time=   1.9s\n",
      "[CV] END max_depth=7, max_features=sqrt, min_samples_leaf=2, min_samples_split=50, n_estimators=500; total time=   1.9s\n",
      "[CV] END max_depth=7, max_features=sqrt, min_samples_leaf=2, min_samples_split=50, n_estimators=500; total time=   1.9s\n",
      "[CV] END max_depth=7, max_features=sqrt, min_samples_leaf=2, min_samples_split=50, n_estimators=500; total time=   1.9s\n",
      "[CV] END max_depth=9, max_features=sqrt, min_samples_leaf=20, min_samples_split=2, n_estimators=1100; total time=   4.7s\n",
      "[CV] END max_depth=9, max_features=sqrt, min_samples_leaf=20, min_samples_split=2, n_estimators=1100; total time=   4.6s\n",
      "[CV] END max_depth=9, max_features=sqrt, min_samples_leaf=20, min_samples_split=2, n_estimators=1100; total time=   4.8s\n",
      "[CV] END max_depth=9, max_features=sqrt, min_samples_leaf=20, min_samples_split=2, n_estimators=1100; total time=   4.8s\n",
      "[CV] END max_depth=9, max_features=sqrt, min_samples_leaf=20, min_samples_split=2, n_estimators=1100; total time=   4.7s\n",
      "[CV] END max_depth=17, max_features=sqrt, min_samples_leaf=2, min_samples_split=2, n_estimators=600; total time=   4.1s\n",
      "[CV] END max_depth=17, max_features=sqrt, min_samples_leaf=2, min_samples_split=2, n_estimators=600; total time=   4.1s\n",
      "[CV] END max_depth=17, max_features=sqrt, min_samples_leaf=2, min_samples_split=2, n_estimators=600; total time=   4.2s\n",
      "[CV] END max_depth=17, max_features=sqrt, min_samples_leaf=2, min_samples_split=2, n_estimators=600; total time=   4.1s\n",
      "[CV] END max_depth=17, max_features=sqrt, min_samples_leaf=2, min_samples_split=2, n_estimators=600; total time=   4.2s\n"
     ]
    },
    {
     "name": "stdout",
     "output_type": "stream",
     "text": [
      "[CV] END max_depth=13, max_features=sqrt, min_samples_leaf=1, min_samples_split=20, n_estimators=1000; total time=   5.7s\n",
      "[CV] END max_depth=13, max_features=sqrt, min_samples_leaf=1, min_samples_split=20, n_estimators=1000; total time=   5.5s\n",
      "[CV] END max_depth=13, max_features=sqrt, min_samples_leaf=1, min_samples_split=20, n_estimators=1000; total time=   5.4s\n",
      "[CV] END max_depth=13, max_features=sqrt, min_samples_leaf=1, min_samples_split=20, n_estimators=1000; total time=   5.6s\n",
      "[CV] END max_depth=13, max_features=sqrt, min_samples_leaf=1, min_samples_split=20, n_estimators=1000; total time=   5.5s\n",
      "[CV] END max_depth=17, max_features=sqrt, min_samples_leaf=10, min_samples_split=10, n_estimators=500; total time=   2.5s\n",
      "[CV] END max_depth=17, max_features=sqrt, min_samples_leaf=10, min_samples_split=10, n_estimators=500; total time=   2.5s\n",
      "[CV] END max_depth=17, max_features=sqrt, min_samples_leaf=10, min_samples_split=10, n_estimators=500; total time=   2.5s\n",
      "[CV] END max_depth=17, max_features=sqrt, min_samples_leaf=10, min_samples_split=10, n_estimators=500; total time=   2.5s\n",
      "[CV] END max_depth=17, max_features=sqrt, min_samples_leaf=10, min_samples_split=10, n_estimators=500; total time=   2.5s\n",
      "[CV] END max_depth=11, max_features=sqrt, min_samples_leaf=5, min_samples_split=50, n_estimators=200; total time=   0.8s\n",
      "[CV] END max_depth=11, max_features=sqrt, min_samples_leaf=5, min_samples_split=50, n_estimators=200; total time=   0.8s\n",
      "[CV] END max_depth=11, max_features=sqrt, min_samples_leaf=5, min_samples_split=50, n_estimators=200; total time=   0.8s\n",
      "[CV] END max_depth=11, max_features=sqrt, min_samples_leaf=5, min_samples_split=50, n_estimators=200; total time=   0.8s\n",
      "[CV] END max_depth=11, max_features=sqrt, min_samples_leaf=5, min_samples_split=50, n_estimators=200; total time=   0.8s\n",
      "[CV] END max_depth=5, max_features=sqrt, min_samples_leaf=5, min_samples_split=10, n_estimators=700; total time=   2.3s\n",
      "[CV] END max_depth=5, max_features=sqrt, min_samples_leaf=5, min_samples_split=10, n_estimators=700; total time=   2.2s\n",
      "[CV] END max_depth=5, max_features=sqrt, min_samples_leaf=5, min_samples_split=10, n_estimators=700; total time=   2.2s\n",
      "[CV] END max_depth=5, max_features=sqrt, min_samples_leaf=5, min_samples_split=10, n_estimators=700; total time=   2.2s\n",
      "[CV] END max_depth=5, max_features=sqrt, min_samples_leaf=5, min_samples_split=10, n_estimators=700; total time=   2.2s\n",
      "[CV] END max_depth=19, max_features=sqrt, min_samples_leaf=1, min_samples_split=5, n_estimators=700; total time=   5.4s\n",
      "[CV] END max_depth=19, max_features=sqrt, min_samples_leaf=1, min_samples_split=5, n_estimators=700; total time=   5.4s\n",
      "[CV] END max_depth=19, max_features=sqrt, min_samples_leaf=1, min_samples_split=5, n_estimators=700; total time=   5.4s\n",
      "[CV] END max_depth=19, max_features=sqrt, min_samples_leaf=1, min_samples_split=5, n_estimators=700; total time=   5.4s\n",
      "[CV] END max_depth=19, max_features=sqrt, min_samples_leaf=1, min_samples_split=5, n_estimators=700; total time=   5.4s\n",
      "[CV] END max_depth=15, max_features=sqrt, min_samples_leaf=10, min_samples_split=5, n_estimators=700; total time=   3.5s\n",
      "[CV] END max_depth=15, max_features=sqrt, min_samples_leaf=10, min_samples_split=5, n_estimators=700; total time=   3.4s\n",
      "[CV] END max_depth=15, max_features=sqrt, min_samples_leaf=10, min_samples_split=5, n_estimators=700; total time=   3.9s\n",
      "[CV] END max_depth=15, max_features=sqrt, min_samples_leaf=10, min_samples_split=5, n_estimators=700; total time=   3.6s\n",
      "[CV] END max_depth=15, max_features=sqrt, min_samples_leaf=10, min_samples_split=5, n_estimators=700; total time=   4.3s\n",
      "[CV] END max_depth=5, max_features=sqrt, min_samples_leaf=10, min_samples_split=20, n_estimators=1000; total time=   3.5s\n",
      "[CV] END max_depth=5, max_features=sqrt, min_samples_leaf=10, min_samples_split=20, n_estimators=1000; total time=   3.8s\n",
      "[CV] END max_depth=5, max_features=sqrt, min_samples_leaf=10, min_samples_split=20, n_estimators=1000; total time=   3.9s\n",
      "[CV] END max_depth=5, max_features=sqrt, min_samples_leaf=10, min_samples_split=20, n_estimators=1000; total time=   3.6s\n",
      "[CV] END max_depth=5, max_features=sqrt, min_samples_leaf=10, min_samples_split=20, n_estimators=1000; total time=   3.5s\n",
      "[CV] END max_depth=9, max_features=sqrt, min_samples_leaf=5, min_samples_split=5, n_estimators=200; total time=   0.9s\n",
      "[CV] END max_depth=9, max_features=sqrt, min_samples_leaf=5, min_samples_split=5, n_estimators=200; total time=   0.8s\n",
      "[CV] END max_depth=9, max_features=sqrt, min_samples_leaf=5, min_samples_split=5, n_estimators=200; total time=   0.9s\n",
      "[CV] END max_depth=9, max_features=sqrt, min_samples_leaf=5, min_samples_split=5, n_estimators=200; total time=   0.9s\n",
      "[CV] END max_depth=9, max_features=sqrt, min_samples_leaf=5, min_samples_split=5, n_estimators=200; total time=   0.9s\n",
      "[CV] END max_depth=13, max_features=sqrt, min_samples_leaf=20, min_samples_split=20, n_estimators=400; total time=   1.9s\n",
      "[CV] END max_depth=13, max_features=sqrt, min_samples_leaf=20, min_samples_split=20, n_estimators=400; total time=   1.8s\n",
      "[CV] END max_depth=13, max_features=sqrt, min_samples_leaf=20, min_samples_split=20, n_estimators=400; total time=   2.1s\n",
      "[CV] END max_depth=13, max_features=sqrt, min_samples_leaf=20, min_samples_split=20, n_estimators=400; total time=   2.0s\n",
      "[CV] END max_depth=13, max_features=sqrt, min_samples_leaf=20, min_samples_split=20, n_estimators=400; total time=   2.2s\n",
      "[CV] END max_depth=9, max_features=sqrt, min_samples_leaf=1, min_samples_split=10, n_estimators=200; total time=   0.9s\n",
      "[CV] END max_depth=9, max_features=sqrt, min_samples_leaf=1, min_samples_split=10, n_estimators=200; total time=   0.9s\n",
      "[CV] END max_depth=9, max_features=sqrt, min_samples_leaf=1, min_samples_split=10, n_estimators=200; total time=   1.1s\n",
      "[CV] END max_depth=9, max_features=sqrt, min_samples_leaf=1, min_samples_split=10, n_estimators=200; total time=   1.2s\n",
      "[CV] END max_depth=9, max_features=sqrt, min_samples_leaf=1, min_samples_split=10, n_estimators=200; total time=   1.1s\n",
      "[CV] END max_depth=19, max_features=sqrt, min_samples_leaf=20, min_samples_split=2, n_estimators=900; total time=   4.5s\n",
      "[CV] END max_depth=19, max_features=sqrt, min_samples_leaf=20, min_samples_split=2, n_estimators=900; total time=   4.4s\n",
      "[CV] END max_depth=19, max_features=sqrt, min_samples_leaf=20, min_samples_split=2, n_estimators=900; total time=   4.7s\n",
      "[CV] END max_depth=19, max_features=sqrt, min_samples_leaf=20, min_samples_split=2, n_estimators=900; total time=   4.4s\n",
      "[CV] END max_depth=19, max_features=sqrt, min_samples_leaf=20, min_samples_split=2, n_estimators=900; total time=   4.1s\n",
      "[CV] END max_depth=11, max_features=sqrt, min_samples_leaf=5, min_samples_split=20, n_estimators=800; total time=   3.8s\n",
      "[CV] END max_depth=11, max_features=sqrt, min_samples_leaf=5, min_samples_split=20, n_estimators=800; total time=   3.8s\n",
      "[CV] END max_depth=11, max_features=sqrt, min_samples_leaf=5, min_samples_split=20, n_estimators=800; total time=   3.9s\n",
      "[CV] END max_depth=11, max_features=sqrt, min_samples_leaf=5, min_samples_split=20, n_estimators=800; total time=   3.9s\n",
      "[CV] END max_depth=11, max_features=sqrt, min_samples_leaf=5, min_samples_split=20, n_estimators=800; total time=   4.0s\n",
      "[CV] END max_depth=7, max_features=sqrt, min_samples_leaf=5, min_samples_split=50, n_estimators=200; total time=   0.7s\n",
      "[CV] END max_depth=7, max_features=sqrt, min_samples_leaf=5, min_samples_split=50, n_estimators=200; total time=   0.7s\n",
      "[CV] END max_depth=7, max_features=sqrt, min_samples_leaf=5, min_samples_split=50, n_estimators=200; total time=   0.7s\n",
      "[CV] END max_depth=7, max_features=sqrt, min_samples_leaf=5, min_samples_split=50, n_estimators=200; total time=   0.7s\n",
      "[CV] END max_depth=7, max_features=sqrt, min_samples_leaf=5, min_samples_split=50, n_estimators=200; total time=   0.7s\n",
      "[CV] END max_depth=19, max_features=sqrt, min_samples_leaf=20, min_samples_split=10, n_estimators=700; total time=   3.3s\n",
      "[CV] END max_depth=19, max_features=sqrt, min_samples_leaf=20, min_samples_split=10, n_estimators=700; total time=   3.3s\n",
      "[CV] END max_depth=19, max_features=sqrt, min_samples_leaf=20, min_samples_split=10, n_estimators=700; total time=   3.2s\n"
     ]
    },
    {
     "name": "stdout",
     "output_type": "stream",
     "text": [
      "[CV] END max_depth=19, max_features=sqrt, min_samples_leaf=20, min_samples_split=10, n_estimators=700; total time=   3.2s\n",
      "[CV] END max_depth=19, max_features=sqrt, min_samples_leaf=20, min_samples_split=10, n_estimators=700; total time=   3.2s\n",
      "[CV] END max_depth=7, max_features=sqrt, min_samples_leaf=2, min_samples_split=2, n_estimators=900; total time=   3.6s\n",
      "[CV] END max_depth=7, max_features=sqrt, min_samples_leaf=2, min_samples_split=2, n_estimators=900; total time=   3.5s\n",
      "[CV] END max_depth=7, max_features=sqrt, min_samples_leaf=2, min_samples_split=2, n_estimators=900; total time=   3.5s\n",
      "[CV] END max_depth=7, max_features=sqrt, min_samples_leaf=2, min_samples_split=2, n_estimators=900; total time=   3.6s\n",
      "[CV] END max_depth=7, max_features=sqrt, min_samples_leaf=2, min_samples_split=2, n_estimators=900; total time=   3.6s\n",
      "[CV] END max_depth=15, max_features=sqrt, min_samples_leaf=2, min_samples_split=50, n_estimators=800; total time=   4.1s\n",
      "[CV] END max_depth=15, max_features=sqrt, min_samples_leaf=2, min_samples_split=50, n_estimators=800; total time=   4.0s\n",
      "[CV] END max_depth=15, max_features=sqrt, min_samples_leaf=2, min_samples_split=50, n_estimators=800; total time=   4.1s\n",
      "[CV] END max_depth=15, max_features=sqrt, min_samples_leaf=2, min_samples_split=50, n_estimators=800; total time=   4.0s\n",
      "[CV] END max_depth=15, max_features=sqrt, min_samples_leaf=2, min_samples_split=50, n_estimators=800; total time=   4.1s\n",
      "[CV] END max_depth=7, max_features=sqrt, min_samples_leaf=20, min_samples_split=2, n_estimators=600; total time=   2.2s\n",
      "[CV] END max_depth=7, max_features=sqrt, min_samples_leaf=20, min_samples_split=2, n_estimators=600; total time=   2.5s\n",
      "[CV] END max_depth=7, max_features=sqrt, min_samples_leaf=20, min_samples_split=2, n_estimators=600; total time=   2.2s\n",
      "[CV] END max_depth=7, max_features=sqrt, min_samples_leaf=20, min_samples_split=2, n_estimators=600; total time=   2.4s\n",
      "[CV] END max_depth=7, max_features=sqrt, min_samples_leaf=20, min_samples_split=2, n_estimators=600; total time=   2.2s\n",
      "[CV] END max_depth=17, max_features=sqrt, min_samples_leaf=5, min_samples_split=2, n_estimators=300; total time=   1.6s\n",
      "[CV] END max_depth=17, max_features=sqrt, min_samples_leaf=5, min_samples_split=2, n_estimators=300; total time=   1.6s\n",
      "[CV] END max_depth=17, max_features=sqrt, min_samples_leaf=5, min_samples_split=2, n_estimators=300; total time=   1.6s\n",
      "[CV] END max_depth=17, max_features=sqrt, min_samples_leaf=5, min_samples_split=2, n_estimators=300; total time=   1.6s\n",
      "[CV] END max_depth=17, max_features=sqrt, min_samples_leaf=5, min_samples_split=2, n_estimators=300; total time=   1.7s\n",
      "[CV] END max_depth=5, max_features=sqrt, min_samples_leaf=1, min_samples_split=5, n_estimators=200; total time=   0.6s\n",
      "[CV] END max_depth=5, max_features=sqrt, min_samples_leaf=1, min_samples_split=5, n_estimators=200; total time=   0.6s\n",
      "[CV] END max_depth=5, max_features=sqrt, min_samples_leaf=1, min_samples_split=5, n_estimators=200; total time=   0.6s\n",
      "[CV] END max_depth=5, max_features=sqrt, min_samples_leaf=1, min_samples_split=5, n_estimators=200; total time=   0.6s\n",
      "[CV] END max_depth=5, max_features=sqrt, min_samples_leaf=1, min_samples_split=5, n_estimators=200; total time=   0.6s\n",
      "[CV] END max_depth=13, max_features=sqrt, min_samples_leaf=1, min_samples_split=5, n_estimators=100; total time=   0.5s\n",
      "[CV] END max_depth=13, max_features=sqrt, min_samples_leaf=1, min_samples_split=5, n_estimators=100; total time=   0.5s\n",
      "[CV] END max_depth=13, max_features=sqrt, min_samples_leaf=1, min_samples_split=5, n_estimators=100; total time=   0.6s\n",
      "[CV] END max_depth=13, max_features=sqrt, min_samples_leaf=1, min_samples_split=5, n_estimators=100; total time=   0.5s\n",
      "[CV] END max_depth=13, max_features=sqrt, min_samples_leaf=1, min_samples_split=5, n_estimators=100; total time=   0.5s\n",
      "[CV] END max_depth=9, max_features=sqrt, min_samples_leaf=10, min_samples_split=50, n_estimators=1000; total time=   4.3s\n",
      "[CV] END max_depth=9, max_features=sqrt, min_samples_leaf=10, min_samples_split=50, n_estimators=1000; total time=   4.3s\n",
      "[CV] END max_depth=9, max_features=sqrt, min_samples_leaf=10, min_samples_split=50, n_estimators=1000; total time=   4.2s\n",
      "[CV] END max_depth=9, max_features=sqrt, min_samples_leaf=10, min_samples_split=50, n_estimators=1000; total time=   4.4s\n",
      "[CV] END max_depth=9, max_features=sqrt, min_samples_leaf=10, min_samples_split=50, n_estimators=1000; total time=   4.3s\n",
      "[CV] END max_depth=5, max_features=sqrt, min_samples_leaf=2, min_samples_split=20, n_estimators=600; total time=   1.9s\n",
      "[CV] END max_depth=5, max_features=sqrt, min_samples_leaf=2, min_samples_split=20, n_estimators=600; total time=   2.0s\n",
      "[CV] END max_depth=5, max_features=sqrt, min_samples_leaf=2, min_samples_split=20, n_estimators=600; total time=   1.9s\n",
      "[CV] END max_depth=5, max_features=sqrt, min_samples_leaf=2, min_samples_split=20, n_estimators=600; total time=   1.9s\n",
      "[CV] END max_depth=5, max_features=sqrt, min_samples_leaf=2, min_samples_split=20, n_estimators=600; total time=   2.0s\n",
      "[CV] END max_depth=13, max_features=sqrt, min_samples_leaf=20, min_samples_split=10, n_estimators=800; total time=   3.7s\n",
      "[CV] END max_depth=13, max_features=sqrt, min_samples_leaf=20, min_samples_split=10, n_estimators=800; total time=   3.6s\n",
      "[CV] END max_depth=13, max_features=sqrt, min_samples_leaf=20, min_samples_split=10, n_estimators=800; total time=   3.6s\n",
      "[CV] END max_depth=13, max_features=sqrt, min_samples_leaf=20, min_samples_split=10, n_estimators=800; total time=   3.7s\n",
      "[CV] END max_depth=13, max_features=sqrt, min_samples_leaf=20, min_samples_split=10, n_estimators=800; total time=   3.6s\n",
      "[CV] END max_depth=9, max_features=sqrt, min_samples_leaf=5, min_samples_split=5, n_estimators=900; total time=   4.0s\n",
      "[CV] END max_depth=9, max_features=sqrt, min_samples_leaf=5, min_samples_split=5, n_estimators=900; total time=   4.0s\n",
      "[CV] END max_depth=9, max_features=sqrt, min_samples_leaf=5, min_samples_split=5, n_estimators=900; total time=   4.0s\n",
      "[CV] END max_depth=9, max_features=sqrt, min_samples_leaf=5, min_samples_split=5, n_estimators=900; total time=   4.1s\n",
      "[CV] END max_depth=9, max_features=sqrt, min_samples_leaf=5, min_samples_split=5, n_estimators=900; total time=   4.1s\n",
      "[CV] END max_depth=13, max_features=sqrt, min_samples_leaf=1, min_samples_split=2, n_estimators=1000; total time=   6.7s\n",
      "[CV] END max_depth=13, max_features=sqrt, min_samples_leaf=1, min_samples_split=2, n_estimators=1000; total time=   6.7s\n",
      "[CV] END max_depth=13, max_features=sqrt, min_samples_leaf=1, min_samples_split=2, n_estimators=1000; total time=   6.9s\n",
      "[CV] END max_depth=13, max_features=sqrt, min_samples_leaf=1, min_samples_split=2, n_estimators=1000; total time=   7.1s\n",
      "[CV] END max_depth=13, max_features=sqrt, min_samples_leaf=1, min_samples_split=2, n_estimators=1000; total time=   6.8s\n",
      "[CV] END max_depth=15, max_features=sqrt, min_samples_leaf=5, min_samples_split=2, n_estimators=500; total time=   2.7s\n",
      "[CV] END max_depth=15, max_features=sqrt, min_samples_leaf=5, min_samples_split=2, n_estimators=500; total time=   2.8s\n",
      "[CV] END max_depth=15, max_features=sqrt, min_samples_leaf=5, min_samples_split=2, n_estimators=500; total time=   2.9s\n",
      "[CV] END max_depth=15, max_features=sqrt, min_samples_leaf=5, min_samples_split=2, n_estimators=500; total time=   2.9s\n",
      "[CV] END max_depth=15, max_features=sqrt, min_samples_leaf=5, min_samples_split=2, n_estimators=500; total time=   3.1s\n",
      "[CV] END max_depth=19, max_features=sqrt, min_samples_leaf=20, min_samples_split=2, n_estimators=500; total time=   2.3s\n",
      "[CV] END max_depth=19, max_features=sqrt, min_samples_leaf=20, min_samples_split=2, n_estimators=500; total time=   2.3s\n",
      "[CV] END max_depth=19, max_features=sqrt, min_samples_leaf=20, min_samples_split=2, n_estimators=500; total time=   2.2s\n",
      "[CV] END max_depth=19, max_features=sqrt, min_samples_leaf=20, min_samples_split=2, n_estimators=500; total time=   2.3s\n",
      "[CV] END max_depth=19, max_features=sqrt, min_samples_leaf=20, min_samples_split=2, n_estimators=500; total time=   2.2s\n",
      "[CV] END max_depth=13, max_features=sqrt, min_samples_leaf=2, min_samples_split=5, n_estimators=900; total time=   5.5s\n",
      "[CV] END max_depth=13, max_features=sqrt, min_samples_leaf=2, min_samples_split=5, n_estimators=900; total time=   5.2s\n"
     ]
    },
    {
     "name": "stdout",
     "output_type": "stream",
     "text": [
      "[CV] END max_depth=13, max_features=sqrt, min_samples_leaf=2, min_samples_split=5, n_estimators=900; total time=   5.3s\n",
      "[CV] END max_depth=13, max_features=sqrt, min_samples_leaf=2, min_samples_split=5, n_estimators=900; total time=   5.3s\n",
      "[CV] END max_depth=13, max_features=sqrt, min_samples_leaf=2, min_samples_split=5, n_estimators=900; total time=   5.2s\n",
      "[CV] END max_depth=17, max_features=sqrt, min_samples_leaf=2, min_samples_split=10, n_estimators=1100; total time=   6.8s\n",
      "[CV] END max_depth=17, max_features=sqrt, min_samples_leaf=2, min_samples_split=10, n_estimators=1100; total time=   6.8s\n",
      "[CV] END max_depth=17, max_features=sqrt, min_samples_leaf=2, min_samples_split=10, n_estimators=1100; total time=   6.8s\n",
      "[CV] END max_depth=17, max_features=sqrt, min_samples_leaf=2, min_samples_split=10, n_estimators=1100; total time=   6.7s\n",
      "[CV] END max_depth=17, max_features=sqrt, min_samples_leaf=2, min_samples_split=10, n_estimators=1100; total time=   6.7s\n",
      "[CV] END max_depth=9, max_features=sqrt, min_samples_leaf=1, min_samples_split=20, n_estimators=1100; total time=   5.0s\n",
      "[CV] END max_depth=9, max_features=sqrt, min_samples_leaf=1, min_samples_split=20, n_estimators=1100; total time=   4.9s\n",
      "[CV] END max_depth=9, max_features=sqrt, min_samples_leaf=1, min_samples_split=20, n_estimators=1100; total time=   4.9s\n",
      "[CV] END max_depth=9, max_features=sqrt, min_samples_leaf=1, min_samples_split=20, n_estimators=1100; total time=   4.9s\n",
      "[CV] END max_depth=9, max_features=sqrt, min_samples_leaf=1, min_samples_split=20, n_estimators=1100; total time=   4.9s\n",
      "[CV] END max_depth=15, max_features=sqrt, min_samples_leaf=10, min_samples_split=5, n_estimators=500; total time=   2.4s\n",
      "[CV] END max_depth=15, max_features=sqrt, min_samples_leaf=10, min_samples_split=5, n_estimators=500; total time=   2.4s\n",
      "[CV] END max_depth=15, max_features=sqrt, min_samples_leaf=10, min_samples_split=5, n_estimators=500; total time=   2.4s\n",
      "[CV] END max_depth=15, max_features=sqrt, min_samples_leaf=10, min_samples_split=5, n_estimators=500; total time=   2.4s\n",
      "[CV] END max_depth=15, max_features=sqrt, min_samples_leaf=10, min_samples_split=5, n_estimators=500; total time=   2.4s\n",
      "[CV] END max_depth=9, max_features=sqrt, min_samples_leaf=1, min_samples_split=2, n_estimators=800; total time=   3.7s\n",
      "[CV] END max_depth=9, max_features=sqrt, min_samples_leaf=1, min_samples_split=2, n_estimators=800; total time=   3.7s\n",
      "[CV] END max_depth=9, max_features=sqrt, min_samples_leaf=1, min_samples_split=2, n_estimators=800; total time=   3.7s\n",
      "[CV] END max_depth=9, max_features=sqrt, min_samples_leaf=1, min_samples_split=2, n_estimators=800; total time=   3.7s\n",
      "[CV] END max_depth=9, max_features=sqrt, min_samples_leaf=1, min_samples_split=2, n_estimators=800; total time=   3.7s\n",
      "[CV] END max_depth=5, max_features=sqrt, min_samples_leaf=10, min_samples_split=5, n_estimators=500; total time=   1.5s\n",
      "[CV] END max_depth=5, max_features=sqrt, min_samples_leaf=10, min_samples_split=5, n_estimators=500; total time=   1.5s\n",
      "[CV] END max_depth=5, max_features=sqrt, min_samples_leaf=10, min_samples_split=5, n_estimators=500; total time=   1.5s\n",
      "[CV] END max_depth=5, max_features=sqrt, min_samples_leaf=10, min_samples_split=5, n_estimators=500; total time=   1.5s\n",
      "[CV] END max_depth=5, max_features=sqrt, min_samples_leaf=10, min_samples_split=5, n_estimators=500; total time=   1.6s\n",
      "[CV] END max_depth=13, max_features=sqrt, min_samples_leaf=5, min_samples_split=20, n_estimators=900; total time=   4.6s\n",
      "[CV] END max_depth=13, max_features=sqrt, min_samples_leaf=5, min_samples_split=20, n_estimators=900; total time=   4.6s\n",
      "[CV] END max_depth=13, max_features=sqrt, min_samples_leaf=5, min_samples_split=20, n_estimators=900; total time=   4.6s\n",
      "[CV] END max_depth=13, max_features=sqrt, min_samples_leaf=5, min_samples_split=20, n_estimators=900; total time=   4.6s\n",
      "[CV] END max_depth=13, max_features=sqrt, min_samples_leaf=5, min_samples_split=20, n_estimators=900; total time=   4.5s\n",
      "[CV] END max_depth=19, max_features=sqrt, min_samples_leaf=1, min_samples_split=10, n_estimators=800; total time=   5.4s\n",
      "[CV] END max_depth=19, max_features=sqrt, min_samples_leaf=1, min_samples_split=10, n_estimators=800; total time=   5.4s\n",
      "[CV] END max_depth=19, max_features=sqrt, min_samples_leaf=1, min_samples_split=10, n_estimators=800; total time=   5.3s\n",
      "[CV] END max_depth=19, max_features=sqrt, min_samples_leaf=1, min_samples_split=10, n_estimators=800; total time=   5.3s\n",
      "[CV] END max_depth=19, max_features=sqrt, min_samples_leaf=1, min_samples_split=10, n_estimators=800; total time=   5.3s\n",
      "[CV] END max_depth=19, max_features=sqrt, min_samples_leaf=1, min_samples_split=2, n_estimators=700; total time=   6.6s\n",
      "[CV] END max_depth=19, max_features=sqrt, min_samples_leaf=1, min_samples_split=2, n_estimators=700; total time=   6.6s\n",
      "[CV] END max_depth=19, max_features=sqrt, min_samples_leaf=1, min_samples_split=2, n_estimators=700; total time=   6.5s\n",
      "[CV] END max_depth=19, max_features=sqrt, min_samples_leaf=1, min_samples_split=2, n_estimators=700; total time=   6.7s\n",
      "[CV] END max_depth=19, max_features=sqrt, min_samples_leaf=1, min_samples_split=2, n_estimators=700; total time=   6.5s\n",
      "[CV] END max_depth=9, max_features=sqrt, min_samples_leaf=20, min_samples_split=50, n_estimators=800; total time=   3.3s\n",
      "[CV] END max_depth=9, max_features=sqrt, min_samples_leaf=20, min_samples_split=50, n_estimators=800; total time=   3.3s\n",
      "[CV] END max_depth=9, max_features=sqrt, min_samples_leaf=20, min_samples_split=50, n_estimators=800; total time=   3.3s\n",
      "[CV] END max_depth=9, max_features=sqrt, min_samples_leaf=20, min_samples_split=50, n_estimators=800; total time=   3.3s\n",
      "[CV] END max_depth=9, max_features=sqrt, min_samples_leaf=20, min_samples_split=50, n_estimators=800; total time=   3.2s\n",
      "[CV] END max_depth=15, max_features=sqrt, min_samples_leaf=20, min_samples_split=50, n_estimators=900; total time=   4.0s\n",
      "[CV] END max_depth=15, max_features=sqrt, min_samples_leaf=20, min_samples_split=50, n_estimators=900; total time=   4.0s\n",
      "[CV] END max_depth=15, max_features=sqrt, min_samples_leaf=20, min_samples_split=50, n_estimators=900; total time=   4.0s\n",
      "[CV] END max_depth=15, max_features=sqrt, min_samples_leaf=20, min_samples_split=50, n_estimators=900; total time=   4.0s\n",
      "[CV] END max_depth=15, max_features=sqrt, min_samples_leaf=20, min_samples_split=50, n_estimators=900; total time=   4.0s\n",
      "[CV] END max_depth=11, max_features=sqrt, min_samples_leaf=1, min_samples_split=20, n_estimators=600; total time=   2.9s\n",
      "[CV] END max_depth=11, max_features=sqrt, min_samples_leaf=1, min_samples_split=20, n_estimators=600; total time=   2.9s\n",
      "[CV] END max_depth=11, max_features=sqrt, min_samples_leaf=1, min_samples_split=20, n_estimators=600; total time=   2.9s\n",
      "[CV] END max_depth=11, max_features=sqrt, min_samples_leaf=1, min_samples_split=20, n_estimators=600; total time=   2.9s\n",
      "[CV] END max_depth=11, max_features=sqrt, min_samples_leaf=1, min_samples_split=20, n_estimators=600; total time=   3.0s\n",
      "[CV] END max_depth=11, max_features=sqrt, min_samples_leaf=20, min_samples_split=10, n_estimators=200; total time=   0.8s\n",
      "[CV] END max_depth=11, max_features=sqrt, min_samples_leaf=20, min_samples_split=10, n_estimators=200; total time=   0.8s\n",
      "[CV] END max_depth=11, max_features=sqrt, min_samples_leaf=20, min_samples_split=10, n_estimators=200; total time=   0.8s\n",
      "[CV] END max_depth=11, max_features=sqrt, min_samples_leaf=20, min_samples_split=10, n_estimators=200; total time=   0.8s\n",
      "[CV] END max_depth=11, max_features=sqrt, min_samples_leaf=20, min_samples_split=10, n_estimators=200; total time=   0.8s\n",
      "[CV] END max_depth=7, max_features=sqrt, min_samples_leaf=5, min_samples_split=5, n_estimators=400; total time=   1.5s\n",
      "[CV] END max_depth=7, max_features=sqrt, min_samples_leaf=5, min_samples_split=5, n_estimators=400; total time=   1.5s\n",
      "[CV] END max_depth=7, max_features=sqrt, min_samples_leaf=5, min_samples_split=5, n_estimators=400; total time=   1.5s\n",
      "[CV] END max_depth=7, max_features=sqrt, min_samples_leaf=5, min_samples_split=5, n_estimators=400; total time=   1.5s\n",
      "[CV] END max_depth=7, max_features=sqrt, min_samples_leaf=5, min_samples_split=5, n_estimators=400; total time=   1.5s\n"
     ]
    },
    {
     "name": "stdout",
     "output_type": "stream",
     "text": [
      "[CV] END max_depth=17, max_features=sqrt, min_samples_leaf=10, min_samples_split=2, n_estimators=400; total time=   2.0s\n",
      "[CV] END max_depth=17, max_features=sqrt, min_samples_leaf=10, min_samples_split=2, n_estimators=400; total time=   2.0s\n",
      "[CV] END max_depth=17, max_features=sqrt, min_samples_leaf=10, min_samples_split=2, n_estimators=400; total time=   2.0s\n",
      "[CV] END max_depth=17, max_features=sqrt, min_samples_leaf=10, min_samples_split=2, n_estimators=400; total time=   2.0s\n",
      "[CV] END max_depth=17, max_features=sqrt, min_samples_leaf=10, min_samples_split=2, n_estimators=400; total time=   1.9s\n",
      "[CV] END max_depth=5, max_features=sqrt, min_samples_leaf=2, min_samples_split=10, n_estimators=1100; total time=   3.6s\n",
      "[CV] END max_depth=5, max_features=sqrt, min_samples_leaf=2, min_samples_split=10, n_estimators=1100; total time=   3.5s\n",
      "[CV] END max_depth=5, max_features=sqrt, min_samples_leaf=2, min_samples_split=10, n_estimators=1100; total time=   3.5s\n",
      "[CV] END max_depth=5, max_features=sqrt, min_samples_leaf=2, min_samples_split=10, n_estimators=1100; total time=   3.6s\n",
      "[CV] END max_depth=5, max_features=sqrt, min_samples_leaf=2, min_samples_split=10, n_estimators=1100; total time=   3.6s\n",
      "[CV] END max_depth=17, max_features=sqrt, min_samples_leaf=20, min_samples_split=5, n_estimators=400; total time=   1.8s\n",
      "[CV] END max_depth=17, max_features=sqrt, min_samples_leaf=20, min_samples_split=5, n_estimators=400; total time=   1.8s\n",
      "[CV] END max_depth=17, max_features=sqrt, min_samples_leaf=20, min_samples_split=5, n_estimators=400; total time=   1.8s\n",
      "[CV] END max_depth=17, max_features=sqrt, min_samples_leaf=20, min_samples_split=5, n_estimators=400; total time=   1.8s\n",
      "[CV] END max_depth=17, max_features=sqrt, min_samples_leaf=20, min_samples_split=5, n_estimators=400; total time=   1.8s\n",
      "[CV] END max_depth=7, max_features=sqrt, min_samples_leaf=10, min_samples_split=5, n_estimators=100; total time=   0.3s\n",
      "[CV] END max_depth=7, max_features=sqrt, min_samples_leaf=10, min_samples_split=5, n_estimators=100; total time=   0.3s\n",
      "[CV] END max_depth=7, max_features=sqrt, min_samples_leaf=10, min_samples_split=5, n_estimators=100; total time=   0.3s\n",
      "[CV] END max_depth=7, max_features=sqrt, min_samples_leaf=10, min_samples_split=5, n_estimators=100; total time=   0.3s\n",
      "[CV] END max_depth=7, max_features=sqrt, min_samples_leaf=10, min_samples_split=5, n_estimators=100; total time=   0.3s\n",
      "[CV] END max_depth=19, max_features=sqrt, min_samples_leaf=20, min_samples_split=20, n_estimators=600; total time=   2.7s\n",
      "[CV] END max_depth=19, max_features=sqrt, min_samples_leaf=20, min_samples_split=20, n_estimators=600; total time=   2.7s\n",
      "[CV] END max_depth=19, max_features=sqrt, min_samples_leaf=20, min_samples_split=20, n_estimators=600; total time=   2.8s\n",
      "[CV] END max_depth=19, max_features=sqrt, min_samples_leaf=20, min_samples_split=20, n_estimators=600; total time=   2.7s\n",
      "[CV] END max_depth=19, max_features=sqrt, min_samples_leaf=20, min_samples_split=20, n_estimators=600; total time=   2.7s\n",
      "[CV] END max_depth=19, max_features=sqrt, min_samples_leaf=5, min_samples_split=5, n_estimators=200; total time=   1.1s\n",
      "[CV] END max_depth=19, max_features=sqrt, min_samples_leaf=5, min_samples_split=5, n_estimators=200; total time=   1.1s\n",
      "[CV] END max_depth=19, max_features=sqrt, min_samples_leaf=5, min_samples_split=5, n_estimators=200; total time=   1.1s\n",
      "[CV] END max_depth=19, max_features=sqrt, min_samples_leaf=5, min_samples_split=5, n_estimators=200; total time=   1.1s\n",
      "[CV] END max_depth=19, max_features=sqrt, min_samples_leaf=5, min_samples_split=5, n_estimators=200; total time=   1.1s\n",
      "[CV] END max_depth=17, max_features=sqrt, min_samples_leaf=5, min_samples_split=2, n_estimators=100; total time=   0.5s\n",
      "[CV] END max_depth=17, max_features=sqrt, min_samples_leaf=5, min_samples_split=2, n_estimators=100; total time=   0.5s\n",
      "[CV] END max_depth=17, max_features=sqrt, min_samples_leaf=5, min_samples_split=2, n_estimators=100; total time=   0.5s\n",
      "[CV] END max_depth=17, max_features=sqrt, min_samples_leaf=5, min_samples_split=2, n_estimators=100; total time=   0.5s\n",
      "[CV] END max_depth=17, max_features=sqrt, min_samples_leaf=5, min_samples_split=2, n_estimators=100; total time=   0.5s\n",
      "[CV] END max_depth=15, max_features=sqrt, min_samples_leaf=5, min_samples_split=5, n_estimators=100; total time=   0.5s\n",
      "[CV] END max_depth=15, max_features=sqrt, min_samples_leaf=5, min_samples_split=5, n_estimators=100; total time=   0.5s\n",
      "[CV] END max_depth=15, max_features=sqrt, min_samples_leaf=5, min_samples_split=5, n_estimators=100; total time=   0.5s\n",
      "[CV] END max_depth=15, max_features=sqrt, min_samples_leaf=5, min_samples_split=5, n_estimators=100; total time=   0.5s\n",
      "[CV] END max_depth=15, max_features=sqrt, min_samples_leaf=5, min_samples_split=5, n_estimators=100; total time=   0.5s\n",
      "[CV] END max_depth=7, max_features=sqrt, min_samples_leaf=20, min_samples_split=10, n_estimators=800; total time=   3.0s\n",
      "[CV] END max_depth=7, max_features=sqrt, min_samples_leaf=20, min_samples_split=10, n_estimators=800; total time=   3.0s\n",
      "[CV] END max_depth=7, max_features=sqrt, min_samples_leaf=20, min_samples_split=10, n_estimators=800; total time=   3.0s\n",
      "[CV] END max_depth=7, max_features=sqrt, min_samples_leaf=20, min_samples_split=10, n_estimators=800; total time=   3.0s\n",
      "[CV] END max_depth=7, max_features=sqrt, min_samples_leaf=20, min_samples_split=10, n_estimators=800; total time=   3.0s\n",
      "[CV] END max_depth=9, max_features=sqrt, min_samples_leaf=20, min_samples_split=50, n_estimators=300; total time=   1.2s\n",
      "[CV] END max_depth=9, max_features=sqrt, min_samples_leaf=20, min_samples_split=50, n_estimators=300; total time=   1.2s\n",
      "[CV] END max_depth=9, max_features=sqrt, min_samples_leaf=20, min_samples_split=50, n_estimators=300; total time=   1.2s\n",
      "[CV] END max_depth=9, max_features=sqrt, min_samples_leaf=20, min_samples_split=50, n_estimators=300; total time=   1.2s\n",
      "[CV] END max_depth=9, max_features=sqrt, min_samples_leaf=20, min_samples_split=50, n_estimators=300; total time=   1.2s\n",
      "[CV] END max_depth=11, max_features=sqrt, min_samples_leaf=2, min_samples_split=10, n_estimators=600; total time=   3.1s\n",
      "[CV] END max_depth=11, max_features=sqrt, min_samples_leaf=2, min_samples_split=10, n_estimators=600; total time=   3.1s\n",
      "[CV] END max_depth=11, max_features=sqrt, min_samples_leaf=2, min_samples_split=10, n_estimators=600; total time=   3.1s\n",
      "[CV] END max_depth=11, max_features=sqrt, min_samples_leaf=2, min_samples_split=10, n_estimators=600; total time=   3.1s\n",
      "[CV] END max_depth=11, max_features=sqrt, min_samples_leaf=2, min_samples_split=10, n_estimators=600; total time=   3.1s\n",
      "[CV] END max_depth=5, max_features=sqrt, min_samples_leaf=5, min_samples_split=20, n_estimators=500; total time=   1.6s\n",
      "[CV] END max_depth=5, max_features=sqrt, min_samples_leaf=5, min_samples_split=20, n_estimators=500; total time=   1.6s\n",
      "[CV] END max_depth=5, max_features=sqrt, min_samples_leaf=5, min_samples_split=20, n_estimators=500; total time=   1.6s\n",
      "[CV] END max_depth=5, max_features=sqrt, min_samples_leaf=5, min_samples_split=20, n_estimators=500; total time=   1.6s\n",
      "[CV] END max_depth=5, max_features=sqrt, min_samples_leaf=5, min_samples_split=20, n_estimators=500; total time=   1.6s\n",
      "[CV] END max_depth=9, max_features=sqrt, min_samples_leaf=2, min_samples_split=2, n_estimators=300; total time=   1.3s\n",
      "[CV] END max_depth=9, max_features=sqrt, min_samples_leaf=2, min_samples_split=2, n_estimators=300; total time=   1.3s\n",
      "[CV] END max_depth=9, max_features=sqrt, min_samples_leaf=2, min_samples_split=2, n_estimators=300; total time=   1.3s\n",
      "[CV] END max_depth=9, max_features=sqrt, min_samples_leaf=2, min_samples_split=2, n_estimators=300; total time=   1.3s\n",
      "[CV] END max_depth=9, max_features=sqrt, min_samples_leaf=2, min_samples_split=2, n_estimators=300; total time=   1.3s\n",
      "[CV] END max_depth=19, max_features=sqrt, min_samples_leaf=20, min_samples_split=5, n_estimators=500; total time=   2.3s\n",
      "[CV] END max_depth=19, max_features=sqrt, min_samples_leaf=20, min_samples_split=5, n_estimators=500; total time=   2.3s\n",
      "[CV] END max_depth=19, max_features=sqrt, min_samples_leaf=20, min_samples_split=5, n_estimators=500; total time=   2.3s\n"
     ]
    },
    {
     "name": "stdout",
     "output_type": "stream",
     "text": [
      "[CV] END max_depth=19, max_features=sqrt, min_samples_leaf=20, min_samples_split=5, n_estimators=500; total time=   2.4s\n",
      "[CV] END max_depth=19, max_features=sqrt, min_samples_leaf=20, min_samples_split=5, n_estimators=500; total time=   2.3s\n",
      "[CV] END max_depth=7, max_features=sqrt, min_samples_leaf=20, min_samples_split=10, n_estimators=1000; total time=   3.9s\n",
      "[CV] END max_depth=7, max_features=sqrt, min_samples_leaf=20, min_samples_split=10, n_estimators=1000; total time=   3.8s\n",
      "[CV] END max_depth=7, max_features=sqrt, min_samples_leaf=20, min_samples_split=10, n_estimators=1000; total time=   3.8s\n",
      "[CV] END max_depth=7, max_features=sqrt, min_samples_leaf=20, min_samples_split=10, n_estimators=1000; total time=   3.8s\n",
      "[CV] END max_depth=7, max_features=sqrt, min_samples_leaf=20, min_samples_split=10, n_estimators=1000; total time=   3.9s\n",
      "[CV] END max_depth=19, max_features=sqrt, min_samples_leaf=2, min_samples_split=2, n_estimators=1100; total time=   7.9s\n",
      "[CV] END max_depth=19, max_features=sqrt, min_samples_leaf=2, min_samples_split=2, n_estimators=1100; total time=   8.2s\n",
      "[CV] END max_depth=19, max_features=sqrt, min_samples_leaf=2, min_samples_split=2, n_estimators=1100; total time=   8.2s\n",
      "[CV] END max_depth=19, max_features=sqrt, min_samples_leaf=2, min_samples_split=2, n_estimators=1100; total time=   8.1s\n",
      "[CV] END max_depth=19, max_features=sqrt, min_samples_leaf=2, min_samples_split=2, n_estimators=1100; total time=   8.1s\n",
      "[CV] END max_depth=7, max_features=sqrt, min_samples_leaf=20, min_samples_split=2, n_estimators=300; total time=   1.0s\n",
      "[CV] END max_depth=7, max_features=sqrt, min_samples_leaf=20, min_samples_split=2, n_estimators=300; total time=   1.1s\n",
      "[CV] END max_depth=7, max_features=sqrt, min_samples_leaf=20, min_samples_split=2, n_estimators=300; total time=   1.0s\n",
      "[CV] END max_depth=7, max_features=sqrt, min_samples_leaf=20, min_samples_split=2, n_estimators=300; total time=   1.0s\n",
      "[CV] END max_depth=7, max_features=sqrt, min_samples_leaf=20, min_samples_split=2, n_estimators=300; total time=   1.0s\n",
      "[CV] END max_depth=17, max_features=sqrt, min_samples_leaf=20, min_samples_split=2, n_estimators=300; total time=   1.3s\n",
      "[CV] END max_depth=17, max_features=sqrt, min_samples_leaf=20, min_samples_split=2, n_estimators=300; total time=   1.3s\n",
      "[CV] END max_depth=17, max_features=sqrt, min_samples_leaf=20, min_samples_split=2, n_estimators=300; total time=   1.3s\n",
      "[CV] END max_depth=17, max_features=sqrt, min_samples_leaf=20, min_samples_split=2, n_estimators=300; total time=   1.3s\n",
      "[CV] END max_depth=17, max_features=sqrt, min_samples_leaf=20, min_samples_split=2, n_estimators=300; total time=   1.3s\n",
      "[CV] END max_depth=9, max_features=sqrt, min_samples_leaf=5, min_samples_split=20, n_estimators=1000; total time=   4.5s\n",
      "[CV] END max_depth=9, max_features=sqrt, min_samples_leaf=5, min_samples_split=20, n_estimators=1000; total time=   4.4s\n",
      "[CV] END max_depth=9, max_features=sqrt, min_samples_leaf=5, min_samples_split=20, n_estimators=1000; total time=   4.6s\n",
      "[CV] END max_depth=9, max_features=sqrt, min_samples_leaf=5, min_samples_split=20, n_estimators=1000; total time=   4.5s\n",
      "[CV] END max_depth=9, max_features=sqrt, min_samples_leaf=5, min_samples_split=20, n_estimators=1000; total time=   4.5s\n",
      "[CV] END max_depth=15, max_features=sqrt, min_samples_leaf=2, min_samples_split=50, n_estimators=700; total time=   3.5s\n",
      "[CV] END max_depth=15, max_features=sqrt, min_samples_leaf=2, min_samples_split=50, n_estimators=700; total time=   3.5s\n",
      "[CV] END max_depth=15, max_features=sqrt, min_samples_leaf=2, min_samples_split=50, n_estimators=700; total time=   3.6s\n",
      "[CV] END max_depth=15, max_features=sqrt, min_samples_leaf=2, min_samples_split=50, n_estimators=700; total time=   3.4s\n",
      "[CV] END max_depth=15, max_features=sqrt, min_samples_leaf=2, min_samples_split=50, n_estimators=700; total time=   3.4s\n",
      "[CV] END max_depth=11, max_features=sqrt, min_samples_leaf=1, min_samples_split=5, n_estimators=1000; total time=   5.3s\n",
      "[CV] END max_depth=11, max_features=sqrt, min_samples_leaf=1, min_samples_split=5, n_estimators=1000; total time=   5.3s\n",
      "[CV] END max_depth=11, max_features=sqrt, min_samples_leaf=1, min_samples_split=5, n_estimators=1000; total time=   5.5s\n",
      "[CV] END max_depth=11, max_features=sqrt, min_samples_leaf=1, min_samples_split=5, n_estimators=1000; total time=   5.4s\n",
      "[CV] END max_depth=11, max_features=sqrt, min_samples_leaf=1, min_samples_split=5, n_estimators=1000; total time=   5.3s\n",
      "[CV] END max_depth=19, max_features=sqrt, min_samples_leaf=5, min_samples_split=2, n_estimators=100; total time=   0.5s\n",
      "[CV] END max_depth=19, max_features=sqrt, min_samples_leaf=5, min_samples_split=2, n_estimators=100; total time=   0.5s\n",
      "[CV] END max_depth=19, max_features=sqrt, min_samples_leaf=5, min_samples_split=2, n_estimators=100; total time=   0.5s\n",
      "[CV] END max_depth=19, max_features=sqrt, min_samples_leaf=5, min_samples_split=2, n_estimators=100; total time=   0.5s\n",
      "[CV] END max_depth=19, max_features=sqrt, min_samples_leaf=5, min_samples_split=2, n_estimators=100; total time=   0.5s\n",
      "[CV] END max_depth=11, max_features=sqrt, min_samples_leaf=20, min_samples_split=2, n_estimators=1100; total time=   4.8s\n",
      "[CV] END max_depth=11, max_features=sqrt, min_samples_leaf=20, min_samples_split=2, n_estimators=1100; total time=   4.9s\n",
      "[CV] END max_depth=11, max_features=sqrt, min_samples_leaf=20, min_samples_split=2, n_estimators=1100; total time=   4.8s\n",
      "[CV] END max_depth=11, max_features=sqrt, min_samples_leaf=20, min_samples_split=2, n_estimators=1100; total time=   4.8s\n",
      "[CV] END max_depth=11, max_features=sqrt, min_samples_leaf=20, min_samples_split=2, n_estimators=1100; total time=   4.9s\n",
      "[CV] END max_depth=19, max_features=sqrt, min_samples_leaf=10, min_samples_split=5, n_estimators=300; total time=   1.4s\n",
      "[CV] END max_depth=19, max_features=sqrt, min_samples_leaf=10, min_samples_split=5, n_estimators=300; total time=   1.5s\n",
      "[CV] END max_depth=19, max_features=sqrt, min_samples_leaf=10, min_samples_split=5, n_estimators=300; total time=   1.5s\n",
      "[CV] END max_depth=19, max_features=sqrt, min_samples_leaf=10, min_samples_split=5, n_estimators=300; total time=   1.4s\n",
      "[CV] END max_depth=19, max_features=sqrt, min_samples_leaf=10, min_samples_split=5, n_estimators=300; total time=   1.4s\n",
      "[CV] END max_depth=5, max_features=sqrt, min_samples_leaf=1, min_samples_split=2, n_estimators=800; total time=   2.5s\n",
      "[CV] END max_depth=5, max_features=sqrt, min_samples_leaf=1, min_samples_split=2, n_estimators=800; total time=   2.5s\n",
      "[CV] END max_depth=5, max_features=sqrt, min_samples_leaf=1, min_samples_split=2, n_estimators=800; total time=   2.5s\n",
      "[CV] END max_depth=5, max_features=sqrt, min_samples_leaf=1, min_samples_split=2, n_estimators=800; total time=   2.5s\n",
      "[CV] END max_depth=5, max_features=sqrt, min_samples_leaf=1, min_samples_split=2, n_estimators=800; total time=   2.5s\n",
      "[CV] END max_depth=17, max_features=sqrt, min_samples_leaf=1, min_samples_split=20, n_estimators=1000; total time=   5.9s\n",
      "[CV] END max_depth=17, max_features=sqrt, min_samples_leaf=1, min_samples_split=20, n_estimators=1000; total time=   5.8s\n",
      "[CV] END max_depth=17, max_features=sqrt, min_samples_leaf=1, min_samples_split=20, n_estimators=1000; total time=   5.9s\n",
      "[CV] END max_depth=17, max_features=sqrt, min_samples_leaf=1, min_samples_split=20, n_estimators=1000; total time=   5.9s\n",
      "[CV] END max_depth=17, max_features=sqrt, min_samples_leaf=1, min_samples_split=20, n_estimators=1000; total time=   5.9s\n",
      "[CV] END max_depth=7, max_features=sqrt, min_samples_leaf=20, min_samples_split=10, n_estimators=200; total time=   0.7s\n",
      "[CV] END max_depth=7, max_features=sqrt, min_samples_leaf=20, min_samples_split=10, n_estimators=200; total time=   0.7s\n",
      "[CV] END max_depth=7, max_features=sqrt, min_samples_leaf=20, min_samples_split=10, n_estimators=200; total time=   0.7s\n",
      "[CV] END max_depth=7, max_features=sqrt, min_samples_leaf=20, min_samples_split=10, n_estimators=200; total time=   0.7s\n",
      "[CV] END max_depth=7, max_features=sqrt, min_samples_leaf=20, min_samples_split=10, n_estimators=200; total time=   0.7s\n",
      "[CV] END max_depth=13, max_features=sqrt, min_samples_leaf=2, min_samples_split=10, n_estimators=700; total time=   3.8s\n"
     ]
    },
    {
     "name": "stdout",
     "output_type": "stream",
     "text": [
      "[CV] END max_depth=13, max_features=sqrt, min_samples_leaf=2, min_samples_split=10, n_estimators=700; total time=   4.3s\n",
      "[CV] END max_depth=13, max_features=sqrt, min_samples_leaf=2, min_samples_split=10, n_estimators=700; total time=   4.3s\n",
      "[CV] END max_depth=13, max_features=sqrt, min_samples_leaf=2, min_samples_split=10, n_estimators=700; total time=   4.2s\n",
      "[CV] END max_depth=13, max_features=sqrt, min_samples_leaf=2, min_samples_split=10, n_estimators=700; total time=   3.9s\n",
      "[CV] END max_depth=13, max_features=sqrt, min_samples_leaf=10, min_samples_split=5, n_estimators=1100; total time=   5.4s\n",
      "[CV] END max_depth=13, max_features=sqrt, min_samples_leaf=10, min_samples_split=5, n_estimators=1100; total time=   5.3s\n",
      "[CV] END max_depth=13, max_features=sqrt, min_samples_leaf=10, min_samples_split=5, n_estimators=1100; total time=   5.3s\n",
      "[CV] END max_depth=13, max_features=sqrt, min_samples_leaf=10, min_samples_split=5, n_estimators=1100; total time=   5.3s\n",
      "[CV] END max_depth=13, max_features=sqrt, min_samples_leaf=10, min_samples_split=5, n_estimators=1100; total time=   5.3s\n",
      "[CV] END max_depth=5, max_features=sqrt, min_samples_leaf=2, min_samples_split=50, n_estimators=200; total time=   0.5s\n",
      "[CV] END max_depth=5, max_features=sqrt, min_samples_leaf=2, min_samples_split=50, n_estimators=200; total time=   0.6s\n",
      "[CV] END max_depth=5, max_features=sqrt, min_samples_leaf=2, min_samples_split=50, n_estimators=200; total time=   0.6s\n",
      "[CV] END max_depth=5, max_features=sqrt, min_samples_leaf=2, min_samples_split=50, n_estimators=200; total time=   0.6s\n",
      "[CV] END max_depth=5, max_features=sqrt, min_samples_leaf=2, min_samples_split=50, n_estimators=200; total time=   0.6s\n",
      "[CV] END max_depth=5, max_features=sqrt, min_samples_leaf=10, min_samples_split=50, n_estimators=300; total time=   0.9s\n",
      "[CV] END max_depth=5, max_features=sqrt, min_samples_leaf=10, min_samples_split=50, n_estimators=300; total time=   0.9s\n",
      "[CV] END max_depth=5, max_features=sqrt, min_samples_leaf=10, min_samples_split=50, n_estimators=300; total time=   0.9s\n",
      "[CV] END max_depth=5, max_features=sqrt, min_samples_leaf=10, min_samples_split=50, n_estimators=300; total time=   0.9s\n",
      "[CV] END max_depth=5, max_features=sqrt, min_samples_leaf=10, min_samples_split=50, n_estimators=300; total time=   0.9s\n",
      "[CV] END max_depth=5, max_features=sqrt, min_samples_leaf=5, min_samples_split=50, n_estimators=300; total time=   0.9s\n",
      "[CV] END max_depth=5, max_features=sqrt, min_samples_leaf=5, min_samples_split=50, n_estimators=300; total time=   0.9s\n",
      "[CV] END max_depth=5, max_features=sqrt, min_samples_leaf=5, min_samples_split=50, n_estimators=300; total time=   0.9s\n",
      "[CV] END max_depth=5, max_features=sqrt, min_samples_leaf=5, min_samples_split=50, n_estimators=300; total time=   0.9s\n",
      "[CV] END max_depth=5, max_features=sqrt, min_samples_leaf=5, min_samples_split=50, n_estimators=300; total time=   0.9s\n",
      "[CV] END max_depth=19, max_features=sqrt, min_samples_leaf=2, min_samples_split=5, n_estimators=700; total time=   4.8s\n",
      "[CV] END max_depth=19, max_features=sqrt, min_samples_leaf=2, min_samples_split=5, n_estimators=700; total time=   4.8s\n",
      "[CV] END max_depth=19, max_features=sqrt, min_samples_leaf=2, min_samples_split=5, n_estimators=700; total time=   4.8s\n",
      "[CV] END max_depth=19, max_features=sqrt, min_samples_leaf=2, min_samples_split=5, n_estimators=700; total time=   4.7s\n",
      "[CV] END max_depth=19, max_features=sqrt, min_samples_leaf=2, min_samples_split=5, n_estimators=700; total time=   4.8s\n",
      "[CV] END max_depth=5, max_features=sqrt, min_samples_leaf=20, min_samples_split=50, n_estimators=500; total time=   1.5s\n",
      "[CV] END max_depth=5, max_features=sqrt, min_samples_leaf=20, min_samples_split=50, n_estimators=500; total time=   1.5s\n",
      "[CV] END max_depth=5, max_features=sqrt, min_samples_leaf=20, min_samples_split=50, n_estimators=500; total time=   1.5s\n",
      "[CV] END max_depth=5, max_features=sqrt, min_samples_leaf=20, min_samples_split=50, n_estimators=500; total time=   1.5s\n",
      "[CV] END max_depth=5, max_features=sqrt, min_samples_leaf=20, min_samples_split=50, n_estimators=500; total time=   1.5s\n",
      "[CV] END max_depth=5, max_features=sqrt, min_samples_leaf=5, min_samples_split=5, n_estimators=500; total time=   1.5s\n",
      "[CV] END max_depth=5, max_features=sqrt, min_samples_leaf=5, min_samples_split=5, n_estimators=500; total time=   1.5s\n",
      "[CV] END max_depth=5, max_features=sqrt, min_samples_leaf=5, min_samples_split=5, n_estimators=500; total time=   1.5s\n",
      "[CV] END max_depth=5, max_features=sqrt, min_samples_leaf=5, min_samples_split=5, n_estimators=500; total time=   1.5s\n",
      "[CV] END max_depth=5, max_features=sqrt, min_samples_leaf=5, min_samples_split=5, n_estimators=500; total time=   1.5s\n",
      "[CV] END max_depth=15, max_features=sqrt, min_samples_leaf=10, min_samples_split=50, n_estimators=500; total time=   2.4s\n",
      "[CV] END max_depth=15, max_features=sqrt, min_samples_leaf=10, min_samples_split=50, n_estimators=500; total time=   2.3s\n",
      "[CV] END max_depth=15, max_features=sqrt, min_samples_leaf=10, min_samples_split=50, n_estimators=500; total time=   2.2s\n",
      "[CV] END max_depth=15, max_features=sqrt, min_samples_leaf=10, min_samples_split=50, n_estimators=500; total time=   2.3s\n",
      "[CV] END max_depth=15, max_features=sqrt, min_samples_leaf=10, min_samples_split=50, n_estimators=500; total time=   2.3s\n",
      "[CV] END max_depth=5, max_features=sqrt, min_samples_leaf=10, min_samples_split=2, n_estimators=300; total time=   0.9s\n",
      "[CV] END max_depth=5, max_features=sqrt, min_samples_leaf=10, min_samples_split=2, n_estimators=300; total time=   0.9s\n",
      "[CV] END max_depth=5, max_features=sqrt, min_samples_leaf=10, min_samples_split=2, n_estimators=300; total time=   0.9s\n",
      "[CV] END max_depth=5, max_features=sqrt, min_samples_leaf=10, min_samples_split=2, n_estimators=300; total time=   0.9s\n",
      "[CV] END max_depth=5, max_features=sqrt, min_samples_leaf=10, min_samples_split=2, n_estimators=300; total time=   0.9s\n",
      "[CV] END max_depth=7, max_features=sqrt, min_samples_leaf=2, min_samples_split=10, n_estimators=700; total time=   2.6s\n",
      "[CV] END max_depth=7, max_features=sqrt, min_samples_leaf=2, min_samples_split=10, n_estimators=700; total time=   2.7s\n",
      "[CV] END max_depth=7, max_features=sqrt, min_samples_leaf=2, min_samples_split=10, n_estimators=700; total time=   2.7s\n",
      "[CV] END max_depth=7, max_features=sqrt, min_samples_leaf=2, min_samples_split=10, n_estimators=700; total time=   2.6s\n",
      "[CV] END max_depth=7, max_features=sqrt, min_samples_leaf=2, min_samples_split=10, n_estimators=700; total time=   2.7s\n",
      "[CV] END max_depth=11, max_features=sqrt, min_samples_leaf=10, min_samples_split=2, n_estimators=500; total time=   2.3s\n",
      "[CV] END max_depth=11, max_features=sqrt, min_samples_leaf=10, min_samples_split=2, n_estimators=500; total time=   2.3s\n",
      "[CV] END max_depth=11, max_features=sqrt, min_samples_leaf=10, min_samples_split=2, n_estimators=500; total time=   2.3s\n",
      "[CV] END max_depth=11, max_features=sqrt, min_samples_leaf=10, min_samples_split=2, n_estimators=500; total time=   2.3s\n",
      "[CV] END max_depth=11, max_features=sqrt, min_samples_leaf=10, min_samples_split=2, n_estimators=500; total time=   2.2s\n",
      "[CV] END max_depth=17, max_features=sqrt, min_samples_leaf=1, min_samples_split=50, n_estimators=1100; total time=   5.6s\n",
      "[CV] END max_depth=17, max_features=sqrt, min_samples_leaf=1, min_samples_split=50, n_estimators=1100; total time=   5.7s\n",
      "[CV] END max_depth=17, max_features=sqrt, min_samples_leaf=1, min_samples_split=50, n_estimators=1100; total time=   6.1s\n",
      "[CV] END max_depth=17, max_features=sqrt, min_samples_leaf=1, min_samples_split=50, n_estimators=1100; total time=   5.9s\n",
      "[CV] END max_depth=17, max_features=sqrt, min_samples_leaf=1, min_samples_split=50, n_estimators=1100; total time=   6.1s\n",
      "[CV] END max_depth=15, max_features=sqrt, min_samples_leaf=1, min_samples_split=50, n_estimators=100; total time=   0.4s\n",
      "[CV] END max_depth=15, max_features=sqrt, min_samples_leaf=1, min_samples_split=50, n_estimators=100; total time=   0.4s\n",
      "[CV] END max_depth=15, max_features=sqrt, min_samples_leaf=1, min_samples_split=50, n_estimators=100; total time=   0.4s\n",
      "[CV] END max_depth=15, max_features=sqrt, min_samples_leaf=1, min_samples_split=50, n_estimators=100; total time=   0.4s\n"
     ]
    },
    {
     "name": "stdout",
     "output_type": "stream",
     "text": [
      "[CV] END max_depth=15, max_features=sqrt, min_samples_leaf=1, min_samples_split=50, n_estimators=100; total time=   0.4s\n"
     ]
    },
    {
     "data": {
      "text/plain": [
       "RandomizedSearchCV(cv=5, estimator=RandomForestRegressor(), n_iter=150,\n",
       "                   param_distributions={'max_depth': [5, 7, 9, 11, 13, 15, 17,\n",
       "                                                      19],\n",
       "                                        'max_features': ['sqrt'],\n",
       "                                        'min_samples_leaf': [1, 2, 5, 10, 20],\n",
       "                                        'min_samples_split': [2, 5, 10, 20, 50],\n",
       "                                        'n_estimators': [100, 200, 300, 400,\n",
       "                                                         500, 600, 700, 800,\n",
       "                                                         900, 1000, 1100]},\n",
       "                   scoring='neg_mean_squared_log_error', verbose=2)"
      ]
     },
     "execution_count": 48,
     "metadata": {},
     "output_type": "execute_result"
    }
   ],
   "source": [
    "model.fit(xtrain,ytrain)"
   ]
  },
  {
   "cell_type": "code",
   "execution_count": 49,
   "id": "f31cd5a0",
   "metadata": {},
   "outputs": [
    {
     "data": {
      "text/plain": [
       "{'n_estimators': 700,\n",
       " 'min_samples_split': 2,\n",
       " 'min_samples_leaf': 1,\n",
       " 'max_features': 'sqrt',\n",
       " 'max_depth': 19}"
      ]
     },
     "execution_count": 49,
     "metadata": {},
     "output_type": "execute_result"
    }
   ],
   "source": [
    "model.best_params_"
   ]
  },
  {
   "cell_type": "code",
   "execution_count": 51,
   "id": "4c4b8e6d",
   "metadata": {},
   "outputs": [
    {
     "data": {
      "text/plain": [
       "RandomForestRegressor(max_depth=19, max_features='sqrt', n_estimators=700)"
      ]
     },
     "execution_count": 51,
     "metadata": {},
     "output_type": "execute_result"
    }
   ],
   "source": [
    "f_model = RandomForestRegressor(n_estimators= 700,min_samples_split= 2,min_samples_leaf= 1,\n",
    "                                max_features= 'sqrt',max_depth= 19)\n",
    "f_model.fit(xtrain,ytrain)"
   ]
  },
  {
   "cell_type": "markdown",
   "id": "26384c3a",
   "metadata": {},
   "source": [
    "### Preparing Test Set"
   ]
  },
  {
   "cell_type": "code",
   "execution_count": 118,
   "id": "bf91bc5b",
   "metadata": {
    "scrolled": true
   },
   "outputs": [
    {
     "data": {
      "text/html": [
       "<div>\n",
       "<style scoped>\n",
       "    .dataframe tbody tr th:only-of-type {\n",
       "        vertical-align: middle;\n",
       "    }\n",
       "\n",
       "    .dataframe tbody tr th {\n",
       "        vertical-align: top;\n",
       "    }\n",
       "\n",
       "    .dataframe thead th {\n",
       "        text-align: right;\n",
       "    }\n",
       "</style>\n",
       "<table border=\"1\" class=\"dataframe\">\n",
       "  <thead>\n",
       "    <tr style=\"text-align: right;\">\n",
       "      <th></th>\n",
       "      <th>ID</th>\n",
       "      <th>Levy</th>\n",
       "      <th>Manufacturer</th>\n",
       "      <th>Model</th>\n",
       "      <th>Prod. year</th>\n",
       "      <th>Category</th>\n",
       "      <th>Leather interior</th>\n",
       "      <th>Fuel type</th>\n",
       "      <th>Engine volume</th>\n",
       "      <th>Mileage</th>\n",
       "      <th>Cylinders</th>\n",
       "      <th>Gear box type</th>\n",
       "      <th>Drive wheels</th>\n",
       "      <th>Doors</th>\n",
       "      <th>Wheel</th>\n",
       "      <th>Color</th>\n",
       "      <th>Airbags</th>\n",
       "      <th>Price</th>\n",
       "    </tr>\n",
       "  </thead>\n",
       "  <tbody>\n",
       "    <tr>\n",
       "      <th>0</th>\n",
       "      <td>44020629</td>\n",
       "      <td>-</td>\n",
       "      <td>VOLKSWAGEN</td>\n",
       "      <td>Golf</td>\n",
       "      <td>2012</td>\n",
       "      <td>Hatchback</td>\n",
       "      <td>No</td>\n",
       "      <td>Diesel</td>\n",
       "      <td>2.0 Turbo</td>\n",
       "      <td>0 km</td>\n",
       "      <td>4</td>\n",
       "      <td>Manual</td>\n",
       "      <td>Front</td>\n",
       "      <td>02-Mar</td>\n",
       "      <td>Left wheel</td>\n",
       "      <td>Grey</td>\n",
       "      <td>10</td>\n",
       "      <td>NaN</td>\n",
       "    </tr>\n",
       "    <tr>\n",
       "      <th>1</th>\n",
       "      <td>45784798</td>\n",
       "      <td>-</td>\n",
       "      <td>HYUNDAI</td>\n",
       "      <td>Sonata</td>\n",
       "      <td>2012</td>\n",
       "      <td>Sedan</td>\n",
       "      <td>Yes</td>\n",
       "      <td>Petrol</td>\n",
       "      <td>2.4</td>\n",
       "      <td>26000 km</td>\n",
       "      <td>4</td>\n",
       "      <td>Tiptronic</td>\n",
       "      <td>Front</td>\n",
       "      <td>04-May</td>\n",
       "      <td>Left wheel</td>\n",
       "      <td>Grey</td>\n",
       "      <td>10</td>\n",
       "      <td>NaN</td>\n",
       "    </tr>\n",
       "    <tr>\n",
       "      <th>2</th>\n",
       "      <td>45800257</td>\n",
       "      <td>-</td>\n",
       "      <td>NISSAN</td>\n",
       "      <td>Tiida</td>\n",
       "      <td>2005</td>\n",
       "      <td>Sedan</td>\n",
       "      <td>No</td>\n",
       "      <td>Petrol</td>\n",
       "      <td>1.5</td>\n",
       "      <td>168000 km</td>\n",
       "      <td>4</td>\n",
       "      <td>Automatic</td>\n",
       "      <td>Front</td>\n",
       "      <td>04-May</td>\n",
       "      <td>Right-hand drive</td>\n",
       "      <td>Sky blue</td>\n",
       "      <td>8</td>\n",
       "      <td>NaN</td>\n",
       "    </tr>\n",
       "    <tr>\n",
       "      <th>3</th>\n",
       "      <td>45797981</td>\n",
       "      <td>975</td>\n",
       "      <td>VOLVO</td>\n",
       "      <td>XC90</td>\n",
       "      <td>2012</td>\n",
       "      <td>Jeep</td>\n",
       "      <td>Yes</td>\n",
       "      <td>Petrol</td>\n",
       "      <td>3.2</td>\n",
       "      <td>143000 km</td>\n",
       "      <td>6</td>\n",
       "      <td>Automatic</td>\n",
       "      <td>4x4</td>\n",
       "      <td>04-May</td>\n",
       "      <td>Left wheel</td>\n",
       "      <td>Blue</td>\n",
       "      <td>12</td>\n",
       "      <td>NaN</td>\n",
       "    </tr>\n",
       "    <tr>\n",
       "      <th>4</th>\n",
       "      <td>45814303</td>\n",
       "      <td>-</td>\n",
       "      <td>OPEL</td>\n",
       "      <td>Astra</td>\n",
       "      <td>1993</td>\n",
       "      <td>Hatchback</td>\n",
       "      <td>No</td>\n",
       "      <td>Petrol</td>\n",
       "      <td>1.6</td>\n",
       "      <td>200000 km</td>\n",
       "      <td>4</td>\n",
       "      <td>Manual</td>\n",
       "      <td>Front</td>\n",
       "      <td>04-May</td>\n",
       "      <td>Left wheel</td>\n",
       "      <td>Black</td>\n",
       "      <td>0</td>\n",
       "      <td>NaN</td>\n",
       "    </tr>\n",
       "  </tbody>\n",
       "</table>\n",
       "</div>"
      ],
      "text/plain": [
       "         ID Levy Manufacturer   Model  Prod. year   Category Leather interior  \\\n",
       "0  44020629    -   VOLKSWAGEN    Golf        2012  Hatchback               No   \n",
       "1  45784798    -      HYUNDAI  Sonata        2012      Sedan              Yes   \n",
       "2  45800257    -       NISSAN   Tiida        2005      Sedan               No   \n",
       "3  45797981  975        VOLVO    XC90        2012       Jeep              Yes   \n",
       "4  45814303    -         OPEL   Astra        1993  Hatchback               No   \n",
       "\n",
       "  Fuel type Engine volume    Mileage  Cylinders Gear box type Drive wheels  \\\n",
       "0    Diesel     2.0 Turbo       0 km          4        Manual        Front   \n",
       "1    Petrol           2.4   26000 km          4     Tiptronic        Front   \n",
       "2    Petrol           1.5  168000 km          4     Automatic        Front   \n",
       "3    Petrol           3.2  143000 km          6     Automatic          4x4   \n",
       "4    Petrol           1.6  200000 km          4        Manual        Front   \n",
       "\n",
       "    Doors             Wheel     Color  Airbags  Price  \n",
       "0  02-Mar        Left wheel      Grey       10    NaN  \n",
       "1  04-May        Left wheel      Grey       10    NaN  \n",
       "2  04-May  Right-hand drive  Sky blue        8    NaN  \n",
       "3  04-May        Left wheel      Blue       12    NaN  \n",
       "4  04-May        Left wheel     Black        0    NaN  "
      ]
     },
     "execution_count": 118,
     "metadata": {},
     "output_type": "execute_result"
    }
   ],
   "source": [
    "test = pd.read_csv('test.csv')\n",
    "test.head()"
   ]
  },
  {
   "cell_type": "code",
   "execution_count": 119,
   "id": "5991e498",
   "metadata": {},
   "outputs": [],
   "source": [
    "Engvol(test)\n",
    "\n",
    "test.index=test['ID']\n",
    "test.drop(columns='ID',inplace=True)\n",
    "test.drop(columns='Price',inplace=True)\n",
    "\n",
    "test['Levy'] = test['Levy'].replace('-',np.nan)\n",
    "test['Levy'] = test['Levy'].astype('float16')\n",
    "\n",
    "\n",
    "test['Mileage'] = [i[0:-3] for i in test['Mileage']]\n",
    "test['Mileage'] = test['Mileage'].astype('int64')\n",
    "\n",
    "test['Levy'] = test['Levy'].replace(np.nan,Levy_median)\n",
    "\n",
    "new= []\n",
    "for mil in test['Mileage']:\n",
    "    if mil==0:\n",
    "        new.append(1)\n",
    "    else:\n",
    "        new.append(0)\n",
    "test['New_Car'] = new\n",
    "test.drop(columns='Mileage',inplace=True)\n",
    "\n",
    "\n",
    "levy=[]\n",
    "for l in test['Levy']:\n",
    "    if l>levymax:\n",
    "        levy.append(levymax)\n",
    "    else:\n",
    "        levy.append(l)\n",
    "test.drop(columns='Levy',inplace=True)\n",
    "test['Levy'] = levy"
   ]
  },
  {
   "cell_type": "code",
   "execution_count": 121,
   "id": "66aa8bec",
   "metadata": {},
   "outputs": [
    {
     "data": {
      "text/html": [
       "<div>\n",
       "<style scoped>\n",
       "    .dataframe tbody tr th:only-of-type {\n",
       "        vertical-align: middle;\n",
       "    }\n",
       "\n",
       "    .dataframe tbody tr th {\n",
       "        vertical-align: top;\n",
       "    }\n",
       "\n",
       "    .dataframe thead th {\n",
       "        text-align: right;\n",
       "    }\n",
       "</style>\n",
       "<table border=\"1\" class=\"dataframe\">\n",
       "  <thead>\n",
       "    <tr style=\"text-align: right;\">\n",
       "      <th></th>\n",
       "      <th>Prod. year</th>\n",
       "      <th>Category</th>\n",
       "      <th>Leather interior</th>\n",
       "      <th>Fuel type</th>\n",
       "      <th>Engine volume</th>\n",
       "      <th>Cylinders</th>\n",
       "      <th>Gear box type</th>\n",
       "      <th>Drive wheels</th>\n",
       "      <th>Doors</th>\n",
       "      <th>Wheel</th>\n",
       "      <th>Airbags</th>\n",
       "      <th>Turbo</th>\n",
       "      <th>New_Car</th>\n",
       "      <th>Levy</th>\n",
       "      <th>encoded_Model</th>\n",
       "      <th>encoded_Color</th>\n",
       "      <th>encoded_Manufacturer</th>\n",
       "    </tr>\n",
       "  </thead>\n",
       "  <tbody>\n",
       "    <tr>\n",
       "      <th>0</th>\n",
       "      <td>2012</td>\n",
       "      <td>Hatchback</td>\n",
       "      <td>No</td>\n",
       "      <td>Diesel</td>\n",
       "      <td>2.000000</td>\n",
       "      <td>4</td>\n",
       "      <td>Manual</td>\n",
       "      <td>Front</td>\n",
       "      <td>02-Mar</td>\n",
       "      <td>Left wheel</td>\n",
       "      <td>10</td>\n",
       "      <td>1</td>\n",
       "      <td>1</td>\n",
       "      <td>779.0</td>\n",
       "      <td>4704.0</td>\n",
       "      <td>18189.0</td>\n",
       "      <td>12544.0</td>\n",
       "    </tr>\n",
       "    <tr>\n",
       "      <th>1</th>\n",
       "      <td>2012</td>\n",
       "      <td>Sedan</td>\n",
       "      <td>Yes</td>\n",
       "      <td>Petrol</td>\n",
       "      <td>2.400391</td>\n",
       "      <td>4</td>\n",
       "      <td>Tiptronic</td>\n",
       "      <td>Front</td>\n",
       "      <td>04-May</td>\n",
       "      <td>Left wheel</td>\n",
       "      <td>10</td>\n",
       "      <td>0</td>\n",
       "      <td>0</td>\n",
       "      <td>779.0</td>\n",
       "      <td>13842.5</td>\n",
       "      <td>18189.0</td>\n",
       "      <td>19130.0</td>\n",
       "    </tr>\n",
       "    <tr>\n",
       "      <th>2</th>\n",
       "      <td>2005</td>\n",
       "      <td>Sedan</td>\n",
       "      <td>No</td>\n",
       "      <td>Petrol</td>\n",
       "      <td>1.500000</td>\n",
       "      <td>4</td>\n",
       "      <td>Automatic</td>\n",
       "      <td>Front</td>\n",
       "      <td>04-May</td>\n",
       "      <td>Right-hand drive</td>\n",
       "      <td>8</td>\n",
       "      <td>0</td>\n",
       "      <td>0</td>\n",
       "      <td>779.0</td>\n",
       "      <td>8467.0</td>\n",
       "      <td>13956.0</td>\n",
       "      <td>9095.0</td>\n",
       "    </tr>\n",
       "    <tr>\n",
       "      <th>3</th>\n",
       "      <td>2012</td>\n",
       "      <td>Jeep</td>\n",
       "      <td>Yes</td>\n",
       "      <td>Petrol</td>\n",
       "      <td>3.199219</td>\n",
       "      <td>6</td>\n",
       "      <td>Automatic</td>\n",
       "      <td>4x4</td>\n",
       "      <td>04-May</td>\n",
       "      <td>Left wheel</td>\n",
       "      <td>12</td>\n",
       "      <td>0</td>\n",
       "      <td>0</td>\n",
       "      <td>975.0</td>\n",
       "      <td>15056.0</td>\n",
       "      <td>11917.0</td>\n",
       "      <td>9100.0</td>\n",
       "    </tr>\n",
       "    <tr>\n",
       "      <th>4</th>\n",
       "      <td>1993</td>\n",
       "      <td>Hatchback</td>\n",
       "      <td>No</td>\n",
       "      <td>Petrol</td>\n",
       "      <td>1.599609</td>\n",
       "      <td>4</td>\n",
       "      <td>Manual</td>\n",
       "      <td>Front</td>\n",
       "      <td>04-May</td>\n",
       "      <td>Left wheel</td>\n",
       "      <td>0</td>\n",
       "      <td>0</td>\n",
       "      <td>0</td>\n",
       "      <td>779.0</td>\n",
       "      <td>6586.0</td>\n",
       "      <td>16935.0</td>\n",
       "      <td>6586.0</td>\n",
       "    </tr>\n",
       "  </tbody>\n",
       "</table>\n",
       "</div>"
      ],
      "text/plain": [
       "   Prod. year   Category Leather interior Fuel type  Engine volume  Cylinders  \\\n",
       "0        2012  Hatchback               No    Diesel       2.000000          4   \n",
       "1        2012      Sedan              Yes    Petrol       2.400391          4   \n",
       "2        2005      Sedan               No    Petrol       1.500000          4   \n",
       "3        2012       Jeep              Yes    Petrol       3.199219          6   \n",
       "4        1993  Hatchback               No    Petrol       1.599609          4   \n",
       "\n",
       "  Gear box type Drive wheels   Doors             Wheel  Airbags  Turbo  \\\n",
       "0        Manual        Front  02-Mar        Left wheel       10      1   \n",
       "1     Tiptronic        Front  04-May        Left wheel       10      0   \n",
       "2     Automatic        Front  04-May  Right-hand drive        8      0   \n",
       "3     Automatic          4x4  04-May        Left wheel       12      0   \n",
       "4        Manual        Front  04-May        Left wheel        0      0   \n",
       "\n",
       "   New_Car   Levy  encoded_Model  encoded_Color  encoded_Manufacturer  \n",
       "0        1  779.0         4704.0        18189.0               12544.0  \n",
       "1        0  779.0        13842.5        18189.0               19130.0  \n",
       "2        0  779.0         8467.0        13956.0                9095.0  \n",
       "3        0  975.0        15056.0        11917.0                9100.0  \n",
       "4        0  779.0         6586.0        16935.0                6586.0  "
      ]
     },
     "execution_count": 121,
     "metadata": {},
     "output_type": "execute_result"
    }
   ],
   "source": [
    "for col in target_categ:\n",
    "    test = test.merge(tar_enc_dict[col],how='left',on=col)\n",
    "    test.drop(columns=col,inplace=True)\n",
    "    test.rename(columns={'Price':'encoded_'+col},inplace=True)"
   ]
  },
  {
   "cell_type": "code",
   "execution_count": 122,
   "id": "6f980fcb",
   "metadata": {},
   "outputs": [
    {
     "data": {
      "text/html": [
       "<div>\n",
       "<style scoped>\n",
       "    .dataframe tbody tr th:only-of-type {\n",
       "        vertical-align: middle;\n",
       "    }\n",
       "\n",
       "    .dataframe tbody tr th {\n",
       "        vertical-align: top;\n",
       "    }\n",
       "\n",
       "    .dataframe thead th {\n",
       "        text-align: right;\n",
       "    }\n",
       "</style>\n",
       "<table border=\"1\" class=\"dataframe\">\n",
       "  <thead>\n",
       "    <tr style=\"text-align: right;\">\n",
       "      <th></th>\n",
       "      <th>Prod. year</th>\n",
       "      <th>Engine volume</th>\n",
       "      <th>Cylinders</th>\n",
       "      <th>Airbags</th>\n",
       "      <th>Turbo</th>\n",
       "      <th>New_Car</th>\n",
       "      <th>Levy</th>\n",
       "      <th>encoded_Model</th>\n",
       "      <th>encoded_Color</th>\n",
       "      <th>encoded_Manufacturer</th>\n",
       "      <th>x0_Cabriolet</th>\n",
       "      <th>x0_Coupe</th>\n",
       "      <th>x0_Goods wagon</th>\n",
       "      <th>x0_Hatchback</th>\n",
       "      <th>x0_Jeep</th>\n",
       "      <th>x0_Limousine</th>\n",
       "      <th>x0_Microbus</th>\n",
       "      <th>x0_Minivan</th>\n",
       "      <th>x0_Pickup</th>\n",
       "      <th>x0_Sedan</th>\n",
       "      <th>x0_Universal</th>\n",
       "      <th>x1_CNG</th>\n",
       "      <th>x1_Diesel</th>\n",
       "      <th>x1_Hybrid</th>\n",
       "      <th>x1_LPG</th>\n",
       "      <th>x1_Petrol</th>\n",
       "      <th>x1_Plug-in Hybrid</th>\n",
       "      <th>x2_Automatic</th>\n",
       "      <th>x2_Manual</th>\n",
       "      <th>x2_Tiptronic</th>\n",
       "      <th>x2_Variator</th>\n",
       "      <th>x3_4x4</th>\n",
       "      <th>x3_Front</th>\n",
       "      <th>x3_Rear</th>\n",
       "      <th>x4_02-Mar</th>\n",
       "      <th>x4_04-May</th>\n",
       "      <th>x4_&gt;5</th>\n",
       "      <th>x5_Right-hand drive</th>\n",
       "      <th>x6_Yes</th>\n",
       "    </tr>\n",
       "  </thead>\n",
       "  <tbody>\n",
       "    <tr>\n",
       "      <th>0</th>\n",
       "      <td>2012</td>\n",
       "      <td>2.000000</td>\n",
       "      <td>4</td>\n",
       "      <td>10</td>\n",
       "      <td>1</td>\n",
       "      <td>1</td>\n",
       "      <td>779.0</td>\n",
       "      <td>4704.0</td>\n",
       "      <td>18189.0</td>\n",
       "      <td>12544.0</td>\n",
       "      <td>0</td>\n",
       "      <td>0</td>\n",
       "      <td>0</td>\n",
       "      <td>1</td>\n",
       "      <td>0</td>\n",
       "      <td>0</td>\n",
       "      <td>0</td>\n",
       "      <td>0</td>\n",
       "      <td>0</td>\n",
       "      <td>0</td>\n",
       "      <td>0</td>\n",
       "      <td>0</td>\n",
       "      <td>1</td>\n",
       "      <td>0</td>\n",
       "      <td>0</td>\n",
       "      <td>0</td>\n",
       "      <td>0</td>\n",
       "      <td>0</td>\n",
       "      <td>1</td>\n",
       "      <td>0</td>\n",
       "      <td>0</td>\n",
       "      <td>0</td>\n",
       "      <td>1</td>\n",
       "      <td>0</td>\n",
       "      <td>1</td>\n",
       "      <td>0</td>\n",
       "      <td>0</td>\n",
       "      <td>0</td>\n",
       "      <td>0</td>\n",
       "    </tr>\n",
       "    <tr>\n",
       "      <th>1</th>\n",
       "      <td>2012</td>\n",
       "      <td>2.400391</td>\n",
       "      <td>4</td>\n",
       "      <td>10</td>\n",
       "      <td>0</td>\n",
       "      <td>0</td>\n",
       "      <td>779.0</td>\n",
       "      <td>13842.5</td>\n",
       "      <td>18189.0</td>\n",
       "      <td>19130.0</td>\n",
       "      <td>0</td>\n",
       "      <td>0</td>\n",
       "      <td>0</td>\n",
       "      <td>0</td>\n",
       "      <td>0</td>\n",
       "      <td>0</td>\n",
       "      <td>0</td>\n",
       "      <td>0</td>\n",
       "      <td>0</td>\n",
       "      <td>1</td>\n",
       "      <td>0</td>\n",
       "      <td>0</td>\n",
       "      <td>0</td>\n",
       "      <td>0</td>\n",
       "      <td>0</td>\n",
       "      <td>1</td>\n",
       "      <td>0</td>\n",
       "      <td>0</td>\n",
       "      <td>0</td>\n",
       "      <td>1</td>\n",
       "      <td>0</td>\n",
       "      <td>0</td>\n",
       "      <td>1</td>\n",
       "      <td>0</td>\n",
       "      <td>0</td>\n",
       "      <td>1</td>\n",
       "      <td>0</td>\n",
       "      <td>0</td>\n",
       "      <td>1</td>\n",
       "    </tr>\n",
       "    <tr>\n",
       "      <th>2</th>\n",
       "      <td>2005</td>\n",
       "      <td>1.500000</td>\n",
       "      <td>4</td>\n",
       "      <td>8</td>\n",
       "      <td>0</td>\n",
       "      <td>0</td>\n",
       "      <td>779.0</td>\n",
       "      <td>8467.0</td>\n",
       "      <td>13956.0</td>\n",
       "      <td>9095.0</td>\n",
       "      <td>0</td>\n",
       "      <td>0</td>\n",
       "      <td>0</td>\n",
       "      <td>0</td>\n",
       "      <td>0</td>\n",
       "      <td>0</td>\n",
       "      <td>0</td>\n",
       "      <td>0</td>\n",
       "      <td>0</td>\n",
       "      <td>1</td>\n",
       "      <td>0</td>\n",
       "      <td>0</td>\n",
       "      <td>0</td>\n",
       "      <td>0</td>\n",
       "      <td>0</td>\n",
       "      <td>1</td>\n",
       "      <td>0</td>\n",
       "      <td>1</td>\n",
       "      <td>0</td>\n",
       "      <td>0</td>\n",
       "      <td>0</td>\n",
       "      <td>0</td>\n",
       "      <td>1</td>\n",
       "      <td>0</td>\n",
       "      <td>0</td>\n",
       "      <td>1</td>\n",
       "      <td>0</td>\n",
       "      <td>1</td>\n",
       "      <td>0</td>\n",
       "    </tr>\n",
       "    <tr>\n",
       "      <th>3</th>\n",
       "      <td>2012</td>\n",
       "      <td>3.199219</td>\n",
       "      <td>6</td>\n",
       "      <td>12</td>\n",
       "      <td>0</td>\n",
       "      <td>0</td>\n",
       "      <td>975.0</td>\n",
       "      <td>15056.0</td>\n",
       "      <td>11917.0</td>\n",
       "      <td>9100.0</td>\n",
       "      <td>0</td>\n",
       "      <td>0</td>\n",
       "      <td>0</td>\n",
       "      <td>0</td>\n",
       "      <td>1</td>\n",
       "      <td>0</td>\n",
       "      <td>0</td>\n",
       "      <td>0</td>\n",
       "      <td>0</td>\n",
       "      <td>0</td>\n",
       "      <td>0</td>\n",
       "      <td>0</td>\n",
       "      <td>0</td>\n",
       "      <td>0</td>\n",
       "      <td>0</td>\n",
       "      <td>1</td>\n",
       "      <td>0</td>\n",
       "      <td>1</td>\n",
       "      <td>0</td>\n",
       "      <td>0</td>\n",
       "      <td>0</td>\n",
       "      <td>1</td>\n",
       "      <td>0</td>\n",
       "      <td>0</td>\n",
       "      <td>0</td>\n",
       "      <td>1</td>\n",
       "      <td>0</td>\n",
       "      <td>0</td>\n",
       "      <td>1</td>\n",
       "    </tr>\n",
       "    <tr>\n",
       "      <th>4</th>\n",
       "      <td>1993</td>\n",
       "      <td>1.599609</td>\n",
       "      <td>4</td>\n",
       "      <td>0</td>\n",
       "      <td>0</td>\n",
       "      <td>0</td>\n",
       "      <td>779.0</td>\n",
       "      <td>6586.0</td>\n",
       "      <td>16935.0</td>\n",
       "      <td>6586.0</td>\n",
       "      <td>0</td>\n",
       "      <td>0</td>\n",
       "      <td>0</td>\n",
       "      <td>1</td>\n",
       "      <td>0</td>\n",
       "      <td>0</td>\n",
       "      <td>0</td>\n",
       "      <td>0</td>\n",
       "      <td>0</td>\n",
       "      <td>0</td>\n",
       "      <td>0</td>\n",
       "      <td>0</td>\n",
       "      <td>0</td>\n",
       "      <td>0</td>\n",
       "      <td>0</td>\n",
       "      <td>1</td>\n",
       "      <td>0</td>\n",
       "      <td>0</td>\n",
       "      <td>1</td>\n",
       "      <td>0</td>\n",
       "      <td>0</td>\n",
       "      <td>0</td>\n",
       "      <td>1</td>\n",
       "      <td>0</td>\n",
       "      <td>0</td>\n",
       "      <td>1</td>\n",
       "      <td>0</td>\n",
       "      <td>0</td>\n",
       "      <td>0</td>\n",
       "    </tr>\n",
       "  </tbody>\n",
       "</table>\n",
       "</div>"
      ],
      "text/plain": [
       "   Prod. year  Engine volume  Cylinders  Airbags  Turbo  New_Car   Levy  \\\n",
       "0        2012       2.000000          4       10      1        1  779.0   \n",
       "1        2012       2.400391          4       10      0        0  779.0   \n",
       "2        2005       1.500000          4        8      0        0  779.0   \n",
       "3        2012       3.199219          6       12      0        0  975.0   \n",
       "4        1993       1.599609          4        0      0        0  779.0   \n",
       "\n",
       "   encoded_Model  encoded_Color  encoded_Manufacturer  x0_Cabriolet  x0_Coupe  \\\n",
       "0         4704.0        18189.0               12544.0             0         0   \n",
       "1        13842.5        18189.0               19130.0             0         0   \n",
       "2         8467.0        13956.0                9095.0             0         0   \n",
       "3        15056.0        11917.0                9100.0             0         0   \n",
       "4         6586.0        16935.0                6586.0             0         0   \n",
       "\n",
       "   x0_Goods wagon  x0_Hatchback  x0_Jeep  x0_Limousine  x0_Microbus  \\\n",
       "0               0             1        0             0            0   \n",
       "1               0             0        0             0            0   \n",
       "2               0             0        0             0            0   \n",
       "3               0             0        1             0            0   \n",
       "4               0             1        0             0            0   \n",
       "\n",
       "   x0_Minivan  x0_Pickup  x0_Sedan  x0_Universal  x1_CNG  x1_Diesel  \\\n",
       "0           0          0         0             0       0          1   \n",
       "1           0          0         1             0       0          0   \n",
       "2           0          0         1             0       0          0   \n",
       "3           0          0         0             0       0          0   \n",
       "4           0          0         0             0       0          0   \n",
       "\n",
       "   x1_Hybrid  x1_LPG  x1_Petrol  x1_Plug-in Hybrid  x2_Automatic  x2_Manual  \\\n",
       "0          0       0          0                  0             0          1   \n",
       "1          0       0          1                  0             0          0   \n",
       "2          0       0          1                  0             1          0   \n",
       "3          0       0          1                  0             1          0   \n",
       "4          0       0          1                  0             0          1   \n",
       "\n",
       "   x2_Tiptronic  x2_Variator  x3_4x4  x3_Front  x3_Rear  x4_02-Mar  x4_04-May  \\\n",
       "0             0            0       0         1        0          1          0   \n",
       "1             1            0       0         1        0          0          1   \n",
       "2             0            0       0         1        0          0          1   \n",
       "3             0            0       1         0        0          0          1   \n",
       "4             0            0       0         1        0          0          1   \n",
       "\n",
       "   x4_>5  x5_Right-hand drive  x6_Yes  \n",
       "0      0                    0       0  \n",
       "1      0                    0       1  \n",
       "2      0                    1       0  \n",
       "3      0                    0       1  \n",
       "4      0                    0       0  "
      ]
     },
     "execution_count": 122,
     "metadata": {},
     "output_type": "execute_result"
    }
   ],
   "source": [
    "te = pd.DataFrame(data = ohe.transform(test[one_hot_categ]),index=test.index,columns=ohe.get_feature_names())\n",
    "test = pd.concat((test,te),axis=1)\n",
    "test.drop(columns=one_hot_categ,inplace=True)"
   ]
  },
  {
   "cell_type": "code",
   "execution_count": 123,
   "id": "80bd6b0d",
   "metadata": {},
   "outputs": [
    {
     "data": {
      "text/plain": [
       "Prod. year                0\n",
       "Engine volume             0\n",
       "Cylinders                 0\n",
       "Airbags                   0\n",
       "Turbo                     0\n",
       "New_Car                   0\n",
       "Levy                      0\n",
       "encoded_Model           455\n",
       "encoded_Color             0\n",
       "encoded_Manufacturer      6\n",
       "x0_Cabriolet              0\n",
       "x0_Coupe                  0\n",
       "x0_Goods wagon            0\n",
       "x0_Hatchback              0\n",
       "x0_Jeep                   0\n",
       "x0_Limousine              0\n",
       "x0_Microbus               0\n",
       "x0_Minivan                0\n",
       "x0_Pickup                 0\n",
       "x0_Sedan                  0\n",
       "x0_Universal              0\n",
       "x1_CNG                    0\n",
       "x1_Diesel                 0\n",
       "x1_Hybrid                 0\n",
       "x1_LPG                    0\n",
       "x1_Petrol                 0\n",
       "x1_Plug-in Hybrid         0\n",
       "x2_Automatic              0\n",
       "x2_Manual                 0\n",
       "x2_Tiptronic              0\n",
       "x2_Variator               0\n",
       "x3_4x4                    0\n",
       "x3_Front                  0\n",
       "x3_Rear                   0\n",
       "x4_02-Mar                 0\n",
       "x4_04-May                 0\n",
       "x4_>5                     0\n",
       "x5_Right-hand drive       0\n",
       "x6_Yes                    0\n",
       "dtype: int64"
      ]
     },
     "execution_count": 123,
     "metadata": {},
     "output_type": "execute_result"
    }
   ],
   "source": [
    "test.isna().sum()"
   ]
  },
  {
   "cell_type": "code",
   "execution_count": 124,
   "id": "90df6647",
   "metadata": {},
   "outputs": [],
   "source": [
    "model_med = tar_enc_dict['Model']['Price'].median()\n",
    "manu_med = tar_enc_dict['Manufacturer']['Price'].median()\n",
    "test['encoded_Model'] = test['encoded_Model'].fillna(model_med)\n",
    "test['encoded_Manufacturer'] = test['encoded_Manufacturer'].fillna(manu_med)"
   ]
  },
  {
   "cell_type": "code",
   "execution_count": 126,
   "id": "dbce742d",
   "metadata": {},
   "outputs": [
    {
     "data": {
      "text/html": [
       "<div>\n",
       "<style scoped>\n",
       "    .dataframe tbody tr th:only-of-type {\n",
       "        vertical-align: middle;\n",
       "    }\n",
       "\n",
       "    .dataframe tbody tr th {\n",
       "        vertical-align: top;\n",
       "    }\n",
       "\n",
       "    .dataframe thead th {\n",
       "        text-align: right;\n",
       "    }\n",
       "</style>\n",
       "<table border=\"1\" class=\"dataframe\">\n",
       "  <thead>\n",
       "    <tr style=\"text-align: right;\">\n",
       "      <th></th>\n",
       "      <th>Prod. year</th>\n",
       "      <th>Engine volume</th>\n",
       "      <th>Cylinders</th>\n",
       "      <th>Airbags</th>\n",
       "      <th>Turbo</th>\n",
       "      <th>New_Car</th>\n",
       "      <th>Levy</th>\n",
       "      <th>encoded_Model</th>\n",
       "      <th>encoded_Color</th>\n",
       "      <th>encoded_Manufacturer</th>\n",
       "      <th>x0_Cabriolet</th>\n",
       "      <th>x0_Coupe</th>\n",
       "      <th>x0_Goods wagon</th>\n",
       "      <th>x0_Hatchback</th>\n",
       "      <th>x0_Jeep</th>\n",
       "      <th>x0_Limousine</th>\n",
       "      <th>x0_Microbus</th>\n",
       "      <th>x0_Minivan</th>\n",
       "      <th>x0_Pickup</th>\n",
       "      <th>x0_Sedan</th>\n",
       "      <th>x0_Universal</th>\n",
       "      <th>x1_CNG</th>\n",
       "      <th>x1_Diesel</th>\n",
       "      <th>x1_Hybrid</th>\n",
       "      <th>x1_LPG</th>\n",
       "      <th>x1_Petrol</th>\n",
       "      <th>x1_Plug-in Hybrid</th>\n",
       "      <th>x2_Automatic</th>\n",
       "      <th>x2_Manual</th>\n",
       "      <th>x2_Tiptronic</th>\n",
       "      <th>x2_Variator</th>\n",
       "      <th>x3_4x4</th>\n",
       "      <th>x3_Front</th>\n",
       "      <th>x3_Rear</th>\n",
       "      <th>x4_02-Mar</th>\n",
       "      <th>x4_04-May</th>\n",
       "      <th>x4_&gt;5</th>\n",
       "      <th>x5_Right-hand drive</th>\n",
       "      <th>x6_Yes</th>\n",
       "    </tr>\n",
       "  </thead>\n",
       "  <tbody>\n",
       "    <tr>\n",
       "      <th>0</th>\n",
       "      <td>2012</td>\n",
       "      <td>2.000000</td>\n",
       "      <td>4</td>\n",
       "      <td>10</td>\n",
       "      <td>1</td>\n",
       "      <td>1</td>\n",
       "      <td>779.0</td>\n",
       "      <td>4704.0</td>\n",
       "      <td>18189.0</td>\n",
       "      <td>12544.0</td>\n",
       "      <td>0</td>\n",
       "      <td>0</td>\n",
       "      <td>0</td>\n",
       "      <td>1</td>\n",
       "      <td>0</td>\n",
       "      <td>0</td>\n",
       "      <td>0</td>\n",
       "      <td>0</td>\n",
       "      <td>0</td>\n",
       "      <td>0</td>\n",
       "      <td>0</td>\n",
       "      <td>0</td>\n",
       "      <td>1</td>\n",
       "      <td>0</td>\n",
       "      <td>0</td>\n",
       "      <td>0</td>\n",
       "      <td>0</td>\n",
       "      <td>0</td>\n",
       "      <td>1</td>\n",
       "      <td>0</td>\n",
       "      <td>0</td>\n",
       "      <td>0</td>\n",
       "      <td>1</td>\n",
       "      <td>0</td>\n",
       "      <td>1</td>\n",
       "      <td>0</td>\n",
       "      <td>0</td>\n",
       "      <td>0</td>\n",
       "      <td>0</td>\n",
       "    </tr>\n",
       "    <tr>\n",
       "      <th>1</th>\n",
       "      <td>2012</td>\n",
       "      <td>2.400391</td>\n",
       "      <td>4</td>\n",
       "      <td>10</td>\n",
       "      <td>0</td>\n",
       "      <td>0</td>\n",
       "      <td>779.0</td>\n",
       "      <td>13842.5</td>\n",
       "      <td>18189.0</td>\n",
       "      <td>19130.0</td>\n",
       "      <td>0</td>\n",
       "      <td>0</td>\n",
       "      <td>0</td>\n",
       "      <td>0</td>\n",
       "      <td>0</td>\n",
       "      <td>0</td>\n",
       "      <td>0</td>\n",
       "      <td>0</td>\n",
       "      <td>0</td>\n",
       "      <td>1</td>\n",
       "      <td>0</td>\n",
       "      <td>0</td>\n",
       "      <td>0</td>\n",
       "      <td>0</td>\n",
       "      <td>0</td>\n",
       "      <td>1</td>\n",
       "      <td>0</td>\n",
       "      <td>0</td>\n",
       "      <td>0</td>\n",
       "      <td>1</td>\n",
       "      <td>0</td>\n",
       "      <td>0</td>\n",
       "      <td>1</td>\n",
       "      <td>0</td>\n",
       "      <td>0</td>\n",
       "      <td>1</td>\n",
       "      <td>0</td>\n",
       "      <td>0</td>\n",
       "      <td>1</td>\n",
       "    </tr>\n",
       "    <tr>\n",
       "      <th>2</th>\n",
       "      <td>2005</td>\n",
       "      <td>1.500000</td>\n",
       "      <td>4</td>\n",
       "      <td>8</td>\n",
       "      <td>0</td>\n",
       "      <td>0</td>\n",
       "      <td>779.0</td>\n",
       "      <td>8467.0</td>\n",
       "      <td>13956.0</td>\n",
       "      <td>9095.0</td>\n",
       "      <td>0</td>\n",
       "      <td>0</td>\n",
       "      <td>0</td>\n",
       "      <td>0</td>\n",
       "      <td>0</td>\n",
       "      <td>0</td>\n",
       "      <td>0</td>\n",
       "      <td>0</td>\n",
       "      <td>0</td>\n",
       "      <td>1</td>\n",
       "      <td>0</td>\n",
       "      <td>0</td>\n",
       "      <td>0</td>\n",
       "      <td>0</td>\n",
       "      <td>0</td>\n",
       "      <td>1</td>\n",
       "      <td>0</td>\n",
       "      <td>1</td>\n",
       "      <td>0</td>\n",
       "      <td>0</td>\n",
       "      <td>0</td>\n",
       "      <td>0</td>\n",
       "      <td>1</td>\n",
       "      <td>0</td>\n",
       "      <td>0</td>\n",
       "      <td>1</td>\n",
       "      <td>0</td>\n",
       "      <td>1</td>\n",
       "      <td>0</td>\n",
       "    </tr>\n",
       "    <tr>\n",
       "      <th>3</th>\n",
       "      <td>2012</td>\n",
       "      <td>3.199219</td>\n",
       "      <td>6</td>\n",
       "      <td>12</td>\n",
       "      <td>0</td>\n",
       "      <td>0</td>\n",
       "      <td>975.0</td>\n",
       "      <td>15056.0</td>\n",
       "      <td>11917.0</td>\n",
       "      <td>9100.0</td>\n",
       "      <td>0</td>\n",
       "      <td>0</td>\n",
       "      <td>0</td>\n",
       "      <td>0</td>\n",
       "      <td>1</td>\n",
       "      <td>0</td>\n",
       "      <td>0</td>\n",
       "      <td>0</td>\n",
       "      <td>0</td>\n",
       "      <td>0</td>\n",
       "      <td>0</td>\n",
       "      <td>0</td>\n",
       "      <td>0</td>\n",
       "      <td>0</td>\n",
       "      <td>0</td>\n",
       "      <td>1</td>\n",
       "      <td>0</td>\n",
       "      <td>1</td>\n",
       "      <td>0</td>\n",
       "      <td>0</td>\n",
       "      <td>0</td>\n",
       "      <td>1</td>\n",
       "      <td>0</td>\n",
       "      <td>0</td>\n",
       "      <td>0</td>\n",
       "      <td>1</td>\n",
       "      <td>0</td>\n",
       "      <td>0</td>\n",
       "      <td>1</td>\n",
       "    </tr>\n",
       "    <tr>\n",
       "      <th>4</th>\n",
       "      <td>1993</td>\n",
       "      <td>1.599609</td>\n",
       "      <td>4</td>\n",
       "      <td>0</td>\n",
       "      <td>0</td>\n",
       "      <td>0</td>\n",
       "      <td>779.0</td>\n",
       "      <td>6586.0</td>\n",
       "      <td>16935.0</td>\n",
       "      <td>6586.0</td>\n",
       "      <td>0</td>\n",
       "      <td>0</td>\n",
       "      <td>0</td>\n",
       "      <td>1</td>\n",
       "      <td>0</td>\n",
       "      <td>0</td>\n",
       "      <td>0</td>\n",
       "      <td>0</td>\n",
       "      <td>0</td>\n",
       "      <td>0</td>\n",
       "      <td>0</td>\n",
       "      <td>0</td>\n",
       "      <td>0</td>\n",
       "      <td>0</td>\n",
       "      <td>0</td>\n",
       "      <td>1</td>\n",
       "      <td>0</td>\n",
       "      <td>0</td>\n",
       "      <td>1</td>\n",
       "      <td>0</td>\n",
       "      <td>0</td>\n",
       "      <td>0</td>\n",
       "      <td>1</td>\n",
       "      <td>0</td>\n",
       "      <td>0</td>\n",
       "      <td>1</td>\n",
       "      <td>0</td>\n",
       "      <td>0</td>\n",
       "      <td>0</td>\n",
       "    </tr>\n",
       "  </tbody>\n",
       "</table>\n",
       "</div>"
      ],
      "text/plain": [
       "   Prod. year  Engine volume  Cylinders  Airbags  Turbo  New_Car   Levy  \\\n",
       "0        2012       2.000000          4       10      1        1  779.0   \n",
       "1        2012       2.400391          4       10      0        0  779.0   \n",
       "2        2005       1.500000          4        8      0        0  779.0   \n",
       "3        2012       3.199219          6       12      0        0  975.0   \n",
       "4        1993       1.599609          4        0      0        0  779.0   \n",
       "\n",
       "   encoded_Model  encoded_Color  encoded_Manufacturer  x0_Cabriolet  x0_Coupe  \\\n",
       "0         4704.0        18189.0               12544.0             0         0   \n",
       "1        13842.5        18189.0               19130.0             0         0   \n",
       "2         8467.0        13956.0                9095.0             0         0   \n",
       "3        15056.0        11917.0                9100.0             0         0   \n",
       "4         6586.0        16935.0                6586.0             0         0   \n",
       "\n",
       "   x0_Goods wagon  x0_Hatchback  x0_Jeep  x0_Limousine  x0_Microbus  \\\n",
       "0               0             1        0             0            0   \n",
       "1               0             0        0             0            0   \n",
       "2               0             0        0             0            0   \n",
       "3               0             0        1             0            0   \n",
       "4               0             1        0             0            0   \n",
       "\n",
       "   x0_Minivan  x0_Pickup  x0_Sedan  x0_Universal  x1_CNG  x1_Diesel  \\\n",
       "0           0          0         0             0       0          1   \n",
       "1           0          0         1             0       0          0   \n",
       "2           0          0         1             0       0          0   \n",
       "3           0          0         0             0       0          0   \n",
       "4           0          0         0             0       0          0   \n",
       "\n",
       "   x1_Hybrid  x1_LPG  x1_Petrol  x1_Plug-in Hybrid  x2_Automatic  x2_Manual  \\\n",
       "0          0       0          0                  0             0          1   \n",
       "1          0       0          1                  0             0          0   \n",
       "2          0       0          1                  0             1          0   \n",
       "3          0       0          1                  0             1          0   \n",
       "4          0       0          1                  0             0          1   \n",
       "\n",
       "   x2_Tiptronic  x2_Variator  x3_4x4  x3_Front  x3_Rear  x4_02-Mar  x4_04-May  \\\n",
       "0             0            0       0         1        0          1          0   \n",
       "1             1            0       0         1        0          0          1   \n",
       "2             0            0       0         1        0          0          1   \n",
       "3             0            0       1         0        0          0          1   \n",
       "4             0            0       0         1        0          0          1   \n",
       "\n",
       "   x4_>5  x5_Right-hand drive  x6_Yes  \n",
       "0      0                    0       0  \n",
       "1      0                    0       1  \n",
       "2      0                    1       0  \n",
       "3      0                    0       1  \n",
       "4      0                    0       0  "
      ]
     },
     "execution_count": 126,
     "metadata": {},
     "output_type": "execute_result"
    }
   ],
   "source": [
    "test.head()"
   ]
  },
  {
   "cell_type": "code",
   "execution_count": 135,
   "id": "c139d67e",
   "metadata": {},
   "outputs": [],
   "source": [
    "x_test = ss1.transform(test)\n",
    "y_test = f_model.predict(x_test)"
   ]
  },
  {
   "cell_type": "code",
   "execution_count": 136,
   "id": "9164ec22",
   "metadata": {},
   "outputs": [
    {
     "data": {
      "text/html": [
       "<div>\n",
       "<style scoped>\n",
       "    .dataframe tbody tr th:only-of-type {\n",
       "        vertical-align: middle;\n",
       "    }\n",
       "\n",
       "    .dataframe tbody tr th {\n",
       "        vertical-align: top;\n",
       "    }\n",
       "\n",
       "    .dataframe thead th {\n",
       "        text-align: right;\n",
       "    }\n",
       "</style>\n",
       "<table border=\"1\" class=\"dataframe\">\n",
       "  <thead>\n",
       "    <tr style=\"text-align: right;\">\n",
       "      <th></th>\n",
       "      <th>0</th>\n",
       "    </tr>\n",
       "  </thead>\n",
       "  <tbody>\n",
       "    <tr>\n",
       "      <th>0</th>\n",
       "      <td>14930.298162</td>\n",
       "    </tr>\n",
       "    <tr>\n",
       "      <th>1</th>\n",
       "      <td>17999.895868</td>\n",
       "    </tr>\n",
       "    <tr>\n",
       "      <th>2</th>\n",
       "      <td>8132.359587</td>\n",
       "    </tr>\n",
       "    <tr>\n",
       "      <th>3</th>\n",
       "      <td>12883.191199</td>\n",
       "    </tr>\n",
       "    <tr>\n",
       "      <th>4</th>\n",
       "      <td>4787.603994</td>\n",
       "    </tr>\n",
       "  </tbody>\n",
       "</table>\n",
       "</div>"
      ],
      "text/plain": [
       "              0\n",
       "0  14930.298162\n",
       "1  17999.895868\n",
       "2   8132.359587\n",
       "3  12883.191199\n",
       "4   4787.603994"
      ]
     },
     "execution_count": 136,
     "metadata": {},
     "output_type": "execute_result"
    }
   ],
   "source": [
    "y_test = y_test.reshape((-1,1))\n",
    "y_test = pd.DataFrame(y_test)\n",
    "y_test.head()"
   ]
  },
  {
   "cell_type": "code",
   "execution_count": 137,
   "id": "dcf96692",
   "metadata": {},
   "outputs": [],
   "source": [
    "y_test.to_csv(\"submission.csv\",header='Price',index=False)"
   ]
  }
 ],
 "metadata": {
  "kernelspec": {
   "display_name": "Python 3 (ipykernel)",
   "language": "python",
   "name": "python3"
  },
  "language_info": {
   "codemirror_mode": {
    "name": "ipython",
    "version": 3
   },
   "file_extension": ".py",
   "mimetype": "text/x-python",
   "name": "python",
   "nbconvert_exporter": "python",
   "pygments_lexer": "ipython3",
   "version": "3.12.4"
  }
 },
 "nbformat": 4,
 "nbformat_minor": 5
}
